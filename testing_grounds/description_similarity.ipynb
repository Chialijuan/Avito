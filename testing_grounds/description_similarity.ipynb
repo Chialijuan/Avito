{
 "cells": [
  {
   "cell_type": "code",
   "execution_count": 5,
   "metadata": {
    "collapsed": true
   },
   "outputs": [],
   "source": [
    "def f(a,b):\n",
    "    if len(a) !=0 and len(b) !=0:\n",
    "        return (a+b)\n",
    "    else:\n",
    "        return 0"
   ]
  },
  {
   "cell_type": "code",
   "execution_count": 7,
   "metadata": {},
   "outputs": [
    {
     "data": {
      "text/plain": [
       "0"
      ]
     },
     "execution_count": 7,
     "metadata": {},
     "output_type": "execute_result"
    }
   ],
   "source": [
    "f([],[])"
   ]
  },
  {
   "cell_type": "code",
   "execution_count": 1,
   "metadata": {
    "collapsed": true
   },
   "outputs": [],
   "source": [
    "from __future__ import unicode_literals\n",
    "import pandas as pd"
   ]
  },
  {
   "cell_type": "code",
   "execution_count": 2,
   "metadata": {
    "collapsed": true
   },
   "outputs": [],
   "source": [
    "pd.options.display.max_colwidth = -1\n",
    "pd.options.display.max_columns = None"
   ]
  },
  {
   "cell_type": "code",
   "execution_count": 3,
   "metadata": {
    "collapsed": true
   },
   "outputs": [],
   "source": [
    "filepath = '~/Documents/Avito/'\n",
    "df = pd.read_csv('ItemInfo_train5.csv',encoding='utf-8'\n",
    "                 ,usecols=['description_x_clean','description_y_clean']\n",
    "                 ,converters={'description_x_clean': lambda x: x.strip(u'[]').split(', ')\n",
    "                 ,'description_y_clean': lambda x: x.strip('[]').split(', ')}\n",
    "                ,nrows=10)\n",
    "                             \n",
    "#usecols=['description_clean'],"
   ]
  },
  {
   "cell_type": "code",
   "execution_count": 7,
   "metadata": {
    "scrolled": true
   },
   "outputs": [
    {
     "name": "stdout",
     "output_type": "stream",
     "text": [
      "The slowest run took 6.11 times longer than the fastest. This could mean that an intermediate result is being cached.\n",
      "10000 loops, best of 3: 53 µs per loop\n"
     ]
    }
   ],
   "source": [
    "df.head()"
   ]
  },
  {
   "cell_type": "code",
   "execution_count": 8,
   "metadata": {},
   "outputs": [
    {
     "name": "stdout",
     "output_type": "stream",
     "text": [
      "The slowest run took 39.43 times longer than the fastest. This could mean that an intermediate result is being cached.\n",
      "100000 loops, best of 3: 10.6 µs per loop\n"
     ]
    }
   ],
   "source": [
    "%timeit df['description_x_clean'][3]"
   ]
  },
  {
   "cell_type": "code",
   "execution_count": 5,
   "metadata": {
    "collapsed": true
   },
   "outputs": [],
   "source": [
    "df['desc'] = df[['description_x_clean', 'description_y_clean']].values.tolist()"
   ]
  },
  {
   "cell_type": "code",
   "execution_count": 27,
   "metadata": {
    "collapsed": true
   },
   "outputs": [],
   "source": [
    "df.drop(['description_x_clean','description_y_clean'], axis=1, inplace=True)"
   ]
  },
  {
   "cell_type": "code",
   "execution_count": 28,
   "metadata": {},
   "outputs": [
    {
     "data": {
      "text/html": [
       "<div>\n",
       "<style>\n",
       "    .dataframe thead tr:only-child th {\n",
       "        text-align: right;\n",
       "    }\n",
       "\n",
       "    .dataframe thead th {\n",
       "        text-align: left;\n",
       "    }\n",
       "\n",
       "    .dataframe tbody tr th {\n",
       "        vertical-align: top;\n",
       "    }\n",
       "</style>\n",
       "<table border=\"1\" class=\"dataframe\">\n",
       "  <thead>\n",
       "    <tr style=\"text-align: right;\">\n",
       "      <th></th>\n",
       "      <th>description_similarity</th>\n",
       "      <th>desc</th>\n",
       "    </tr>\n",
       "  </thead>\n",
       "  <tbody>\n",
       "    <tr>\n",
       "      <th>0</th>\n",
       "      <td>1.000000</td>\n",
       "      <td>[[продам, камаз, 6520, 20, тонн], [продам, камаз, 6520, 20, тонн]]</td>\n",
       "    </tr>\n",
       "    <tr>\n",
       "      <th>1</th>\n",
       "      <td>0.698324</td>\n",
       "      <td>[[тюнинге], [тюнинге, возможен, торг]]</td>\n",
       "    </tr>\n",
       "    <tr>\n",
       "      <th>2</th>\n",
       "      <td>0.902371</td>\n",
       "      <td>[[телефон, хорошем, состоянии, трещин, сколов, менялся, аккумуляторпоэтому, заряд, держит, остальное, родное, целом, работает, отлично, комплекте, кабель, обмен, интересен, лежит, дела, продажа], [отличном, состоянии, комплекте, зарядник, кабель, обмена]]</td>\n",
       "    </tr>\n",
       "    <tr>\n",
       "      <th>3</th>\n",
       "      <td>1.000000</td>\n",
       "      <td>[[отличный, подарок, новый, китайской, apple, новый, упаковке, коробку, вместе, вскроем, экран, 5, дюймов, 1080p, sharpjdi, ogs, возможно, использование, перчатках, цвет, корпуса, белый, материалы, корпуса, пластик, металл, стекло, процессор, qualcomm, snapdragon, 801, 8x74ac, 25ггц, видео, adreno, 330, 578, мгц, озу, 3гб, lpddr3, 933мгц, память, 16гб, emmc, 50, камера, задняя, 13мп, sony, imx214, f18, 6, линз, камера, передняя, 8мп, sony, imx219, f18, 5, линз, wifi, 80211, abgnac, 245ггц, bluetooth, 40, навигация, gpsglonass, сенсоры, икпорт, датчик, освещенности, барометр, компас, датчик, силы, тяжести, симкарта, microsim, аккумулятор, 3080, мач, быстрая, зарядка, 9v12a, 5v2a, дополнительно, поддержка, smart, cover, case, ширина, 685, мм, высота, 1392, мм, толщина, ...], [отличный, подарок, новый, китайской, apple, новый, упаковке, коробку, вместе, вскроем, экран, 5, дюймов, 1080p, sharpjdi, ogs, возможно, использование, перчатках, цвет, корпуса, белый, материалы, корпуса, пластик, металл, стекло, процессор, qualcomm, snapdragon, 801, 8x74ac, 25ггц, видео, adreno, 330, 578, мгц, озу, 3гб, lpddr3, 933мгц, память, 16гб, emmc, 50, камера, задняя, 13мп, sony, imx214, f18, 6, линз, камера, передняя, 8мп, sony, imx219, f18, 5, линз, wifi, 80211, abgnac, 245ггц, bluetooth, 40, навигация, gpsglonass, сенсоры, икпорт, датчик, освещенности, барометр, компас, датчик, силы, тяжести, симкарта, microsim, аккумулятор, 3080, мач, быстрая, зарядка, 9v12a, 5v2a, дополнительно, поддержка, smart, cover, case, ширина, 685, мм, высота, 1392, мм, толщина, ...]]</td>\n",
       "    </tr>\n",
       "    <tr>\n",
       "      <th>4</th>\n",
       "      <td>0.983680</td>\n",
       "      <td>[[лыжные, ботинки, хорошем, состоянии, 34, размер], [ботинки, 34, размер, хорошем, состоянии]]</td>\n",
       "    </tr>\n",
       "  </tbody>\n",
       "</table>\n",
       "</div>"
      ],
      "text/plain": [
       "   description_similarity  \\\n",
       "0  1.000000                 \n",
       "1  0.698324                 \n",
       "2  0.902371                 \n",
       "3  1.000000                 \n",
       "4  0.983680                 \n",
       "\n",
       "                                                                                                                                                                                                                                                                                                                                                                                                                                                                                                                                                                                                                                                                                                                                                                                                                                                                                                                                                                                                                                                                                                                                                                                                                                                                                                                                                                                                                                                                                                                                                                                                                             desc  \n",
       "0  [[продам, камаз, 6520, 20, тонн], [продам, камаз, 6520, 20, тонн]]                                                                                                                                                                                                                                                                                                                                                                                                                                                                                                                                                                                                                                                                                                                                                                                                                                                                                                                                                                                                                                                                                                                                                                                                                                                                                                                                                                                                                                                                                                                                                              \n",
       "1  [[тюнинге], [тюнинге, возможен, торг]]                                                                                                                                                                                                                                                                                                                                                                                                                                                                                                                                                                                                                                                                                                                                                                                                                                                                                                                                                                                                                                                                                                                                                                                                                                                                                                                                                                                                                                                                                                                                                                                          \n",
       "2  [[телефон, хорошем, состоянии, трещин, сколов, менялся, аккумуляторпоэтому, заряд, держит, остальное, родное, целом, работает, отлично, комплекте, кабель, обмен, интересен, лежит, дела, продажа], [отличном, состоянии, комплекте, зарядник, кабель, обмена]]                                                                                                                                                                                                                                                                                                                                                                                                                                                                                                                                                                                                                                                                                                                                                                                                                                                                                                                                                                                                                                                                                                                                                                                                                                                                                                                                                                 \n",
       "3  [[отличный, подарок, новый, китайской, apple, новый, упаковке, коробку, вместе, вскроем, экран, 5, дюймов, 1080p, sharpjdi, ogs, возможно, использование, перчатках, цвет, корпуса, белый, материалы, корпуса, пластик, металл, стекло, процессор, qualcomm, snapdragon, 801, 8x74ac, 25ггц, видео, adreno, 330, 578, мгц, озу, 3гб, lpddr3, 933мгц, память, 16гб, emmc, 50, камера, задняя, 13мп, sony, imx214, f18, 6, линз, камера, передняя, 8мп, sony, imx219, f18, 5, линз, wifi, 80211, abgnac, 245ггц, bluetooth, 40, навигация, gpsglonass, сенсоры, икпорт, датчик, освещенности, барометр, компас, датчик, силы, тяжести, симкарта, microsim, аккумулятор, 3080, мач, быстрая, зарядка, 9v12a, 5v2a, дополнительно, поддержка, smart, cover, case, ширина, 685, мм, высота, 1392, мм, толщина, ...], [отличный, подарок, новый, китайской, apple, новый, упаковке, коробку, вместе, вскроем, экран, 5, дюймов, 1080p, sharpjdi, ogs, возможно, использование, перчатках, цвет, корпуса, белый, материалы, корпуса, пластик, металл, стекло, процессор, qualcomm, snapdragon, 801, 8x74ac, 25ггц, видео, adreno, 330, 578, мгц, озу, 3гб, lpddr3, 933мгц, память, 16гб, emmc, 50, камера, задняя, 13мп, sony, imx214, f18, 6, линз, камера, передняя, 8мп, sony, imx219, f18, 5, линз, wifi, 80211, abgnac, 245ггц, bluetooth, 40, навигация, gpsglonass, сенсоры, икпорт, датчик, освещенности, барометр, компас, датчик, силы, тяжести, симкарта, microsim, аккумулятор, 3080, мач, быстрая, зарядка, 9v12a, 5v2a, дополнительно, поддержка, smart, cover, case, ширина, 685, мм, высота, 1392, мм, толщина, ...]]  \n",
       "4  [[лыжные, ботинки, хорошем, состоянии, 34, размер], [ботинки, 34, размер, хорошем, состоянии]]                                                                                                                                                                                                                                                                                                                                                                                                                                                                                                                                                                                                                                                                                                                                                                                                                                                                                                                                                                                                                                                                                                                                                                                                                                                                                                                                                                                                                                                                                                                                  "
      ]
     },
     "execution_count": 28,
     "metadata": {},
     "output_type": "execute_result"
    }
   ],
   "source": [
    "df.head()"
   ]
  },
  {
   "cell_type": "markdown",
   "metadata": {},
   "source": [
    "### Word2Vec \n",
    "- compute similarity between 2 documents (`description`)"
   ]
  },
  {
   "cell_type": "code",
   "execution_count": 8,
   "metadata": {
    "scrolled": true
   },
   "outputs": [
    {
     "name": "stderr",
     "output_type": "stream",
     "text": [
      "Using TensorFlow backend.\n"
     ]
    }
   ],
   "source": [
    "from gensim import models, similarities"
   ]
  },
  {
   "cell_type": "code",
   "execution_count": null,
   "metadata": {
    "collapsed": true
   },
   "outputs": [],
   "source": [
    "# model_new.wv.similarity('продам','размер')"
   ]
  },
  {
   "cell_type": "code",
   "execution_count": null,
   "metadata": {
    "collapsed": true
   },
   "outputs": [],
   "source": [
    "model_doc = models.doc2vec.Doc2Vec.load('description_doc')"
   ]
  },
  {
   "cell_type": "code",
   "execution_count": 9,
   "metadata": {},
   "outputs": [
    {
     "ename": "MemoryError",
     "evalue": "",
     "output_type": "error",
     "traceback": [
      "\u001b[0;31m---------------------------------------------------------------------------\u001b[0m",
      "\u001b[0;31mMemoryError\u001b[0m                               Traceback (most recent call last)",
      "\u001b[0;32m<ipython-input-9-a9f177b41452>\u001b[0m in \u001b[0;36m<module>\u001b[0;34m()\u001b[0m\n\u001b[0;32m----> 1\u001b[0;31m \u001b[0mmodel_word\u001b[0m \u001b[0;34m=\u001b[0m \u001b[0mmodels\u001b[0m\u001b[0;34m.\u001b[0m\u001b[0mword2vec\u001b[0m\u001b[0;34m.\u001b[0m\u001b[0mWord2Vec\u001b[0m\u001b[0;34m.\u001b[0m\u001b[0mload\u001b[0m\u001b[0;34m(\u001b[0m\u001b[0;34m'description_2vec.model'\u001b[0m\u001b[0;34m)\u001b[0m\u001b[0;34m\u001b[0m\u001b[0m\n\u001b[0m",
      "\u001b[0;32m/home/juan/anaconda2/lib/python2.7/site-packages/gensim/models/word2vec.pyc\u001b[0m in \u001b[0;36mload\u001b[0;34m(cls, *args, **kwargs)\u001b[0m\n\u001b[1;32m   1410\u001b[0m     \u001b[0;34m@\u001b[0m\u001b[0mclassmethod\u001b[0m\u001b[0;34m\u001b[0m\u001b[0m\n\u001b[1;32m   1411\u001b[0m     \u001b[0;32mdef\u001b[0m \u001b[0mload\u001b[0m\u001b[0;34m(\u001b[0m\u001b[0mcls\u001b[0m\u001b[0;34m,\u001b[0m \u001b[0;34m*\u001b[0m\u001b[0margs\u001b[0m\u001b[0;34m,\u001b[0m \u001b[0;34m**\u001b[0m\u001b[0mkwargs\u001b[0m\u001b[0;34m)\u001b[0m\u001b[0;34m:\u001b[0m\u001b[0;34m\u001b[0m\u001b[0m\n\u001b[0;32m-> 1412\u001b[0;31m         \u001b[0mmodel\u001b[0m \u001b[0;34m=\u001b[0m \u001b[0msuper\u001b[0m\u001b[0;34m(\u001b[0m\u001b[0mWord2Vec\u001b[0m\u001b[0;34m,\u001b[0m \u001b[0mcls\u001b[0m\u001b[0;34m)\u001b[0m\u001b[0;34m.\u001b[0m\u001b[0mload\u001b[0m\u001b[0;34m(\u001b[0m\u001b[0;34m*\u001b[0m\u001b[0margs\u001b[0m\u001b[0;34m,\u001b[0m \u001b[0;34m**\u001b[0m\u001b[0mkwargs\u001b[0m\u001b[0;34m)\u001b[0m\u001b[0;34m\u001b[0m\u001b[0m\n\u001b[0m\u001b[1;32m   1413\u001b[0m         \u001b[0;31m# update older models\u001b[0m\u001b[0;34m\u001b[0m\u001b[0;34m\u001b[0m\u001b[0m\n\u001b[1;32m   1414\u001b[0m         \u001b[0;32mif\u001b[0m \u001b[0mhasattr\u001b[0m\u001b[0;34m(\u001b[0m\u001b[0mmodel\u001b[0m\u001b[0;34m,\u001b[0m \u001b[0;34m'table'\u001b[0m\u001b[0;34m)\u001b[0m\u001b[0;34m:\u001b[0m\u001b[0;34m\u001b[0m\u001b[0m\n",
      "\u001b[0;32m/home/juan/anaconda2/lib/python2.7/site-packages/gensim/utils.pyc\u001b[0m in \u001b[0;36mload\u001b[0;34m(cls, fname, mmap)\u001b[0m\n\u001b[1;32m    274\u001b[0m         \u001b[0mcompress\u001b[0m\u001b[0;34m,\u001b[0m \u001b[0msubname\u001b[0m \u001b[0;34m=\u001b[0m \u001b[0mSaveLoad\u001b[0m\u001b[0;34m.\u001b[0m\u001b[0m_adapt_by_suffix\u001b[0m\u001b[0;34m(\u001b[0m\u001b[0mfname\u001b[0m\u001b[0;34m)\u001b[0m\u001b[0;34m\u001b[0m\u001b[0m\n\u001b[1;32m    275\u001b[0m \u001b[0;34m\u001b[0m\u001b[0m\n\u001b[0;32m--> 276\u001b[0;31m         \u001b[0mobj\u001b[0m \u001b[0;34m=\u001b[0m \u001b[0munpickle\u001b[0m\u001b[0;34m(\u001b[0m\u001b[0mfname\u001b[0m\u001b[0;34m)\u001b[0m\u001b[0;34m\u001b[0m\u001b[0m\n\u001b[0m\u001b[1;32m    277\u001b[0m         \u001b[0mobj\u001b[0m\u001b[0;34m.\u001b[0m\u001b[0m_load_specials\u001b[0m\u001b[0;34m(\u001b[0m\u001b[0mfname\u001b[0m\u001b[0;34m,\u001b[0m \u001b[0mmmap\u001b[0m\u001b[0;34m,\u001b[0m \u001b[0mcompress\u001b[0m\u001b[0;34m,\u001b[0m \u001b[0msubname\u001b[0m\u001b[0;34m)\u001b[0m\u001b[0;34m\u001b[0m\u001b[0m\n\u001b[1;32m    278\u001b[0m         \u001b[0mlogger\u001b[0m\u001b[0;34m.\u001b[0m\u001b[0minfo\u001b[0m\u001b[0;34m(\u001b[0m\u001b[0;34m\"loaded %s\"\u001b[0m\u001b[0;34m,\u001b[0m \u001b[0mfname\u001b[0m\u001b[0;34m)\u001b[0m\u001b[0;34m\u001b[0m\u001b[0m\n",
      "\u001b[0;32m/home/juan/anaconda2/lib/python2.7/site-packages/gensim/utils.pyc\u001b[0m in \u001b[0;36munpickle\u001b[0;34m(fname)\u001b[0m\n\u001b[1;32m    938\u001b[0m             \u001b[0;32mreturn\u001b[0m \u001b[0m_pickle\u001b[0m\u001b[0;34m.\u001b[0m\u001b[0mload\u001b[0m\u001b[0;34m(\u001b[0m\u001b[0mf\u001b[0m\u001b[0;34m,\u001b[0m \u001b[0mencoding\u001b[0m\u001b[0;34m=\u001b[0m\u001b[0;34m'latin1'\u001b[0m\u001b[0;34m)\u001b[0m\u001b[0;34m\u001b[0m\u001b[0m\n\u001b[1;32m    939\u001b[0m         \u001b[0;32melse\u001b[0m\u001b[0;34m:\u001b[0m\u001b[0;34m\u001b[0m\u001b[0m\n\u001b[0;32m--> 940\u001b[0;31m             \u001b[0;32mreturn\u001b[0m \u001b[0m_pickle\u001b[0m\u001b[0;34m.\u001b[0m\u001b[0mloads\u001b[0m\u001b[0;34m(\u001b[0m\u001b[0mf\u001b[0m\u001b[0;34m.\u001b[0m\u001b[0mread\u001b[0m\u001b[0;34m(\u001b[0m\u001b[0;34m)\u001b[0m\u001b[0;34m)\u001b[0m\u001b[0;34m\u001b[0m\u001b[0m\n\u001b[0m\u001b[1;32m    941\u001b[0m \u001b[0;34m\u001b[0m\u001b[0m\n\u001b[1;32m    942\u001b[0m \u001b[0;34m\u001b[0m\u001b[0m\n",
      "\u001b[0;31mMemoryError\u001b[0m: "
     ]
    }
   ],
   "source": [
    "model_word = models.word2vec.Word2Vec.load('description_2vec.model')"
   ]
  },
  {
   "cell_type": "code",
   "execution_count": 9,
   "metadata": {
    "collapsed": true
   },
   "outputs": [],
   "source": [
    "def remove_unknown_words(row):\n",
    "    sent=[]\n",
    "    for word in row:\n",
    "        if word in set(model_word.wv.index2word):\n",
    "            sent.append(word)\n",
    "    return sent"
   ]
  },
  {
   "cell_type": "code",
   "execution_count": 4,
   "metadata": {
    "collapsed": true
   },
   "outputs": [],
   "source": [
    "def doc_sim(row):\n",
    "    try:\n",
    "        print(row[0])\n",
    "        return  model_word.n_similarity(row[0],row[1])\n",
    "        \n",
    "    except:\n",
    "        return model_word.n_similarity(remove_unknown_words(row[0]),\n",
    "                                       remove_unknown_words(row[1]))"
   ]
  },
  {
   "cell_type": "code",
   "execution_count": 18,
   "metadata": {
    "collapsed": true
   },
   "outputs": [],
   "source": [
    "import multiprocessing as mp\n",
    "from multiprocessing.dummy import Pool as ThreadPool\n",
    "from contextlib import closing"
   ]
  },
  {
   "cell_type": "code",
   "execution_count": null,
   "metadata": {
    "collapsed": true
   },
   "outputs": [],
   "source": [
    "pool = ThreadPool(4)\n",
    "%timeit df['description_similarity'] = pool.map(doc_sim,df['desc'])"
   ]
  },
  {
   "cell_type": "code",
   "execution_count": null,
   "metadata": {
    "collapsed": true
   },
   "outputs": [],
   "source": [
    "p = mp.Pool(3)\n",
    "results = p.imap(doc_sim,df['desc'],10)"
   ]
  },
  {
   "cell_type": "code",
   "execution_count": null,
   "metadata": {
    "collapsed": true
   },
   "outputs": [],
   "source": [
    "results"
   ]
  },
  {
   "cell_type": "code",
   "execution_count": null,
   "metadata": {
    "collapsed": true
   },
   "outputs": [],
   "source": [
    "with closing(mp.Pool(3)) as p:\n",
    "#     lst =[]\n",
    "#     lst.append(p.imap(doc_sim,df,10))\n",
    "    df['description_similarity'] = p.map(doc_sim,df)\n",
    "    p.terminate()"
   ]
  },
  {
   "cell_type": "code",
   "execution_count": 6,
   "metadata": {},
   "outputs": [
    {
     "name": "stdout",
     "output_type": "stream",
     "text": [
      "[u'\\u043f\\u0440\\u043e\\u0434\\u0430\\u043c', u'\\u043a\\u0430\\u043c\\u0430\\u0437', u'6520', u'20', u'\\u0442\\u043e\\u043d\\u043d']\n"
     ]
    },
    {
     "ename": "NameError",
     "evalue": "global name 'model_word' is not defined",
     "output_type": "error",
     "traceback": [
      "\u001b[0;31m---------------------------------------------------------------------------\u001b[0m",
      "\u001b[0;31mNameError\u001b[0m                                 Traceback (most recent call last)",
      "\u001b[0;32m<ipython-input-6-6e06f56d3463>\u001b[0m in \u001b[0;36m<module>\u001b[0;34m()\u001b[0m\n\u001b[0;32m----> 1\u001b[0;31m \u001b[0mdf\u001b[0m\u001b[0;34m[\u001b[0m\u001b[0;34m'description_similarity'\u001b[0m\u001b[0;34m]\u001b[0m \u001b[0;34m=\u001b[0m \u001b[0mdf\u001b[0m\u001b[0;34m[\u001b[0m\u001b[0;34m'desc'\u001b[0m\u001b[0;34m]\u001b[0m\u001b[0;34m.\u001b[0m\u001b[0mapply\u001b[0m\u001b[0;34m(\u001b[0m\u001b[0mdoc_sim\u001b[0m\u001b[0;34m)\u001b[0m\u001b[0;34m\u001b[0m\u001b[0m\n\u001b[0m",
      "\u001b[0;32m/home/juan/anaconda2/lib/python2.7/site-packages/pandas/core/series.pyc\u001b[0m in \u001b[0;36mapply\u001b[0;34m(self, func, convert_dtype, args, **kwds)\u001b[0m\n\u001b[1;32m   2353\u001b[0m             \u001b[0;32melse\u001b[0m\u001b[0;34m:\u001b[0m\u001b[0;34m\u001b[0m\u001b[0m\n\u001b[1;32m   2354\u001b[0m                 \u001b[0mvalues\u001b[0m \u001b[0;34m=\u001b[0m \u001b[0mself\u001b[0m\u001b[0;34m.\u001b[0m\u001b[0masobject\u001b[0m\u001b[0;34m\u001b[0m\u001b[0m\n\u001b[0;32m-> 2355\u001b[0;31m                 \u001b[0mmapped\u001b[0m \u001b[0;34m=\u001b[0m \u001b[0mlib\u001b[0m\u001b[0;34m.\u001b[0m\u001b[0mmap_infer\u001b[0m\u001b[0;34m(\u001b[0m\u001b[0mvalues\u001b[0m\u001b[0;34m,\u001b[0m \u001b[0mf\u001b[0m\u001b[0;34m,\u001b[0m \u001b[0mconvert\u001b[0m\u001b[0;34m=\u001b[0m\u001b[0mconvert_dtype\u001b[0m\u001b[0;34m)\u001b[0m\u001b[0;34m\u001b[0m\u001b[0m\n\u001b[0m\u001b[1;32m   2356\u001b[0m \u001b[0;34m\u001b[0m\u001b[0m\n\u001b[1;32m   2357\u001b[0m         \u001b[0;32mif\u001b[0m \u001b[0mlen\u001b[0m\u001b[0;34m(\u001b[0m\u001b[0mmapped\u001b[0m\u001b[0;34m)\u001b[0m \u001b[0;32mand\u001b[0m \u001b[0misinstance\u001b[0m\u001b[0;34m(\u001b[0m\u001b[0mmapped\u001b[0m\u001b[0;34m[\u001b[0m\u001b[0;36m0\u001b[0m\u001b[0;34m]\u001b[0m\u001b[0;34m,\u001b[0m \u001b[0mSeries\u001b[0m\u001b[0;34m)\u001b[0m\u001b[0;34m:\u001b[0m\u001b[0;34m\u001b[0m\u001b[0m\n",
      "\u001b[0;32mpandas/_libs/src/inference.pyx\u001b[0m in \u001b[0;36mpandas._libs.lib.map_infer (pandas/_libs/lib.c:66440)\u001b[0;34m()\u001b[0m\n",
      "\u001b[0;32m<ipython-input-4-581ed8db6686>\u001b[0m in \u001b[0;36mdoc_sim\u001b[0;34m(row)\u001b[0m\n\u001b[1;32m      5\u001b[0m \u001b[0;34m\u001b[0m\u001b[0m\n\u001b[1;32m      6\u001b[0m     \u001b[0;32mexcept\u001b[0m\u001b[0;34m:\u001b[0m\u001b[0;34m\u001b[0m\u001b[0m\n\u001b[0;32m----> 7\u001b[0;31m         return model_word.n_similarity(remove_unknown_words(row[0]),\n\u001b[0m\u001b[1;32m      8\u001b[0m                                        remove_unknown_words(row[1]))\n",
      "\u001b[0;31mNameError\u001b[0m: global name 'model_word' is not defined"
     ]
    }
   ],
   "source": [
    "df['description_similarity'] = df['desc'].apply(doc_sim)                                                                           "
   ]
  },
  {
   "cell_type": "code",
   "execution_count": 17,
   "metadata": {},
   "outputs": [
    {
     "data": {
      "text/plain": [
       "0"
      ]
     },
     "execution_count": 17,
     "metadata": {},
     "output_type": "execute_result"
    }
   ],
   "source": [
    "df.description_similarity.isnull().sum() "
   ]
  },
  {
   "cell_type": "code",
   "execution_count": null,
   "metadata": {
    "collapsed": true
   },
   "outputs": [],
   "source": [
    "lst_df = pd.DataFrame(lst,columns=['description_similarity'])"
   ]
  },
  {
   "cell_type": "code",
   "execution_count": 30,
   "metadata": {},
   "outputs": [
    {
     "data": {
      "text/html": [
       "<div>\n",
       "<style>\n",
       "    .dataframe thead tr:only-child th {\n",
       "        text-align: right;\n",
       "    }\n",
       "\n",
       "    .dataframe thead th {\n",
       "        text-align: left;\n",
       "    }\n",
       "\n",
       "    .dataframe tbody tr th {\n",
       "        vertical-align: top;\n",
       "    }\n",
       "</style>\n",
       "<table border=\"1\" class=\"dataframe\">\n",
       "  <thead>\n",
       "    <tr style=\"text-align: right;\">\n",
       "      <th></th>\n",
       "      <th>description_similarity</th>\n",
       "      <th>desc</th>\n",
       "    </tr>\n",
       "  </thead>\n",
       "  <tbody>\n",
       "    <tr>\n",
       "      <th>0</th>\n",
       "      <td>1.000000</td>\n",
       "      <td>[[продам, камаз, 6520, 20, тонн], [продам, камаз, 6520, 20, тонн]]</td>\n",
       "    </tr>\n",
       "    <tr>\n",
       "      <th>1</th>\n",
       "      <td>0.698324</td>\n",
       "      <td>[[тюнинге], [тюнинге, возможен, торг]]</td>\n",
       "    </tr>\n",
       "    <tr>\n",
       "      <th>2</th>\n",
       "      <td>0.902371</td>\n",
       "      <td>[[телефон, хорошем, состоянии, трещин, сколов, менялся, аккумуляторпоэтому, заряд, держит, остальное, родное, целом, работает, отлично, комплекте, кабель, обмен, интересен, лежит, дела, продажа], [отличном, состоянии, комплекте, зарядник, кабель, обмена]]</td>\n",
       "    </tr>\n",
       "    <tr>\n",
       "      <th>3</th>\n",
       "      <td>1.000000</td>\n",
       "      <td>[[отличный, подарок, новый, китайской, apple, новый, упаковке, коробку, вместе, вскроем, экран, 5, дюймов, 1080p, sharpjdi, ogs, возможно, использование, перчатках, цвет, корпуса, белый, материалы, корпуса, пластик, металл, стекло, процессор, qualcomm, snapdragon, 801, 8x74ac, 25ггц, видео, adreno, 330, 578, мгц, озу, 3гб, lpddr3, 933мгц, память, 16гб, emmc, 50, камера, задняя, 13мп, sony, imx214, f18, 6, линз, камера, передняя, 8мп, sony, imx219, f18, 5, линз, wifi, 80211, abgnac, 245ггц, bluetooth, 40, навигация, gpsglonass, сенсоры, икпорт, датчик, освещенности, барометр, компас, датчик, силы, тяжести, симкарта, microsim, аккумулятор, 3080, мач, быстрая, зарядка, 9v12a, 5v2a, дополнительно, поддержка, smart, cover, case, ширина, 685, мм, высота, 1392, мм, толщина, ...], [отличный, подарок, новый, китайской, apple, новый, упаковке, коробку, вместе, вскроем, экран, 5, дюймов, 1080p, sharpjdi, ogs, возможно, использование, перчатках, цвет, корпуса, белый, материалы, корпуса, пластик, металл, стекло, процессор, qualcomm, snapdragon, 801, 8x74ac, 25ггц, видео, adreno, 330, 578, мгц, озу, 3гб, lpddr3, 933мгц, память, 16гб, emmc, 50, камера, задняя, 13мп, sony, imx214, f18, 6, линз, камера, передняя, 8мп, sony, imx219, f18, 5, линз, wifi, 80211, abgnac, 245ггц, bluetooth, 40, навигация, gpsglonass, сенсоры, икпорт, датчик, освещенности, барометр, компас, датчик, силы, тяжести, симкарта, microsim, аккумулятор, 3080, мач, быстрая, зарядка, 9v12a, 5v2a, дополнительно, поддержка, smart, cover, case, ширина, 685, мм, высота, 1392, мм, толщина, ...]]</td>\n",
       "    </tr>\n",
       "    <tr>\n",
       "      <th>4</th>\n",
       "      <td>0.983680</td>\n",
       "      <td>[[лыжные, ботинки, хорошем, состоянии, 34, размер], [ботинки, 34, размер, хорошем, состоянии]]</td>\n",
       "    </tr>\n",
       "  </tbody>\n",
       "</table>\n",
       "</div>"
      ],
      "text/plain": [
       "   description_similarity  \\\n",
       "0  1.000000                 \n",
       "1  0.698324                 \n",
       "2  0.902371                 \n",
       "3  1.000000                 \n",
       "4  0.983680                 \n",
       "\n",
       "                                                                                                                                                                                                                                                                                                                                                                                                                                                                                                                                                                                                                                                                                                                                                                                                                                                                                                                                                                                                                                                                                                                                                                                                                                                                                                                                                                                                                                                                                                                                                                                                                             desc  \n",
       "0  [[продам, камаз, 6520, 20, тонн], [продам, камаз, 6520, 20, тонн]]                                                                                                                                                                                                                                                                                                                                                                                                                                                                                                                                                                                                                                                                                                                                                                                                                                                                                                                                                                                                                                                                                                                                                                                                                                                                                                                                                                                                                                                                                                                                                              \n",
       "1  [[тюнинге], [тюнинге, возможен, торг]]                                                                                                                                                                                                                                                                                                                                                                                                                                                                                                                                                                                                                                                                                                                                                                                                                                                                                                                                                                                                                                                                                                                                                                                                                                                                                                                                                                                                                                                                                                                                                                                          \n",
       "2  [[телефон, хорошем, состоянии, трещин, сколов, менялся, аккумуляторпоэтому, заряд, держит, остальное, родное, целом, работает, отлично, комплекте, кабель, обмен, интересен, лежит, дела, продажа], [отличном, состоянии, комплекте, зарядник, кабель, обмена]]                                                                                                                                                                                                                                                                                                                                                                                                                                                                                                                                                                                                                                                                                                                                                                                                                                                                                                                                                                                                                                                                                                                                                                                                                                                                                                                                                                 \n",
       "3  [[отличный, подарок, новый, китайской, apple, новый, упаковке, коробку, вместе, вскроем, экран, 5, дюймов, 1080p, sharpjdi, ogs, возможно, использование, перчатках, цвет, корпуса, белый, материалы, корпуса, пластик, металл, стекло, процессор, qualcomm, snapdragon, 801, 8x74ac, 25ггц, видео, adreno, 330, 578, мгц, озу, 3гб, lpddr3, 933мгц, память, 16гб, emmc, 50, камера, задняя, 13мп, sony, imx214, f18, 6, линз, камера, передняя, 8мп, sony, imx219, f18, 5, линз, wifi, 80211, abgnac, 245ггц, bluetooth, 40, навигация, gpsglonass, сенсоры, икпорт, датчик, освещенности, барометр, компас, датчик, силы, тяжести, симкарта, microsim, аккумулятор, 3080, мач, быстрая, зарядка, 9v12a, 5v2a, дополнительно, поддержка, smart, cover, case, ширина, 685, мм, высота, 1392, мм, толщина, ...], [отличный, подарок, новый, китайской, apple, новый, упаковке, коробку, вместе, вскроем, экран, 5, дюймов, 1080p, sharpjdi, ogs, возможно, использование, перчатках, цвет, корпуса, белый, материалы, корпуса, пластик, металл, стекло, процессор, qualcomm, snapdragon, 801, 8x74ac, 25ггц, видео, adreno, 330, 578, мгц, озу, 3гб, lpddr3, 933мгц, память, 16гб, emmc, 50, камера, задняя, 13мп, sony, imx214, f18, 6, линз, камера, передняя, 8мп, sony, imx219, f18, 5, линз, wifi, 80211, abgnac, 245ггц, bluetooth, 40, навигация, gpsglonass, сенсоры, икпорт, датчик, освещенности, барометр, компас, датчик, силы, тяжести, симкарта, microsim, аккумулятор, 3080, мач, быстрая, зарядка, 9v12a, 5v2a, дополнительно, поддержка, smart, cover, case, ширина, 685, мм, высота, 1392, мм, толщина, ...]]  \n",
       "4  [[лыжные, ботинки, хорошем, состоянии, 34, размер], [ботинки, 34, размер, хорошем, состоянии]]                                                                                                                                                                                                                                                                                                                                                                                                                                                                                                                                                                                                                                                                                                                                                                                                                                                                                                                                                                                                                                                                                                                                                                                                                                                                                                                                                                                                                                                                                                                                  "
      ]
     },
     "execution_count": 30,
     "metadata": {},
     "output_type": "execute_result"
    }
   ],
   "source": [
    "df.head()"
   ]
  }
 ],
 "metadata": {
  "kernelspec": {
   "display_name": "Python 2",
   "language": "python",
   "name": "python2"
  },
  "language_info": {
   "codemirror_mode": {
    "name": "ipython",
    "version": 2
   },
   "file_extension": ".py",
   "mimetype": "text/x-python",
   "name": "python",
   "nbconvert_exporter": "python",
   "pygments_lexer": "ipython2",
   "version": "2.7.13"
  }
 },
 "nbformat": 4,
 "nbformat_minor": 2
}
