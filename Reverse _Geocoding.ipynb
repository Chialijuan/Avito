{
 "cells": [
  {
   "cell_type": "code",
   "execution_count": 63,
   "metadata": {
    "collapsed": true
   },
   "outputs": [],
   "source": [
    "import pandas as pd \n",
    "import json\n",
    "import requests as re\n",
    "from bs4 import BeautifulSoup "
   ]
  },
  {
   "cell_type": "code",
   "execution_count": 227,
   "metadata": {},
   "outputs": [
    {
     "data": {
      "text/html": [
       "<div>\n",
       "<style>\n",
       "    .dataframe thead tr:only-child th {\n",
       "        text-align: right;\n",
       "    }\n",
       "\n",
       "    .dataframe thead th {\n",
       "        text-align: left;\n",
       "    }\n",
       "\n",
       "    .dataframe tbody tr th {\n",
       "        vertical-align: top;\n",
       "    }\n",
       "</style>\n",
       "<table border=\"1\" class=\"dataframe\">\n",
       "  <thead>\n",
       "    <tr style=\"text-align: right;\">\n",
       "      <th></th>\n",
       "      <th>itemID</th>\n",
       "      <th>categoryID</th>\n",
       "      <th>title</th>\n",
       "      <th>description</th>\n",
       "      <th>images_array</th>\n",
       "      <th>attrsJSON</th>\n",
       "      <th>price</th>\n",
       "      <th>locationID</th>\n",
       "      <th>metroID</th>\n",
       "      <th>lat</th>\n",
       "      <th>lon</th>\n",
       "    </tr>\n",
       "  </thead>\n",
       "  <tbody>\n",
       "    <tr>\n",
       "      <th>0</th>\n",
       "      <td>1</td>\n",
       "      <td>81</td>\n",
       "      <td>Продам Камаз 6520</td>\n",
       "      <td>Продам Камаз 6520 20 тонн</td>\n",
       "      <td>1064094, 5252822, 6645873, 6960145, 9230265</td>\n",
       "      <td>{\"Вид техники\":\"Грузовики\"}</td>\n",
       "      <td>300000.0</td>\n",
       "      <td>648140</td>\n",
       "      <td>NaN</td>\n",
       "      <td>64.686946</td>\n",
       "      <td>30.815924</td>\n",
       "    </tr>\n",
       "    <tr>\n",
       "      <th>1</th>\n",
       "      <td>3</td>\n",
       "      <td>14</td>\n",
       "      <td>Yamaha r6</td>\n",
       "      <td>Весь в тюнинге.</td>\n",
       "      <td>11919573, 14412228, 3204180, 6646877</td>\n",
       "      <td>{\"Вид техники\":\"Мотоциклы\", \"Вид мотоцикла\":\"С...</td>\n",
       "      <td>300000.0</td>\n",
       "      <td>639040</td>\n",
       "      <td>NaN</td>\n",
       "      <td>55.678037</td>\n",
       "      <td>37.256548</td>\n",
       "    </tr>\n",
       "    <tr>\n",
       "      <th>2</th>\n",
       "      <td>4</td>\n",
       "      <td>84</td>\n",
       "      <td>iPhone 3gs 8gb</td>\n",
       "      <td>Телефон в хорошем состоянии, трещин и сколов н...</td>\n",
       "      <td>14384831, 6102021</td>\n",
       "      <td>{\"Вид телефона\":\"iPhone\"}</td>\n",
       "      <td>3500.0</td>\n",
       "      <td>640650</td>\n",
       "      <td>NaN</td>\n",
       "      <td>56.239398</td>\n",
       "      <td>43.460458</td>\n",
       "    </tr>\n",
       "  </tbody>\n",
       "</table>\n",
       "</div>"
      ],
      "text/plain": [
       "   itemID  categoryID              title  \\\n",
       "0       1          81  Продам Камаз 6520   \n",
       "1       3          14          Yamaha r6   \n",
       "2       4          84     iPhone 3gs 8gb   \n",
       "\n",
       "                                         description  \\\n",
       "0                          Продам Камаз 6520 20 тонн   \n",
       "1                                    Весь в тюнинге.   \n",
       "2  Телефон в хорошем состоянии, трещин и сколов н...   \n",
       "\n",
       "                                  images_array  \\\n",
       "0  1064094, 5252822, 6645873, 6960145, 9230265   \n",
       "1         11919573, 14412228, 3204180, 6646877   \n",
       "2                            14384831, 6102021   \n",
       "\n",
       "                                           attrsJSON     price  locationID  \\\n",
       "0                        {\"Вид техники\":\"Грузовики\"}  300000.0      648140   \n",
       "1  {\"Вид техники\":\"Мотоциклы\", \"Вид мотоцикла\":\"С...  300000.0      639040   \n",
       "2                          {\"Вид телефона\":\"iPhone\"}    3500.0      640650   \n",
       "\n",
       "   metroID        lat        lon  \n",
       "0      NaN  64.686946  30.815924  \n",
       "1      NaN  55.678037  37.256548  \n",
       "2      NaN  56.239398  43.460458  "
      ]
     },
     "execution_count": 227,
     "metadata": {},
     "output_type": "execute_result"
    }
   ],
   "source": [
    "filepath = '~/Documents/Avito/'\n",
    "item_info = pd.read_csv(filepath+'ItemInfo_train.csv', nrows=3)\n",
    "item_info.tail()"
   ]
  },
  {
   "cell_type": "code",
   "execution_count": 164,
   "metadata": {
    "scrolled": false
   },
   "outputs": [
    {
     "name": "stdout",
     "output_type": "stream",
     "text": [
      "iQmz98SOi07LEIc6G64GMSVRhquVaZIr\n"
     ]
    }
   ],
   "source": [
    "# Remove newline character when reading from file\n",
    "key = open('MapQuest_Key.txt','r').read().strip()\n"
   ]
  },
  {
   "cell_type": "code",
   "execution_count": 165,
   "metadata": {
    "scrolled": true
   },
   "outputs": [
    {
     "data": {
      "text/plain": [
       "'http://www.mapquestapi.com/geocoding/v1/reverse?key=iQmz98SOi07LEIc6G64GMSVRhquVaZIr&location='"
      ]
     },
     "execution_count": 165,
     "metadata": {},
     "output_type": "execute_result"
    }
   ],
   "source": [
    "osm = ('http://www.mapquestapi.com/geocoding/v1/reverse?key='+key+'&location=')\n",
    "osm"
   ]
  },
  {
   "cell_type": "code",
   "execution_count": 228,
   "metadata": {
    "collapsed": true
   },
   "outputs": [],
   "source": [
    "def get_str(tag):\n",
    "    print(tag)\n",
    "    if tag is None:\n",
    "        return 'Nil'\n",
    "    else:\n",
    "        return tag.string"
   ]
  },
  {
   "cell_type": "code",
   "execution_count": 241,
   "metadata": {
    "collapsed": true
   },
   "outputs": [],
   "source": [
    "def get_add(soup):\n",
    "    return {'PostalCode': get_str(soup.postalcode)}"
   ]
  },
  {
   "cell_type": "code",
   "execution_count": 242,
   "metadata": {},
   "outputs": [],
   "source": [
    "def latlon(lat,lon):\n",
    "    srch = osm + str(lat)+','+ str(lon)+'&outFormat=xml'\n",
    "    print(srch)\n",
    "    r = re.get(srch)\n",
    "    soup = BeautifulSoup(r.content,'lxml') \n",
    "#     print(soup)\n",
    "#     result = soup.postalCode.string\n",
    "    return get_add(soup)\n",
    "    "
   ]
  },
  {
   "cell_type": "code",
   "execution_count": 243,
   "metadata": {},
   "outputs": [
    {
     "name": "stdout",
     "output_type": "stream",
     "text": [
      "http://www.mapquestapi.com/geocoding/v1/reverse?key=iQmz98SOi07LEIc6G64GMSVRhquVaZIr&location=64.686946,30.815924&outFormat=xml\n",
      "<postalcode></postalcode>\n",
      "http://www.mapquestapi.com/geocoding/v1/reverse?key=iQmz98SOi07LEIc6G64GMSVRhquVaZIr&location=64.686946,30.815924&outFormat=xml\n",
      "<postalcode></postalcode>\n",
      "http://www.mapquestapi.com/geocoding/v1/reverse?key=iQmz98SOi07LEIc6G64GMSVRhquVaZIr&location=55.678037,37.256548&outFormat=xml\n",
      "<postalcode>143000</postalcode>\n",
      "http://www.mapquestapi.com/geocoding/v1/reverse?key=iQmz98SOi07LEIc6G64GMSVRhquVaZIr&location=56.239398,43.460458&outFormat=xml\n",
      "<postalcode>606024</postalcode>\n"
     ]
    },
    {
     "data": {
      "text/html": [
       "<div>\n",
       "<style>\n",
       "    .dataframe thead tr:only-child th {\n",
       "        text-align: right;\n",
       "    }\n",
       "\n",
       "    .dataframe thead th {\n",
       "        text-align: left;\n",
       "    }\n",
       "\n",
       "    .dataframe tbody tr th {\n",
       "        vertical-align: top;\n",
       "    }\n",
       "</style>\n",
       "<table border=\"1\" class=\"dataframe\">\n",
       "  <thead>\n",
       "    <tr style=\"text-align: right;\">\n",
       "      <th></th>\n",
       "      <th>PostalCode</th>\n",
       "    </tr>\n",
       "  </thead>\n",
       "  <tbody>\n",
       "    <tr>\n",
       "      <th>0</th>\n",
       "      <td>None</td>\n",
       "    </tr>\n",
       "    <tr>\n",
       "      <th>1</th>\n",
       "      <td>143000</td>\n",
       "    </tr>\n",
       "    <tr>\n",
       "      <th>2</th>\n",
       "      <td>606024</td>\n",
       "    </tr>\n",
       "  </tbody>\n",
       "</table>\n",
       "</div>"
      ],
      "text/plain": [
       "  PostalCode\n",
       "0       None\n",
       "1     143000\n",
       "2     606024"
      ]
     },
     "execution_count": 243,
     "metadata": {},
     "output_type": "execute_result"
    }
   ],
   "source": [
    "item_info.apply(lambda x: pd.Series(latlon(x['lat'], x['lon'])), axis=1)"
   ]
  },
  {
   "cell_type": "code",
   "execution_count": 201,
   "metadata": {},
   "outputs": [],
   "source": [
    "df = pd.concat([item_info,df_latlon],axis=1)"
   ]
  },
  {
   "cell_type": "code",
   "execution_count": 202,
   "metadata": {},
   "outputs": [
    {
     "data": {
      "text/plain": [
       "400"
      ]
     },
     "execution_count": 202,
     "metadata": {},
     "output_type": "execute_result"
    }
   ],
   "source": [
    "df.Neighborhood.isnull().sum()"
   ]
  }
 ],
 "metadata": {
  "kernelspec": {
   "display_name": "Python 2",
   "language": "python",
   "name": "python2"
  },
  "language_info": {
   "codemirror_mode": {
    "name": "ipython",
    "version": 2
   },
   "file_extension": ".py",
   "mimetype": "text/x-python",
   "name": "python",
   "nbconvert_exporter": "python",
   "pygments_lexer": "ipython2",
   "version": "2.7.13"
  }
 },
 "nbformat": 4,
 "nbformat_minor": 2
}
