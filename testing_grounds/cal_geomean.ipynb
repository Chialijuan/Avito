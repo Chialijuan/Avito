{
 "cells": [
  {
   "cell_type": "code",
   "execution_count": 2,
   "metadata": {
    "collapsed": true
   },
   "outputs": [],
   "source": [
    "from __future__ import division\n",
    "from collections import defaultdict\n",
    "from glob import glob\n",
    "import sys\n",
    "import math"
   ]
  },
  {
   "cell_type": "code",
   "execution_count": 35,
   "metadata": {
    "collapsed": true
   },
   "outputs": [],
   "source": [
    "glob_files = 'Submission*.csv'\n",
    "loc_outfile = 'geomean.csv'"
   ]
  },
  {
   "cell_type": "code",
   "execution_count": 71,
   "metadata": {},
   "outputs": [],
   "source": [
    "def kaggle_bag(glob_files, loc_outfile, method=\"average\", weights=\"uniform\"):\n",
    "    if method == \"average\":\n",
    "        scores = defaultdict(float)\n",
    "    with open(loc_outfile,\"wb\") as outfile:\n",
    "        for i, glob_file in enumerate( glob(glob_files) ):\n",
    "            print(\"parsing:{}\".format(glob_file))\n",
    "        # sort glob_file by first column, ignoring the first line\n",
    "            lines = open(glob_file).readlines()\n",
    "#             print('lines_open:{}'.format(lines))\n",
    "            lines = [lines[0]] + sorted(lines[1:])\n",
    "#             print('lines_parse:{}'.format(lines))\n",
    "    \n",
    "            for e, line in enumerate(lines):\n",
    "                if i == 0 and e == 0:\n",
    "                    outfile.write(line)\n",
    "                if e > 0:\n",
    "                    row = line.strip().split(\",\")\n",
    "#                     print(row)\n",
    "                    \n",
    "#                     print('scores:{}'.format(scores[(e,row[0])]))\n",
    "                    if scores[(e,row[0])] == 0:\n",
    "#                         print('scores_0:{}'.format(scores[(e,row[0])]))\n",
    "                        scores[(e,row[0])] = 1\n",
    "#                         print('scores_1:{}'.format(scores[(e,row[0])]))\n",
    "                    scores[(e,row[0])] *= float(row[1])\n",
    "#                     print('scores_*:{}'.format(scores[(e,row[0])]))\n",
    "        print(sorted(scores))\n",
    "        for j,k in sorted(scores):\n",
    "            print('score_jk:{}, {}'.format(scores[(j,k)], i))\n",
    "            print('cal:{}'.format(math.pow(scores[(j,k)],1/(i+1))))\n",
    "            outfile.write(\"%s,%f\\n\"%(k,math.pow(scores[(j,k)],1/(i+1))))\n",
    "    print(\"wrote to %s\"%loc_outfile)"
   ]
  },
  {
   "cell_type": "code",
   "execution_count": 72,
   "metadata": {},
   "outputs": [
    {
     "name": "stdout",
     "output_type": "stream",
     "text": [
      "parsing:Submission_1.csv\n",
      "parsing:Submission_3.csv\n",
      "parsing:Submission.csv\n",
      "[(1, '0'), (2, '1'), (3, '10'), (4, '11'), (5, '12'), (6, '13'), (7, '14'), (8, '15'), (9, '16'), (10, '2'), (11, '3'), (12, '4'), (13, '5'), (14, '6'), (15, '7'), (16, '8'), (17, '9')]\n",
      "score_jk:0.0649250062555, 2\n",
      "cal:0.401917885952\n",
      "score_jk:0.0758528873181, 2\n",
      "cal:0.423308873394\n",
      "score_jk:0.057438491673, 2\n",
      "cal:0.385834456278\n",
      "score_jk:0.00856988850218, 2\n",
      "cal:0.204640563903\n",
      "score_jk:0.0183992774457, 2\n",
      "cal:0.263997768603\n",
      "score_jk:0.0438431334224, 2\n",
      "cal:0.352614793315\n",
      "score_jk:0.168631201002, 2\n",
      "cal:0.552475017539\n",
      "score_jk:0.112877152661, 2\n",
      "cal:0.48328355264\n",
      "score_jk:0.148225522788, 2\n",
      "cal:0.529225786395\n",
      "score_jk:0.0820824351514, 2\n",
      "cal:0.434593684367\n",
      "score_jk:0.00721145850524, 2\n",
      "cal:0.193200258417\n",
      "score_jk:0.0486684500885, 2\n",
      "cal:0.365103367455\n",
      "score_jk:0.0386652712969, 2\n",
      "cal:0.338148153767\n",
      "score_jk:0.1601500711, 2\n",
      "cal:0.543053201796\n",
      "score_jk:0.105131452959, 2\n",
      "cal:0.471966190481\n",
      "score_jk:0.198855913789, 2\n",
      "cal:0.583686305098\n",
      "score_jk:0.0596079941723, 2\n",
      "cal:0.390632316732\n",
      "wrote to geomean.csv\n"
     ]
    }
   ],
   "source": [
    "kaggle_bag(glob_files, loc_outfile)"
   ]
  },
  {
   "cell_type": "code",
   "execution_count": 11,
   "metadata": {
    "collapsed": true
   },
   "outputs": [],
   "source": [
    "somedict = defaultdict(int)"
   ]
  },
  {
   "cell_type": "code",
   "execution_count": 13,
   "metadata": {},
   "outputs": [
    {
     "name": "stdout",
     "output_type": "stream",
     "text": [
      "0\n"
     ]
    }
   ],
   "source": [
    "print(somedict[6])"
   ]
  }
 ],
 "metadata": {
  "kernelspec": {
   "display_name": "Python 2",
   "language": "python",
   "name": "python2"
  },
  "language_info": {
   "codemirror_mode": {
    "name": "ipython",
    "version": 2
   },
   "file_extension": ".py",
   "mimetype": "text/x-python",
   "name": "python",
   "nbconvert_exporter": "python",
   "pygments_lexer": "ipython2",
   "version": "2.7.13"
  }
 },
 "nbformat": 4,
 "nbformat_minor": 2
}
