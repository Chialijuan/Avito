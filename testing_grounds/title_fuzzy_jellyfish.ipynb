{
 "cells": [
  {
   "cell_type": "code",
   "execution_count": 36,
   "metadata": {
    "collapsed": true
   },
   "outputs": [],
   "source": [
    "from __future__ import unicode_literals\n",
    "import pandas as pd\n",
    "import numpy as np"
   ]
  },
  {
   "cell_type": "code",
   "execution_count": 9,
   "metadata": {
    "collapsed": true
   },
   "outputs": [],
   "source": [
    "pd.options.display.max_columns = None"
   ]
  },
  {
   "cell_type": "code",
   "execution_count": 24,
   "metadata": {
    "scrolled": false
   },
   "outputs": [],
   "source": [
    "filepath = '~/Documents/Avito/'\n",
    "item_info = pd.read_csv(filepath+'ItemInfo_train.csv',encoding='utf-8',nrows=10)\n",
    "item_info.tail(3)\n",
    "item_pairs =pd.read_csv(filepath+'ItemPairs_train.csv', nrows=10, encoding='utf-8')\n",
    "item_pairs.rename(columns={'itemID_1':'itemID'}, inplace=True)\n",
    "df = pd.merge(item_info,item_pairs, on='itemID')"
   ]
  },
  {
   "cell_type": "code",
   "execution_count": 17,
   "metadata": {},
   "outputs": [
    {
     "data": {
      "text/plain": [
       "unicode"
      ]
     },
     "execution_count": 17,
     "metadata": {},
     "output_type": "execute_result"
    }
   ],
   "source": [
    "type(item_info.loc[2714261,('title')])"
   ]
  },
  {
   "cell_type": "code",
   "execution_count": 39,
   "metadata": {
    "collapsed": true
   },
   "outputs": [],
   "source": [
    "item_infofull = pd.read_csv(filepath+'ItemInfo_train.csv', encoding='utf-8', converters={'title':unicode})\n",
    "item_infofull.rename(columns={'itemID':'itemID_2'}, inplace=True)"
   ]
  },
  {
   "cell_type": "code",
   "execution_count": 35,
   "metadata": {},
   "outputs": [
    {
     "ename": "TypeError",
     "evalue": "'numpy.dtype' object is not callable",
     "output_type": "error",
     "traceback": [
      "\u001b[0;31m---------------------------------------------------------------------------\u001b[0m",
      "\u001b[0;31mTypeError\u001b[0m                                 Traceback (most recent call last)",
      "\u001b[0;32m<ipython-input-35-7168c95d1e87>\u001b[0m in \u001b[0;36m<module>\u001b[0;34m()\u001b[0m\n\u001b[0;32m----> 1\u001b[0;31m \u001b[0mitem_infofull\u001b[0m\u001b[0;34m.\u001b[0m\u001b[0mtitle\u001b[0m\u001b[0;34m.\u001b[0m\u001b[0mdtype\u001b[0m\u001b[0;34m(\u001b[0m\u001b[0municode\u001b[0m\u001b[0;34m)\u001b[0m\u001b[0;34m\u001b[0m\u001b[0m\n\u001b[0m",
      "\u001b[0;31mTypeError\u001b[0m: 'numpy.dtype' object is not callable"
     ]
    }
   ],
   "source": [
    "item_infofull.title.dtype(unicode)"
   ]
  },
  {
   "cell_type": "code",
   "execution_count": 40,
   "metadata": {},
   "outputs": [
    {
     "data": {
      "text/plain": [
       "itemID_2         integer\n",
       "categoryID       integer\n",
       "title            unicode\n",
       "description        mixed\n",
       "images_array       mixed\n",
       "attrsJSON          mixed\n",
       "price           floating\n",
       "locationID       integer\n",
       "metroID         floating\n",
       "lat             floating\n",
       "lon             floating\n",
       "dtype: object"
      ]
     },
     "execution_count": 40,
     "metadata": {},
     "output_type": "execute_result"
    }
   ],
   "source": [
    "item_infofull.apply(lambda x: pd.lib.infer_dtype(x.values))"
   ]
  },
  {
   "cell_type": "code",
   "execution_count": 25,
   "metadata": {},
   "outputs": [],
   "source": [
    "df1 = pd.merge(df,item_infofull, on='itemID_2')"
   ]
  },
  {
   "cell_type": "code",
   "execution_count": 26,
   "metadata": {},
   "outputs": [
    {
     "name": "stdout",
     "output_type": "stream",
     "text": [
      "   itemID  categoryID_x                              title_x  \\\n",
      "0       1            81                    Продам Камаз 6520   \n",
      "1       3            14                            Yamaha r6   \n",
      "2       4            84                       iPhone 3gs 8gb   \n",
      "3       7            84  Xiaomi Mi4 3гб RAM + 16гб ROM белый   \n",
      "4       8            39                       Лыжные ботинки   \n",
      "\n",
      "                                       description_x  \\\n",
      "0                          Продам Камаз 6520 20 тонн   \n",
      "1                                    Весь в тюнинге.   \n",
      "2  Телефон в хорошем состоянии, трещин и сколов н...   \n",
      "3  Отличный подарок на новый год от \"китайской ap...   \n",
      "4      Лыжные ботинки в хорошем состоянии, 34 размер   \n",
      "\n",
      "                                images_array_x  \\\n",
      "0  1064094, 5252822, 6645873, 6960145, 9230265   \n",
      "1         11919573, 14412228, 3204180, 6646877   \n",
      "2                            14384831, 6102021   \n",
      "3                                          NaN   \n",
      "4                            13718854, 4787310   \n",
      "\n",
      "                                         attrsJSON_x   price_x  locationID_x  \\\n",
      "0                        {\"Вид техники\":\"Грузовики\"}  300000.0        648140   \n",
      "1  {\"Вид техники\":\"Мотоциклы\", \"Вид мотоцикла\":\"С...  300000.0        639040   \n",
      "2                          {\"Вид телефона\":\"iPhone\"}    3500.0        640650   \n",
      "3                    {\"Вид телефона\":\"Другие марки\"}   13500.0        662210   \n",
      "4                {\"Вид товара\":\"Зимние виды спорта\"}     500.0        624360   \n",
      "\n",
      "   metroID_x      lat_x      lon_x  itemID_2  isDuplicate  generationMethod  \\\n",
      "0        NaN  64.686946  30.815924   4112648            1                 1   \n",
      "1        NaN  55.678037  37.256548   1991275            1                 1   \n",
      "2        NaN  56.239398  43.460458   1223296            0                 1   \n",
      "3        NaN  55.777170  37.586194   1058851            1                 1   \n",
      "4        NaN  55.777170  37.586194   2161930            1                 1   \n",
      "\n",
      "   categoryID_y                                       title_y  \\\n",
      "0            81                             Продам Камаз 6520   \n",
      "1            14                                     Yamaha R6   \n",
      "2            84                               iPhone 3gs 32gb   \n",
      "3            84  Смартфон Xiaomi Mi4 3гб RAM + 16гб ROM белый   \n",
      "4            39                               Ботинки для лыж   \n",
      "\n",
      "                                       description_y  \\\n",
      "0                          Продам Камаз 6520 20 тонн   \n",
      "1                      Весь в тюнинге. Возможен торг   \n",
      "2  В отличном состоянии, в комплекте зарядник и к...   \n",
      "3  Отличный подарок на новый год от \"китайской ap...   \n",
      "4             Ботинки 34 размер, в хорошем состоянии   \n",
      "\n",
      "                                  images_array_y  \\\n",
      "0             1227519, 1374615, 7072137, 8671835   \n",
      "1  11068709, 13325040, 13783238, 206652, 9458537   \n",
      "2                                        5709245   \n",
      "3                                        7900519   \n",
      "4                               10053682, 986143   \n",
      "\n",
      "                                         attrsJSON_y   price_y  locationID_y  \\\n",
      "0                        {\"Вид техники\":\"Грузовики\"}  300000.0        648140   \n",
      "1  {\"Вид техники\":\"Мотоциклы\", \"Вид мотоцикла\":\"С...  330000.0        639040   \n",
      "2                          {\"Вид телефона\":\"iPhone\"}    3500.0        640650   \n",
      "3                    {\"Вид телефона\":\"Другие марки\"}   13500.0        662210   \n",
      "4                {\"Вид товара\":\"Зимние виды спорта\"}     600.0        624360   \n",
      "\n",
      "   metroID_y      lat_y      lon_y  \n",
      "0        NaN  64.686946  30.815924  \n",
      "1        NaN  55.678037  37.256548  \n",
      "2        NaN  56.239398  43.460458  \n",
      "3        NaN  56.135459  47.235484  \n",
      "4        NaN  55.777170  37.586194  \n"
     ]
    },
    {
     "name": "stderr",
     "output_type": "stream",
     "text": [
      "/home/juan/anaconda2/lib/python2.7/site-packages/ipykernel_launcher.py:3: FutureWarning: pandas.lib is deprecated and will be removed in a future version.\n",
      "You can access infer_dtype as pandas.api.types.infer_dtype\n",
      "  This is separate from the ipykernel package so we can avoid doing imports until\n"
     ]
    },
    {
     "data": {
      "text/plain": [
       "itemID      integer\n",
       "itemID_2    integer\n",
       "title_x     unicode\n",
       "title_y     unicode\n",
       "dtype: object"
      ]
     },
     "execution_count": 26,
     "metadata": {},
     "output_type": "execute_result"
    }
   ],
   "source": [
    "print(df1.head())\n",
    "df2 = df1[['itemID', 'itemID_2', 'title_x', 'title_y']]\n",
    "df2.apply(lambda x: pd.lib.infer_dtype(x.values))"
   ]
  },
  {
   "cell_type": "markdown",
   "metadata": {},
   "source": [
    "### Fuzzywuzzy \n",
    "\n",
    "AKA Approximate String Matching, finds strings that approximately matches a given pattern. \n",
    "\n",
    "Metric: **Levenshtein** (edit distance) : Number of primitive operations required to convert the string into an exact match"
   ]
  },
  {
   "cell_type": "code",
   "execution_count": 53,
   "metadata": {
    "collapsed": true
   },
   "outputs": [],
   "source": [
    "from fuzzywuzzy import fuzz"
   ]
  },
  {
   "cell_type": "markdown",
   "metadata": {},
   "source": [
    "`token_set_ratio` is used as duplicated ads might contain titles that have duplicated words in a jumbled order"
   ]
  },
  {
   "cell_type": "code",
   "execution_count": 60,
   "metadata": {},
   "outputs": [
    {
     "name": "stderr",
     "output_type": "stream",
     "text": [
      "/home/juan/anaconda2/lib/python2.7/site-packages/ipykernel_launcher.py:1: SettingWithCopyWarning: \n",
      "A value is trying to be set on a copy of a slice from a DataFrame.\n",
      "Try using .loc[row_indexer,col_indexer] = value instead\n",
      "\n",
      "See the caveats in the documentation: http://pandas.pydata.org/pandas-docs/stable/indexing.html#indexing-view-versus-copy\n",
      "  \"\"\"Entry point for launching an IPython kernel.\n"
     ]
    }
   ],
   "source": [
    "df2['fuzz_ratio'] = df2.apply(lambda x: fuzz.token_set_ratio(x['title_x'],x['title_y'])/100.0, axis=1)"
   ]
  },
  {
   "cell_type": "code",
   "execution_count": 61,
   "metadata": {},
   "outputs": [
    {
     "data": {
      "text/plain": [
       "0    1.0\n",
       "1    1.0\n",
       "2    0.9\n",
       "3    1.0\n",
       "4    0.0\n",
       "5    0.0\n",
       "6    1.0\n",
       "7    1.0\n",
       "8    0.0\n",
       "9    0.0\n",
       "Name: fuzz_ratio, dtype: float64"
      ]
     },
     "execution_count": 61,
     "metadata": {},
     "output_type": "execute_result"
    }
   ],
   "source": [
    "df2['fuzz_ratio']"
   ]
  },
  {
   "cell_type": "markdown",
   "metadata": {},
   "source": [
    "### Jellyfish"
   ]
  },
  {
   "cell_type": "code",
   "execution_count": 27,
   "metadata": {
    "collapsed": true
   },
   "outputs": [],
   "source": [
    "import jellyfish"
   ]
  },
  {
   "cell_type": "code",
   "execution_count": 28,
   "metadata": {},
   "outputs": [
    {
     "name": "stderr",
     "output_type": "stream",
     "text": [
      "/home/juan/anaconda2/lib/python2.7/site-packages/ipykernel_launcher.py:2: SettingWithCopyWarning: \n",
      "A value is trying to be set on a copy of a slice from a DataFrame.\n",
      "Try using .loc[row_indexer,col_indexer] = value instead\n",
      "\n",
      "See the caveats in the documentation: http://pandas.pydata.org/pandas-docs/stable/indexing.html#indexing-view-versus-copy\n",
      "  \n",
      "/home/juan/anaconda2/lib/python2.7/site-packages/ipykernel_launcher.py:3: SettingWithCopyWarning: \n",
      "A value is trying to be set on a copy of a slice from a DataFrame.\n",
      "Try using .loc[row_indexer,col_indexer] = value instead\n",
      "\n",
      "See the caveats in the documentation: http://pandas.pydata.org/pandas-docs/stable/indexing.html#indexing-view-versus-copy\n",
      "  This is separate from the ipykernel package so we can avoid doing imports until\n",
      "/home/juan/anaconda2/lib/python2.7/site-packages/ipykernel_launcher.py:4: SettingWithCopyWarning: \n",
      "A value is trying to be set on a copy of a slice from a DataFrame.\n",
      "Try using .loc[row_indexer,col_indexer] = value instead\n",
      "\n",
      "See the caveats in the documentation: http://pandas.pydata.org/pandas-docs/stable/indexing.html#indexing-view-versus-copy\n",
      "  after removing the cwd from sys.path.\n"
     ]
    }
   ],
   "source": [
    "# Omit Hamming; undefined for strings with different length\n",
    "df2['lev_dist'] = df2.apply(lambda x: jellyfish.levenshtein_distance(x['title_x'],x['title_y']), axis=1)                                             \n",
    "df2['jaro_dist'] = df2.apply(lambda x: jellyfish.jaro_distance(x['title_x'], x['title_y']), axis=1)\n",
    "df2['jarow_dist'] = df2.apply(lambda x: jellyfish.jaro_winkler(x['title_x'], x['title_y']), axis=1)"
   ]
  },
  {
   "cell_type": "code",
   "execution_count": 30,
   "metadata": {},
   "outputs": [
    {
     "data": {
      "text/html": [
       "<div>\n",
       "<style>\n",
       "    .dataframe thead tr:only-child th {\n",
       "        text-align: right;\n",
       "    }\n",
       "\n",
       "    .dataframe thead th {\n",
       "        text-align: left;\n",
       "    }\n",
       "\n",
       "    .dataframe tbody tr th {\n",
       "        vertical-align: top;\n",
       "    }\n",
       "</style>\n",
       "<table border=\"1\" class=\"dataframe\">\n",
       "  <thead>\n",
       "    <tr style=\"text-align: right;\">\n",
       "      <th></th>\n",
       "      <th>itemID</th>\n",
       "      <th>itemID_2</th>\n",
       "      <th>title_x</th>\n",
       "      <th>title_y</th>\n",
       "      <th>lev_dist</th>\n",
       "      <th>jaro_dist</th>\n",
       "      <th>jarow_dist</th>\n",
       "    </tr>\n",
       "  </thead>\n",
       "  <tbody>\n",
       "    <tr>\n",
       "      <th>0</th>\n",
       "      <td>1</td>\n",
       "      <td>4112648</td>\n",
       "      <td>Продам Камаз 6520</td>\n",
       "      <td>Продам Камаз 6520</td>\n",
       "      <td>0</td>\n",
       "      <td>1.000000</td>\n",
       "      <td>1.000000</td>\n",
       "    </tr>\n",
       "    <tr>\n",
       "      <th>1</th>\n",
       "      <td>3</td>\n",
       "      <td>1991275</td>\n",
       "      <td>Yamaha r6</td>\n",
       "      <td>Yamaha R6</td>\n",
       "      <td>1</td>\n",
       "      <td>0.925926</td>\n",
       "      <td>0.955556</td>\n",
       "    </tr>\n",
       "    <tr>\n",
       "      <th>2</th>\n",
       "      <td>4</td>\n",
       "      <td>1223296</td>\n",
       "      <td>iPhone 3gs 8gb</td>\n",
       "      <td>iPhone 3gs 32gb</td>\n",
       "      <td>2</td>\n",
       "      <td>0.931746</td>\n",
       "      <td>0.959048</td>\n",
       "    </tr>\n",
       "    <tr>\n",
       "      <th>3</th>\n",
       "      <td>7</td>\n",
       "      <td>1058851</td>\n",
       "      <td>Xiaomi Mi4 3гб RAM + 16гб ROM белый</td>\n",
       "      <td>Смартфон Xiaomi Mi4 3гб RAM + 16гб ROM белый</td>\n",
       "      <td>9</td>\n",
       "      <td>0.788961</td>\n",
       "      <td>0.788961</td>\n",
       "    </tr>\n",
       "    <tr>\n",
       "      <th>4</th>\n",
       "      <td>8</td>\n",
       "      <td>2161930</td>\n",
       "      <td>Лыжные ботинки</td>\n",
       "      <td>Ботинки для лыж</td>\n",
       "      <td>13</td>\n",
       "      <td>0.360317</td>\n",
       "      <td>0.360317</td>\n",
       "    </tr>\n",
       "    <tr>\n",
       "      <th>5</th>\n",
       "      <td>9</td>\n",
       "      <td>694103</td>\n",
       "      <td>Сноуборд ботинки Nitro Team 10 us</td>\n",
       "      <td>Сноубордические ботинки</td>\n",
       "      <td>22</td>\n",
       "      <td>0.643500</td>\n",
       "      <td>0.643500</td>\n",
       "    </tr>\n",
       "    <tr>\n",
       "      <th>6</th>\n",
       "      <td>12</td>\n",
       "      <td>5637025</td>\n",
       "      <td>LADA Priora, 2015</td>\n",
       "      <td>LADA Priora, 2015</td>\n",
       "      <td>0</td>\n",
       "      <td>1.000000</td>\n",
       "      <td>1.000000</td>\n",
       "    </tr>\n",
       "    <tr>\n",
       "      <th>7</th>\n",
       "      <td>12</td>\n",
       "      <td>5279740</td>\n",
       "      <td>LADA Priora, 2015</td>\n",
       "      <td>LADA Priora, 2015</td>\n",
       "      <td>0</td>\n",
       "      <td>1.000000</td>\n",
       "      <td>1.000000</td>\n",
       "    </tr>\n",
       "    <tr>\n",
       "      <th>8</th>\n",
       "      <td>15</td>\n",
       "      <td>113701</td>\n",
       "      <td>Телевизор</td>\n",
       "      <td>Panasonic 72 см. 100Hz</td>\n",
       "      <td>22</td>\n",
       "      <td>0.000000</td>\n",
       "      <td>0.000000</td>\n",
       "    </tr>\n",
       "    <tr>\n",
       "      <th>9</th>\n",
       "      <td>16</td>\n",
       "      <td>2467698</td>\n",
       "      <td>Шуба мутоновая</td>\n",
       "      <td>Шуба норковая</td>\n",
       "      <td>5</td>\n",
       "      <td>0.846986</td>\n",
       "      <td>0.908192</td>\n",
       "    </tr>\n",
       "  </tbody>\n",
       "</table>\n",
       "</div>"
      ],
      "text/plain": [
       "   itemID  itemID_2                              title_x  \\\n",
       "0       1   4112648                    Продам Камаз 6520   \n",
       "1       3   1991275                            Yamaha r6   \n",
       "2       4   1223296                       iPhone 3gs 8gb   \n",
       "3       7   1058851  Xiaomi Mi4 3гб RAM + 16гб ROM белый   \n",
       "4       8   2161930                       Лыжные ботинки   \n",
       "5       9    694103    Сноуборд ботинки Nitro Team 10 us   \n",
       "6      12   5637025                    LADA Priora, 2015   \n",
       "7      12   5279740                    LADA Priora, 2015   \n",
       "8      15    113701                            Телевизор   \n",
       "9      16   2467698                       Шуба мутоновая   \n",
       "\n",
       "                                        title_y  lev_dist  jaro_dist  \\\n",
       "0                             Продам Камаз 6520         0   1.000000   \n",
       "1                                     Yamaha R6         1   0.925926   \n",
       "2                               iPhone 3gs 32gb         2   0.931746   \n",
       "3  Смартфон Xiaomi Mi4 3гб RAM + 16гб ROM белый         9   0.788961   \n",
       "4                               Ботинки для лыж        13   0.360317   \n",
       "5                       Сноубордические ботинки        22   0.643500   \n",
       "6                             LADA Priora, 2015         0   1.000000   \n",
       "7                             LADA Priora, 2015         0   1.000000   \n",
       "8                        Panasonic 72 см. 100Hz        22   0.000000   \n",
       "9                                 Шуба норковая         5   0.846986   \n",
       "\n",
       "   jarow_dist  \n",
       "0    1.000000  \n",
       "1    0.955556  \n",
       "2    0.959048  \n",
       "3    0.788961  \n",
       "4    0.360317  \n",
       "5    0.643500  \n",
       "6    1.000000  \n",
       "7    1.000000  \n",
       "8    0.000000  \n",
       "9    0.908192  "
      ]
     },
     "execution_count": 30,
     "metadata": {},
     "output_type": "execute_result"
    }
   ],
   "source": [
    "df2"
   ]
  }
 ],
 "metadata": {
  "kernelspec": {
   "display_name": "Python 2",
   "language": "python",
   "name": "python2"
  },
  "language_info": {
   "codemirror_mode": {
    "name": "ipython",
    "version": 2
   },
   "file_extension": ".py",
   "mimetype": "text/x-python",
   "name": "python",
   "nbconvert_exporter": "python",
   "pygments_lexer": "ipython2",
   "version": "2.7.13"
  }
 },
 "nbformat": 4,
 "nbformat_minor": 2
}
