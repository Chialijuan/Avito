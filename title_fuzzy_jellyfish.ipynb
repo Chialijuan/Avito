{
 "cells": [
  {
   "cell_type": "code",
   "execution_count": 38,
   "metadata": {
    "collapsed": true
   },
   "outputs": [],
   "source": [
    "from __future__ import unicode_literals\n",
    "import pandas as pd"
   ]
  },
  {
   "cell_type": "code",
   "execution_count": 9,
   "metadata": {
    "collapsed": true
   },
   "outputs": [],
   "source": [
    "pd.options.display.max_columns = None"
   ]
  },
  {
   "cell_type": "code",
   "execution_count": 44,
   "metadata": {},
   "outputs": [],
   "source": [
    "filepath = '~/Documents/Avito/'\n",
    "item_info = pd.read_csv(filepath+'ItemInfo_train.csv', nrows=10, encoding='utf-8')\n",
    "# item_info.tail(3)\n",
    "item_pairs =pd.read_csv(filepath+'ItemPairs_train.csv', nrows=10, encoding='utf-8')\n",
    "item_pairs.rename(columns={'itemID_1':'itemID'}, inplace=True)\n",
    "df = pd.merge(item_info,item_pairs, on='itemID')"
   ]
  },
  {
   "cell_type": "code",
   "execution_count": 45,
   "metadata": {
    "collapsed": true
   },
   "outputs": [],
   "source": [
    "item_infofull = pd.read_csv(filepath+'ItemInfo_train.csv', encoding='utf-8')\n",
    "item_infofull.rename(columns={'itemID':'itemID_2'}, inplace=True)\n",
    "df1 = pd.merge(df,item_infofull, on='itemID_2')"
   ]
  },
  {
   "cell_type": "code",
   "execution_count": 46,
   "metadata": {},
   "outputs": [
    {
     "data": {
      "text/plain": [
       "itemID      integer\n",
       "itemID_2    integer\n",
       "title_x     unicode\n",
       "title_y     unicode\n",
       "dtype: object"
      ]
     },
     "execution_count": 46,
     "metadata": {},
     "output_type": "execute_result"
    }
   ],
   "source": [
    "df1.head()\n",
    "df2 = df1[['itemID', 'itemID_2', 'title_x', 'title_y']]\n",
    "df2.apply(lambda x: pd.lib.infer_dtype(x.values))"
   ]
  },
  {
   "cell_type": "markdown",
   "metadata": {},
   "source": [
    "### Fuzzywuzzy \n",
    "\n",
    "AKA Approximate String Matching, finds strings that approximately matches a given pattern. \n",
    "\n",
    "Metric: **Levenshtein** (edit distance) : Number of primitive operations required to convert the string into an exact match"
   ]
  },
  {
   "cell_type": "code",
   "execution_count": 20,
   "metadata": {},
   "outputs": [],
   "source": [
    "import fuzzywuzzy"
   ]
  },
  {
   "cell_type": "markdown",
   "metadata": {},
   "source": [
    "### Jellyfish"
   ]
  },
  {
   "cell_type": "code",
   "execution_count": 22,
   "metadata": {},
   "outputs": [],
   "source": [
    "import jellyfish"
   ]
  },
  {
   "cell_type": "code",
   "execution_count": 48,
   "metadata": {},
   "outputs": [
    {
     "name": "stderr",
     "output_type": "stream",
     "text": [
      "/home/juan/anaconda2/lib/python2.7/site-packages/ipykernel_launcher.py:2: SettingWithCopyWarning: \n",
      "A value is trying to be set on a copy of a slice from a DataFrame.\n",
      "Try using .loc[row_indexer,col_indexer] = value instead\n",
      "\n",
      "See the caveats in the documentation: http://pandas.pydata.org/pandas-docs/stable/indexing.html#indexing-view-versus-copy\n",
      "  \n",
      "/home/juan/anaconda2/lib/python2.7/site-packages/ipykernel_launcher.py:3: SettingWithCopyWarning: \n",
      "A value is trying to be set on a copy of a slice from a DataFrame.\n",
      "Try using .loc[row_indexer,col_indexer] = value instead\n",
      "\n",
      "See the caveats in the documentation: http://pandas.pydata.org/pandas-docs/stable/indexing.html#indexing-view-versus-copy\n",
      "  This is separate from the ipykernel package so we can avoid doing imports until\n",
      "/home/juan/anaconda2/lib/python2.7/site-packages/ipykernel_launcher.py:4: SettingWithCopyWarning: \n",
      "A value is trying to be set on a copy of a slice from a DataFrame.\n",
      "Try using .loc[row_indexer,col_indexer] = value instead\n",
      "\n",
      "See the caveats in the documentation: http://pandas.pydata.org/pandas-docs/stable/indexing.html#indexing-view-versus-copy\n",
      "  after removing the cwd from sys.path.\n"
     ]
    }
   ],
   "source": [
    "# Omit Hamming; undefined for strings with different length\n",
    "df2['lev_dist'] = df2.apply(lambda x: jellyfish.levenshtein_distance(x['title_x'],x['title_y']), axis=1)                                             \n",
    "df2['jaro_dist'] = df2.apply(lambda x: jellyfish.jaro_distance(x['title_x'], x['title_y']), axis=1)\n",
    "df2['jarow_dist'] = df2.apply(lambda x: jellyfish.jaro_winkler(x['title_x'], x['title_y']), axis=1)"
   ]
  },
  {
   "cell_type": "code",
   "execution_count": 49,
   "metadata": {},
   "outputs": [
    {
     "data": {
      "text/html": [
       "<div>\n",
       "<style>\n",
       "    .dataframe thead tr:only-child th {\n",
       "        text-align: right;\n",
       "    }\n",
       "\n",
       "    .dataframe thead th {\n",
       "        text-align: left;\n",
       "    }\n",
       "\n",
       "    .dataframe tbody tr th {\n",
       "        vertical-align: top;\n",
       "    }\n",
       "</style>\n",
       "<table border=\"1\" class=\"dataframe\">\n",
       "  <thead>\n",
       "    <tr style=\"text-align: right;\">\n",
       "      <th></th>\n",
       "      <th>itemID</th>\n",
       "      <th>itemID_2</th>\n",
       "      <th>title_x</th>\n",
       "      <th>title_y</th>\n",
       "      <th>lev_dist</th>\n",
       "      <th>jaro_dist</th>\n",
       "      <th>jarow_dist</th>\n",
       "    </tr>\n",
       "  </thead>\n",
       "  <tbody>\n",
       "    <tr>\n",
       "      <th>0</th>\n",
       "      <td>1</td>\n",
       "      <td>4112648</td>\n",
       "      <td>Продам Камаз 6520</td>\n",
       "      <td>Продам Камаз 6520</td>\n",
       "      <td>0</td>\n",
       "      <td>1.000000</td>\n",
       "      <td>1.000000</td>\n",
       "    </tr>\n",
       "    <tr>\n",
       "      <th>1</th>\n",
       "      <td>3</td>\n",
       "      <td>1991275</td>\n",
       "      <td>Yamaha r6</td>\n",
       "      <td>Yamaha R6</td>\n",
       "      <td>1</td>\n",
       "      <td>0.925926</td>\n",
       "      <td>0.955556</td>\n",
       "    </tr>\n",
       "    <tr>\n",
       "      <th>2</th>\n",
       "      <td>4</td>\n",
       "      <td>1223296</td>\n",
       "      <td>iPhone 3gs 8gb</td>\n",
       "      <td>iPhone 3gs 32gb</td>\n",
       "      <td>2</td>\n",
       "      <td>0.931746</td>\n",
       "      <td>0.959048</td>\n",
       "    </tr>\n",
       "    <tr>\n",
       "      <th>3</th>\n",
       "      <td>7</td>\n",
       "      <td>1058851</td>\n",
       "      <td>Xiaomi Mi4 3гб RAM + 16гб ROM белый</td>\n",
       "      <td>Смартфон Xiaomi Mi4 3гб RAM + 16гб ROM белый</td>\n",
       "      <td>9</td>\n",
       "      <td>0.788961</td>\n",
       "      <td>0.788961</td>\n",
       "    </tr>\n",
       "    <tr>\n",
       "      <th>4</th>\n",
       "      <td>8</td>\n",
       "      <td>2161930</td>\n",
       "      <td>Лыжные ботинки</td>\n",
       "      <td>Ботинки для лыж</td>\n",
       "      <td>13</td>\n",
       "      <td>0.360317</td>\n",
       "      <td>0.360317</td>\n",
       "    </tr>\n",
       "  </tbody>\n",
       "</table>\n",
       "</div>"
      ],
      "text/plain": [
       "   itemID  itemID_2                              title_x  \\\n",
       "0       1   4112648                    Продам Камаз 6520   \n",
       "1       3   1991275                            Yamaha r6   \n",
       "2       4   1223296                       iPhone 3gs 8gb   \n",
       "3       7   1058851  Xiaomi Mi4 3гб RAM + 16гб ROM белый   \n",
       "4       8   2161930                       Лыжные ботинки   \n",
       "\n",
       "                                        title_y  lev_dist  jaro_dist  \\\n",
       "0                             Продам Камаз 6520         0   1.000000   \n",
       "1                                     Yamaha R6         1   0.925926   \n",
       "2                               iPhone 3gs 32gb         2   0.931746   \n",
       "3  Смартфон Xiaomi Mi4 3гб RAM + 16гб ROM белый         9   0.788961   \n",
       "4                               Ботинки для лыж        13   0.360317   \n",
       "\n",
       "   jarow_dist  \n",
       "0    1.000000  \n",
       "1    0.955556  \n",
       "2    0.959048  \n",
       "3    0.788961  \n",
       "4    0.360317  "
      ]
     },
     "execution_count": 49,
     "metadata": {},
     "output_type": "execute_result"
    }
   ],
   "source": []
  }
 ],
 "metadata": {
  "kernelspec": {
   "display_name": "Python 2",
   "language": "python",
   "name": "python2"
  },
  "language_info": {
   "codemirror_mode": {
    "name": "ipython",
    "version": 2
   },
   "file_extension": ".py",
   "mimetype": "text/x-python",
   "name": "python",
   "nbconvert_exporter": "python",
   "pygments_lexer": "ipython2",
   "version": "2.7.13"
  }
 },
 "nbformat": 4,
 "nbformat_minor": 2
}
