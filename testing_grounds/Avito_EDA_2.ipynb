{
 "cells": [
  {
   "cell_type": "code",
   "execution_count": 2,
   "metadata": {
    "collapsed": true
   },
   "outputs": [],
   "source": [
    "from __future__ import unicode_literals\n",
    "import pandas as pd\n",
    "%matplotlib inline\n",
    "from matplotlib import pyplot as plt"
   ]
  },
  {
   "cell_type": "code",
   "execution_count": 2,
   "metadata": {
    "collapsed": true
   },
   "outputs": [],
   "source": [
    "pd.options.display.max_colwidth = -1\n",
    "pd.options.display.max_columns = None"
   ]
  },
  {
   "cell_type": "markdown",
   "metadata": {},
   "source": [
    "## Initial testing on 400 rows"
   ]
  },
  {
   "cell_type": "code",
   "execution_count": 32,
   "metadata": {
    "scrolled": true
   },
   "outputs": [
    {
     "name": "stdout",
     "output_type": "stream",
     "text": [
      "5\n"
     ]
    }
   ],
   "source": [
    "item_info = pd.read_csv('../ItemInfo_train.csv', encoding='utf-8', nrows=5)\n",
    "print(len(item_info))"
   ]
  },
  {
   "cell_type": "code",
   "execution_count": 34,
   "metadata": {},
   "outputs": [],
   "source": [
    "reverse_geo = pd.read_csv('reverse_geo.csv', encoding='utf-8')"
   ]
  },
  {
   "cell_type": "code",
   "execution_count": 35,
   "metadata": {},
   "outputs": [
    {
     "data": {
      "text/html": [
       "<div>\n",
       "<style>\n",
       "    .dataframe thead tr:only-child th {\n",
       "        text-align: right;\n",
       "    }\n",
       "\n",
       "    .dataframe thead th {\n",
       "        text-align: left;\n",
       "    }\n",
       "\n",
       "    .dataframe tbody tr th {\n",
       "        vertical-align: top;\n",
       "    }\n",
       "</style>\n",
       "<table border=\"1\" class=\"dataframe\">\n",
       "  <thead>\n",
       "    <tr style=\"text-align: right;\">\n",
       "      <th></th>\n",
       "      <th>Unnamed: 0</th>\n",
       "      <th>City_x</th>\n",
       "      <th>Neighborhood_x</th>\n",
       "      <th>State_x</th>\n",
       "      <th>Street_x</th>\n",
       "      <th>geocodeQuality_x</th>\n",
       "      <th>itemID</th>\n",
       "      <th>itemID_2</th>\n",
       "      <th>postalCode_x</th>\n",
       "    </tr>\n",
       "  </thead>\n",
       "  <tbody>\n",
       "    <tr>\n",
       "      <th>0</th>\n",
       "      <td>0</td>\n",
       "      <td>Blagoveshchensk</td>\n",
       "      <td>NaN</td>\n",
       "      <td>Amur Oblast</td>\n",
       "      <td>Заводская улица</td>\n",
       "      <td>STREET</td>\n",
       "      <td>57937</td>\n",
       "      <td>3346026</td>\n",
       "      <td>675001</td>\n",
       "    </tr>\n",
       "    <tr>\n",
       "      <th>1</th>\n",
       "      <td>1</td>\n",
       "      <td>Krasnogorsk</td>\n",
       "      <td>NaN</td>\n",
       "      <td>Moscow Oblast</td>\n",
       "      <td>Ильинский тупик</td>\n",
       "      <td>STREET</td>\n",
       "      <td>57963</td>\n",
       "      <td>4726688</td>\n",
       "      <td>143405</td>\n",
       "    </tr>\n",
       "    <tr>\n",
       "      <th>2</th>\n",
       "      <td>2</td>\n",
       "      <td>Ivanovo</td>\n",
       "      <td>NaN</td>\n",
       "      <td>Ivanovo Oblast</td>\n",
       "      <td>14-й проезд</td>\n",
       "      <td>STREET</td>\n",
       "      <td>58198</td>\n",
       "      <td>3060093</td>\n",
       "      <td>153000</td>\n",
       "    </tr>\n",
       "    <tr>\n",
       "      <th>3</th>\n",
       "      <td>3</td>\n",
       "      <td>Vladikavkaz</td>\n",
       "      <td>NaN</td>\n",
       "      <td>North Ossetia–Alania</td>\n",
       "      <td>83 Dovatora Avenue</td>\n",
       "      <td>POINT</td>\n",
       "      <td>58321</td>\n",
       "      <td>3431315</td>\n",
       "      <td>362000</td>\n",
       "    </tr>\n",
       "    <tr>\n",
       "      <th>4</th>\n",
       "      <td>4</td>\n",
       "      <td>Schokino</td>\n",
       "      <td>NaN</td>\n",
       "      <td>Tula Oblast</td>\n",
       "      <td>14 улица Победы</td>\n",
       "      <td>POINT</td>\n",
       "      <td>58330</td>\n",
       "      <td>5563022</td>\n",
       "      <td>301218</td>\n",
       "    </tr>\n",
       "  </tbody>\n",
       "</table>\n",
       "</div>"
      ],
      "text/plain": [
       "   Unnamed: 0           City_x Neighborhood_x               State_x  \\\n",
       "0           0  Blagoveshchensk            NaN           Amur Oblast   \n",
       "1           1      Krasnogorsk            NaN         Moscow Oblast   \n",
       "2           2          Ivanovo            NaN        Ivanovo Oblast   \n",
       "3           3      Vladikavkaz            NaN  North Ossetia–Alania   \n",
       "4           4         Schokino            NaN           Tula Oblast   \n",
       "\n",
       "             Street_x geocodeQuality_x  itemID  itemID_2 postalCode_x  \n",
       "0     Заводская улица           STREET   57937   3346026       675001  \n",
       "1     Ильинский тупик           STREET   57963   4726688       143405  \n",
       "2         14-й проезд           STREET   58198   3060093       153000  \n",
       "3  83 Dovatora Avenue            POINT   58321   3431315       362000  \n",
       "4     14 улица Победы            POINT   58330   5563022       301218  "
      ]
     },
     "execution_count": 35,
     "metadata": {},
     "output_type": "execute_result"
    }
   ],
   "source": [
    "reverse_geo.head()"
   ]
  },
  {
   "cell_type": "code",
   "execution_count": 19,
   "metadata": {},
   "outputs": [
    {
     "data": {
      "text/plain": [
       "1154041"
      ]
     },
     "execution_count": 19,
     "metadata": {},
     "output_type": "execute_result"
    }
   ],
   "source": [
    "item_pairs.itemID.duplicated().sum()"
   ]
  },
  {
   "cell_type": "code",
   "execution_count": 5,
   "metadata": {},
   "outputs": [
    {
     "name": "stdout",
     "output_type": "stream",
     "text": [
      "2991396\n"
     ]
    }
   ],
   "source": [
    "item_pairs = pd.read_csv('../ItemPairs_train.csv')\n",
    "print(len(item_pairs))"
   ]
  },
  {
   "cell_type": "code",
   "execution_count": 4,
   "metadata": {
    "scrolled": true
   },
   "outputs": [
    {
     "name": "stdout",
     "output_type": "stream",
     "text": [
      "2991396\n"
     ]
    }
   ],
   "source": [
    "item_info_mapped = pd.read_csv('ItemInfo_train_mapped.csv', encoding = 'utf-8')\n",
    "print(len(item_info_mapped))"
   ]
  },
  {
   "cell_type": "code",
   "execution_count": 16,
   "metadata": {
    "collapsed": true
   },
   "outputs": [],
   "source": [
    "desc_sim = pd.read_csv('./description_similarity.csv',encoding='utf-8',nrows=400)"
   ]
  },
  {
   "cell_type": "code",
   "execution_count": 17,
   "metadata": {
    "collapsed": true
   },
   "outputs": [],
   "source": [
    "result = pd.concat([item_info,desc_sim], axis=1)"
   ]
  },
  {
   "cell_type": "code",
   "execution_count": 18,
   "metadata": {
    "scrolled": true
   },
   "outputs": [
    {
     "data": {
      "text/html": [
       "<div>\n",
       "<style>\n",
       "    .dataframe thead tr:only-child th {\n",
       "        text-align: right;\n",
       "    }\n",
       "\n",
       "    .dataframe thead th {\n",
       "        text-align: left;\n",
       "    }\n",
       "\n",
       "    .dataframe tbody tr th {\n",
       "        vertical-align: top;\n",
       "    }\n",
       "</style>\n",
       "<table border=\"1\" class=\"dataframe\">\n",
       "  <thead>\n",
       "    <tr style=\"text-align: right;\">\n",
       "      <th></th>\n",
       "      <th>itemID</th>\n",
       "      <th>categoryID</th>\n",
       "      <th>title</th>\n",
       "      <th>description</th>\n",
       "      <th>images_array</th>\n",
       "      <th>attrsJSON</th>\n",
       "      <th>price</th>\n",
       "      <th>locationID</th>\n",
       "      <th>metroID</th>\n",
       "      <th>lat</th>\n",
       "      <th>lon</th>\n",
       "      <th>desc_sim</th>\n",
       "    </tr>\n",
       "  </thead>\n",
       "  <tbody>\n",
       "    <tr>\n",
       "      <th>0</th>\n",
       "      <td>1</td>\n",
       "      <td>81</td>\n",
       "      <td>Продам Камаз 6520</td>\n",
       "      <td>Продам Камаз 6520 20 тонн</td>\n",
       "      <td>1064094, 5252822, 6645873, 6960145, 9230265</td>\n",
       "      <td>{\"Вид техники\":\"Грузовики\"}</td>\n",
       "      <td>300000.0</td>\n",
       "      <td>648140</td>\n",
       "      <td>NaN</td>\n",
       "      <td>64.686946</td>\n",
       "      <td>30.815924</td>\n",
       "      <td>1.000000</td>\n",
       "    </tr>\n",
       "    <tr>\n",
       "      <th>1</th>\n",
       "      <td>3</td>\n",
       "      <td>14</td>\n",
       "      <td>Yamaha r6</td>\n",
       "      <td>Весь в тюнинге.</td>\n",
       "      <td>11919573, 14412228, 3204180, 6646877</td>\n",
       "      <td>{\"Вид техники\":\"Мотоциклы\", \"Вид мотоцикла\":\"С...</td>\n",
       "      <td>300000.0</td>\n",
       "      <td>639040</td>\n",
       "      <td>NaN</td>\n",
       "      <td>55.678037</td>\n",
       "      <td>37.256548</td>\n",
       "      <td>0.698324</td>\n",
       "    </tr>\n",
       "    <tr>\n",
       "      <th>2</th>\n",
       "      <td>4</td>\n",
       "      <td>84</td>\n",
       "      <td>iPhone 3gs 8gb</td>\n",
       "      <td>Телефон в хорошем состоянии, трещин и сколов н...</td>\n",
       "      <td>14384831, 6102021</td>\n",
       "      <td>{\"Вид телефона\":\"iPhone\"}</td>\n",
       "      <td>3500.0</td>\n",
       "      <td>640650</td>\n",
       "      <td>NaN</td>\n",
       "      <td>56.239398</td>\n",
       "      <td>43.460458</td>\n",
       "      <td>0.902371</td>\n",
       "    </tr>\n",
       "    <tr>\n",
       "      <th>3</th>\n",
       "      <td>7</td>\n",
       "      <td>84</td>\n",
       "      <td>Xiaomi Mi4 3гб RAM + 16гб ROM белый</td>\n",
       "      <td>Отличный подарок на новый год от \"китайской ap...</td>\n",
       "      <td>NaN</td>\n",
       "      <td>{\"Вид телефона\":\"Другие марки\"}</td>\n",
       "      <td>13500.0</td>\n",
       "      <td>662210</td>\n",
       "      <td>NaN</td>\n",
       "      <td>55.777170</td>\n",
       "      <td>37.586194</td>\n",
       "      <td>1.000000</td>\n",
       "    </tr>\n",
       "    <tr>\n",
       "      <th>4</th>\n",
       "      <td>8</td>\n",
       "      <td>39</td>\n",
       "      <td>Лыжные ботинки</td>\n",
       "      <td>Лыжные ботинки в хорошем состоянии, 34 размер</td>\n",
       "      <td>13718854, 4787310</td>\n",
       "      <td>{\"Вид товара\":\"Зимние виды спорта\"}</td>\n",
       "      <td>500.0</td>\n",
       "      <td>624360</td>\n",
       "      <td>NaN</td>\n",
       "      <td>55.777170</td>\n",
       "      <td>37.586194</td>\n",
       "      <td>0.983680</td>\n",
       "    </tr>\n",
       "  </tbody>\n",
       "</table>\n",
       "</div>"
      ],
      "text/plain": [
       "   itemID  categoryID                                title  \\\n",
       "0       1          81                    Продам Камаз 6520   \n",
       "1       3          14                            Yamaha r6   \n",
       "2       4          84                       iPhone 3gs 8gb   \n",
       "3       7          84  Xiaomi Mi4 3гб RAM + 16гб ROM белый   \n",
       "4       8          39                       Лыжные ботинки   \n",
       "\n",
       "                                         description  \\\n",
       "0                          Продам Камаз 6520 20 тонн   \n",
       "1                                    Весь в тюнинге.   \n",
       "2  Телефон в хорошем состоянии, трещин и сколов н...   \n",
       "3  Отличный подарок на новый год от \"китайской ap...   \n",
       "4      Лыжные ботинки в хорошем состоянии, 34 размер   \n",
       "\n",
       "                                  images_array  \\\n",
       "0  1064094, 5252822, 6645873, 6960145, 9230265   \n",
       "1         11919573, 14412228, 3204180, 6646877   \n",
       "2                            14384831, 6102021   \n",
       "3                                          NaN   \n",
       "4                            13718854, 4787310   \n",
       "\n",
       "                                           attrsJSON     price  locationID  \\\n",
       "0                        {\"Вид техники\":\"Грузовики\"}  300000.0      648140   \n",
       "1  {\"Вид техники\":\"Мотоциклы\", \"Вид мотоцикла\":\"С...  300000.0      639040   \n",
       "2                          {\"Вид телефона\":\"iPhone\"}    3500.0      640650   \n",
       "3                    {\"Вид телефона\":\"Другие марки\"}   13500.0      662210   \n",
       "4                {\"Вид товара\":\"Зимние виды спорта\"}     500.0      624360   \n",
       "\n",
       "   metroID        lat        lon  desc_sim  \n",
       "0      NaN  64.686946  30.815924  1.000000  \n",
       "1      NaN  55.678037  37.256548  0.698324  \n",
       "2      NaN  56.239398  43.460458  0.902371  \n",
       "3      NaN  55.777170  37.586194  1.000000  \n",
       "4      NaN  55.777170  37.586194  0.983680  "
      ]
     },
     "execution_count": 18,
     "metadata": {},
     "output_type": "execute_result"
    }
   ],
   "source": [
    "result.head()"
   ]
  },
  {
   "cell_type": "code",
   "execution_count": 44,
   "metadata": {
    "collapsed": true
   },
   "outputs": [
    {
     "name": "stdout",
     "output_type": "stream",
     "text": [
      "<type 'list'>\n"
     ]
    },
    {
     "data": {
      "text/plain": [
       "[u'\\u043f\\u0440-\\u0432\\u043e',\n",
       " u'\\u0430\\u043d\\u0433\\u043b\\u0438\\u044f.',\n",
       " u'\\u043a\\u043e\\u0436\\u0430.',\n",
       " u'\\u0440\\u0430\\u0437\\u0434\\u0435\\u043b\\u044c\\u043d\\u044b\\u0439.',\n",
       " u'\\u0437\\u0430\\u0449\\u0438\\u0442\\u0430:\\u043b\\u043e\\u043a\\u0442\\u0438,\\u043a\\u043e\\u043b\\u0435\\u043d\\u0438,\\u043f\\u043b\\u0435\\u0447\\u0438,\\u0441\\u043f\\u0438\\u043d\\u0430,\\u0431\\u0435\\u0434\\u0440\\u0430.',\n",
       " u'\\u0440\\u0430\\u0437\\u043c\\u0435\\u0440',\n",
       " u'xxs.\\u043e\\u0447\\u0435\\u043d\\u044c',\n",
       " u'\\u043c\\u0430\\u043b\\u0435\\u043d\\u044c\\u043a\\u0438\\u0439',\n",
       " u'\\u0440\\u0430\\u0437\\u043c\\u0435\\u0440!!!']"
      ]
     },
     "execution_count": 44,
     "metadata": {},
     "output_type": "execute_result"
    }
   ],
   "source": [
    "test = item_info.description[398].lower().split()\n",
    "# test.replace('\\n', ' ')\n",
    "print(type(test))\n",
    "test"
   ]
  },
  {
   "cell_type": "markdown",
   "metadata": {},
   "source": [
    "### Mapping for parentCategoryID, regionID"
   ]
  },
  {
   "cell_type": "code",
   "execution_count": 8,
   "metadata": {
    "collapsed": true
   },
   "outputs": [],
   "source": [
    "cat = pd.read_csv('../Category.csv')\n",
    "location = pd.read_csv('../Location.csv')\n",
    "\n",
    "item_pairs =pd.read_csv('../ItemPairs_train.csv')\n",
    "item_pairs.rename(columns={'itemID_1':'itemID'}, inplace=True)"
   ]
  },
  {
   "cell_type": "code",
   "execution_count": 15,
   "metadata": {},
   "outputs": [
    {
     "data": {
      "text/html": [
       "<div>\n",
       "<style>\n",
       "    .dataframe thead tr:only-child th {\n",
       "        text-align: right;\n",
       "    }\n",
       "\n",
       "    .dataframe thead th {\n",
       "        text-align: left;\n",
       "    }\n",
       "\n",
       "    .dataframe tbody tr th {\n",
       "        vertical-align: top;\n",
       "    }\n",
       "</style>\n",
       "<table border=\"1\" class=\"dataframe\">\n",
       "  <thead>\n",
       "    <tr style=\"text-align: right;\">\n",
       "      <th></th>\n",
       "      <th>itemID</th>\n",
       "      <th>itemID_2</th>\n",
       "      <th>isDuplicate</th>\n",
       "      <th>generationMethod</th>\n",
       "    </tr>\n",
       "  </thead>\n",
       "  <tbody>\n",
       "    <tr>\n",
       "      <th>0</th>\n",
       "      <td>1</td>\n",
       "      <td>4112648</td>\n",
       "      <td>1</td>\n",
       "      <td>1</td>\n",
       "    </tr>\n",
       "    <tr>\n",
       "      <th>1</th>\n",
       "      <td>3</td>\n",
       "      <td>1991275</td>\n",
       "      <td>1</td>\n",
       "      <td>1</td>\n",
       "    </tr>\n",
       "    <tr>\n",
       "      <th>2</th>\n",
       "      <td>4</td>\n",
       "      <td>1223296</td>\n",
       "      <td>0</td>\n",
       "      <td>1</td>\n",
       "    </tr>\n",
       "    <tr>\n",
       "      <th>3</th>\n",
       "      <td>7</td>\n",
       "      <td>1058851</td>\n",
       "      <td>1</td>\n",
       "      <td>1</td>\n",
       "    </tr>\n",
       "    <tr>\n",
       "      <th>4</th>\n",
       "      <td>8</td>\n",
       "      <td>2161930</td>\n",
       "      <td>1</td>\n",
       "      <td>1</td>\n",
       "    </tr>\n",
       "  </tbody>\n",
       "</table>\n",
       "</div>"
      ],
      "text/plain": [
       "   itemID  itemID_2  isDuplicate  generationMethod\n",
       "0  1       4112648   1            1               \n",
       "1  3       1991275   1            1               \n",
       "2  4       1223296   0            1               \n",
       "3  7       1058851   1            1               \n",
       "4  8       2161930   1            1               "
      ]
     },
     "execution_count": 15,
     "metadata": {},
     "output_type": "execute_result"
    }
   ],
   "source": [
    "item_pairs.head()"
   ]
  },
  {
   "cell_type": "code",
   "execution_count": 13,
   "metadata": {
    "scrolled": true
   },
   "outputs": [
    {
     "data": {
      "text/html": [
       "<div>\n",
       "<style>\n",
       "    .dataframe thead tr:only-child th {\n",
       "        text-align: right;\n",
       "    }\n",
       "\n",
       "    .dataframe thead th {\n",
       "        text-align: left;\n",
       "    }\n",
       "\n",
       "    .dataframe tbody tr th {\n",
       "        vertical-align: top;\n",
       "    }\n",
       "</style>\n",
       "<table border=\"1\" class=\"dataframe\">\n",
       "  <thead>\n",
       "    <tr style=\"text-align: right;\">\n",
       "      <th></th>\n",
       "      <th>itemID</th>\n",
       "      <th>categoryID</th>\n",
       "      <th>title</th>\n",
       "      <th>description</th>\n",
       "      <th>images_array</th>\n",
       "      <th>attrsJSON</th>\n",
       "      <th>price</th>\n",
       "      <th>locationID</th>\n",
       "      <th>metroID</th>\n",
       "      <th>lat</th>\n",
       "      <th>lon</th>\n",
       "      <th>parentCategoryID</th>\n",
       "      <th>regionID</th>\n",
       "      <th>itemID_2</th>\n",
       "      <th>isDuplicate</th>\n",
       "      <th>generationMethod</th>\n",
       "    </tr>\n",
       "  </thead>\n",
       "  <tbody>\n",
       "    <tr>\n",
       "      <th>2991391</th>\n",
       "      <td>6104033</td>\n",
       "      <td>NaN</td>\n",
       "      <td>NaN</td>\n",
       "      <td>NaN</td>\n",
       "      <td>NaN</td>\n",
       "      <td>NaN</td>\n",
       "      <td>NaN</td>\n",
       "      <td>NaN</td>\n",
       "      <td>NaN</td>\n",
       "      <td>NaN</td>\n",
       "      <td>NaN</td>\n",
       "      <td>NaN</td>\n",
       "      <td>NaN</td>\n",
       "      <td>6110827</td>\n",
       "      <td>0</td>\n",
       "      <td>1</td>\n",
       "    </tr>\n",
       "    <tr>\n",
       "      <th>2991392</th>\n",
       "      <td>6104879</td>\n",
       "      <td>NaN</td>\n",
       "      <td>NaN</td>\n",
       "      <td>NaN</td>\n",
       "      <td>NaN</td>\n",
       "      <td>NaN</td>\n",
       "      <td>NaN</td>\n",
       "      <td>NaN</td>\n",
       "      <td>NaN</td>\n",
       "      <td>NaN</td>\n",
       "      <td>NaN</td>\n",
       "      <td>NaN</td>\n",
       "      <td>NaN</td>\n",
       "      <td>6111227</td>\n",
       "      <td>1</td>\n",
       "      <td>1</td>\n",
       "    </tr>\n",
       "    <tr>\n",
       "      <th>2991393</th>\n",
       "      <td>6105178</td>\n",
       "      <td>NaN</td>\n",
       "      <td>NaN</td>\n",
       "      <td>NaN</td>\n",
       "      <td>NaN</td>\n",
       "      <td>NaN</td>\n",
       "      <td>NaN</td>\n",
       "      <td>NaN</td>\n",
       "      <td>NaN</td>\n",
       "      <td>NaN</td>\n",
       "      <td>NaN</td>\n",
       "      <td>NaN</td>\n",
       "      <td>NaN</td>\n",
       "      <td>6106210</td>\n",
       "      <td>0</td>\n",
       "      <td>1</td>\n",
       "    </tr>\n",
       "    <tr>\n",
       "      <th>2991394</th>\n",
       "      <td>6106239</td>\n",
       "      <td>NaN</td>\n",
       "      <td>NaN</td>\n",
       "      <td>NaN</td>\n",
       "      <td>NaN</td>\n",
       "      <td>NaN</td>\n",
       "      <td>NaN</td>\n",
       "      <td>NaN</td>\n",
       "      <td>NaN</td>\n",
       "      <td>NaN</td>\n",
       "      <td>NaN</td>\n",
       "      <td>NaN</td>\n",
       "      <td>NaN</td>\n",
       "      <td>6109219</td>\n",
       "      <td>1</td>\n",
       "      <td>2</td>\n",
       "    </tr>\n",
       "    <tr>\n",
       "      <th>2991395</th>\n",
       "      <td>6106742</td>\n",
       "      <td>NaN</td>\n",
       "      <td>NaN</td>\n",
       "      <td>NaN</td>\n",
       "      <td>NaN</td>\n",
       "      <td>NaN</td>\n",
       "      <td>NaN</td>\n",
       "      <td>NaN</td>\n",
       "      <td>NaN</td>\n",
       "      <td>NaN</td>\n",
       "      <td>NaN</td>\n",
       "      <td>NaN</td>\n",
       "      <td>NaN</td>\n",
       "      <td>6108600</td>\n",
       "      <td>0</td>\n",
       "      <td>3</td>\n",
       "    </tr>\n",
       "  </tbody>\n",
       "</table>\n",
       "</div>"
      ],
      "text/plain": [
       "          itemID  categoryID title description images_array attrsJSON  price  \\\n",
       "2991391  6104033         NaN   NaN         NaN          NaN       NaN    NaN   \n",
       "2991392  6104879         NaN   NaN         NaN          NaN       NaN    NaN   \n",
       "2991393  6105178         NaN   NaN         NaN          NaN       NaN    NaN   \n",
       "2991394  6106239         NaN   NaN         NaN          NaN       NaN    NaN   \n",
       "2991395  6106742         NaN   NaN         NaN          NaN       NaN    NaN   \n",
       "\n",
       "         locationID  metroID  lat  lon  parentCategoryID  regionID  itemID_2  \\\n",
       "2991391         NaN      NaN  NaN  NaN               NaN       NaN   6110827   \n",
       "2991392         NaN      NaN  NaN  NaN               NaN       NaN   6111227   \n",
       "2991393         NaN      NaN  NaN  NaN               NaN       NaN   6106210   \n",
       "2991394         NaN      NaN  NaN  NaN               NaN       NaN   6109219   \n",
       "2991395         NaN      NaN  NaN  NaN               NaN       NaN   6108600   \n",
       "\n",
       "         isDuplicate  generationMethod  \n",
       "2991391            0                 1  \n",
       "2991392            1                 1  \n",
       "2991393            0                 1  \n",
       "2991394            1                 2  \n",
       "2991395            0                 3  "
      ]
     },
     "execution_count": 13,
     "metadata": {},
     "output_type": "execute_result"
    }
   ],
   "source": [
    "df = pd.merge(pd.merge(pd.merge(item_info,cat, on='categoryID'),\n",
    "              location, on='locationID'),\n",
    "              item_pairs, on='itemID', how='right')\n",
    "\n",
    "df.tail()"
   ]
  },
  {
   "cell_type": "code",
   "execution_count": 15,
   "metadata": {},
   "outputs": [
    {
     "data": {
      "text/plain": [
       "-629"
      ]
     },
     "execution_count": 15,
     "metadata": {},
     "output_type": "execute_result"
    }
   ],
   "source": [
    "2990767-2991396"
   ]
  },
  {
   "cell_type": "code",
   "execution_count": 14,
   "metadata": {},
   "outputs": [
    {
     "data": {
      "text/plain": [
       "itemID                    0\n",
       "categoryID          2990767\n",
       "title               2990767\n",
       "description         2990768\n",
       "images_array        2990829\n",
       "attrsJSON           2990787\n",
       "price               2990816\n",
       "locationID          2990767\n",
       "metroID             2991209\n",
       "lat                 2990767\n",
       "lon                 2990767\n",
       "parentCategoryID    2990767\n",
       "regionID            2990767\n",
       "itemID_2                  0\n",
       "isDuplicate               0\n",
       "generationMethod          0\n",
       "dtype: int64"
      ]
     },
     "execution_count": 14,
     "metadata": {},
     "output_type": "execute_result"
    }
   ],
   "source": [
    "df.isnull().sum()"
   ]
  },
  {
   "cell_type": "markdown",
   "metadata": {},
   "source": [
    "###  Mapping `lat`, `lon` using MapQuest"
   ]
  },
  {
   "cell_type": "code",
   "execution_count": 4,
   "metadata": {
    "collapsed": true
   },
   "outputs": [],
   "source": [
    "import requests as re\n",
    "from bs4 import BeautifulSoup"
   ]
  },
  {
   "cell_type": "code",
   "execution_count": 7,
   "metadata": {
    "collapsed": true
   },
   "outputs": [],
   "source": [
    "# Obtain api key from MapQuest\n",
    "\n",
    "# Remove newline character when reading from file\n",
    "key = open('/home/juan/Documents/Avito/MapQuest_Key0.txt','r').read().strip()\n",
    "osm = ('http://www.mapquestapi.com/geocoding/v1/reverse?key='+key+'&location=')"
   ]
  },
  {
   "cell_type": "markdown",
   "metadata": {},
   "source": [
    "### Feature: Street, Neighborhood, City, State, PostalCode, GeocodeQuality"
   ]
  },
  {
   "cell_type": "code",
   "execution_count": 8,
   "metadata": {
    "collapsed": true
   },
   "outputs": [],
   "source": [
    "def latlon(lat,lon, code):\n",
    "    srch = osm + str(lat)+','+ str(lon)+'&outFormat=xml'\n",
    "#     print(srch)\n",
    "    r = re.get(srch)\n",
    "    soup = BeautifulSoup(r.content,'lxml') \n",
    "    return get_add(soup, code)"
   ]
  },
  {
   "cell_type": "code",
   "execution_count": 9,
   "metadata": {
    "collapsed": true
   },
   "outputs": [],
   "source": [
    "def get_add(soup,code):\n",
    "    return {'Street'+code: get_str(soup.street),\n",
    "        'Neighborhood'+code: get_str(soup.find(type=\"Neighborhood\")),\n",
    "        'City'+code: get_str(soup.find(type=\"City\")),\n",
    "        'State'+code:get_str(soup.find(type=\"State\")),\n",
    "           'postalCode'+code: get_str(soup.postalcode),\n",
    "           'geocodeQuality'+code: get_str(soup.geocodequality),}"
   ]
  },
  {
   "cell_type": "code",
   "execution_count": 10,
   "metadata": {
    "collapsed": true
   },
   "outputs": [],
   "source": [
    "def get_str(tag):\n",
    "    if tag is None:\n",
    "        return 'Nil'\n",
    "    else:\n",
    "        return tag.string"
   ]
  },
  {
   "cell_type": "code",
   "execution_count": 11,
   "metadata": {
    "collapsed": true
   },
   "outputs": [],
   "source": [
    "# lat lon should be in str\n",
    "def df_latlon(df,lat,lon,code):\n",
    "    df_ll = df.apply(lambda x: pd.Series(latlon(x[lat], x[lon], code)), axis=1)\n",
    "    return pd.concat([df,df_ll],axis=1)"
   ]
  },
  {
   "cell_type": "code",
   "execution_count": 12,
   "metadata": {},
   "outputs": [
    {
     "ename": "NameError",
     "evalue": "name 'df' is not defined",
     "output_type": "error",
     "traceback": [
      "\u001b[0;31m---------------------------------------------------------------------------\u001b[0m",
      "\u001b[0;31mNameError\u001b[0m                                 Traceback (most recent call last)",
      "\u001b[0;32m<ipython-input-12-cba2c549ac0a>\u001b[0m in \u001b[0;36m<module>\u001b[0;34m()\u001b[0m\n\u001b[0;32m----> 1\u001b[0;31m \u001b[0mdf1\u001b[0m \u001b[0;34m=\u001b[0m \u001b[0mdf_latlon\u001b[0m\u001b[0;34m(\u001b[0m\u001b[0mdf\u001b[0m\u001b[0;34m,\u001b[0m \u001b[0;34m'lat'\u001b[0m\u001b[0;34m,\u001b[0m \u001b[0;34m'lon'\u001b[0m\u001b[0;34m,\u001b[0m \u001b[0;34m'_x'\u001b[0m\u001b[0;34m)\u001b[0m\u001b[0;34m\u001b[0m\u001b[0m\n\u001b[0m\u001b[1;32m      2\u001b[0m \u001b[0mdf1\u001b[0m\u001b[0;34m.\u001b[0m\u001b[0mhead\u001b[0m\u001b[0;34m(\u001b[0m\u001b[0;34m)\u001b[0m\u001b[0;34m\u001b[0m\u001b[0m\n",
      "\u001b[0;31mNameError\u001b[0m: name 'df' is not defined"
     ]
    }
   ],
   "source": [
    "df1 = df_latlon(df, 'lat', 'lon', '_x')\n",
    "df1.head()"
   ]
  },
  {
   "cell_type": "code",
   "execution_count": 13,
   "metadata": {
    "scrolled": true
   },
   "outputs": [
    {
     "data": {
      "text/html": [
       "<div>\n",
       "<style>\n",
       "    .dataframe thead tr:only-child th {\n",
       "        text-align: right;\n",
       "    }\n",
       "\n",
       "    .dataframe thead th {\n",
       "        text-align: left;\n",
       "    }\n",
       "\n",
       "    .dataframe tbody tr th {\n",
       "        vertical-align: top;\n",
       "    }\n",
       "</style>\n",
       "<table border=\"1\" class=\"dataframe\">\n",
       "  <thead>\n",
       "    <tr style=\"text-align: right;\">\n",
       "      <th></th>\n",
       "      <th>itemID</th>\n",
       "      <th>categoryID</th>\n",
       "      <th>title</th>\n",
       "      <th>description</th>\n",
       "      <th>images_array</th>\n",
       "      <th>attrsJSON</th>\n",
       "      <th>price</th>\n",
       "      <th>locationID</th>\n",
       "      <th>metroID</th>\n",
       "      <th>lat</th>\n",
       "      <th>lon</th>\n",
       "      <th>City_x</th>\n",
       "      <th>Neighborhood_x</th>\n",
       "      <th>State_x</th>\n",
       "      <th>Street_x</th>\n",
       "      <th>geocodeQuality_x</th>\n",
       "      <th>postalCode_x</th>\n",
       "    </tr>\n",
       "  </thead>\n",
       "  <tbody>\n",
       "    <tr>\n",
       "      <th>0</th>\n",
       "      <td>1</td>\n",
       "      <td>81</td>\n",
       "      <td>Продам Камаз 6520</td>\n",
       "      <td>Продам Камаз 6520 20 тонн</td>\n",
       "      <td>1064094, 5252822, 6645873, 6960145, 9230265</td>\n",
       "      <td>{\"Вид техники\":\"Грузовики\"}</td>\n",
       "      <td>300000.0</td>\n",
       "      <td>648140</td>\n",
       "      <td>NaN</td>\n",
       "      <td>64.686946</td>\n",
       "      <td>30.815924</td>\n",
       "      <td>None</td>\n",
       "      <td>None</td>\n",
       "      <td>Northwestern Federal District</td>\n",
       "      <td>None</td>\n",
       "      <td>STATE</td>\n",
       "      <td>None</td>\n",
       "    </tr>\n",
       "    <tr>\n",
       "      <th>1</th>\n",
       "      <td>3</td>\n",
       "      <td>14</td>\n",
       "      <td>Yamaha r6</td>\n",
       "      <td>Весь в тюнинге.</td>\n",
       "      <td>11919573, 14412228, 3204180, 6646877</td>\n",
       "      <td>{\"Вид техники\":\"Мотоциклы\", \"Вид мотоцикла\":\"Спортивные\"}</td>\n",
       "      <td>300000.0</td>\n",
       "      <td>639040</td>\n",
       "      <td>NaN</td>\n",
       "      <td>55.678037</td>\n",
       "      <td>37.256548</td>\n",
       "      <td>Odintsovo</td>\n",
       "      <td>None</td>\n",
       "      <td>Moscow Oblast</td>\n",
       "      <td>Marshala Jhukova Street</td>\n",
       "      <td>STREET</td>\n",
       "      <td>143000</td>\n",
       "    </tr>\n",
       "    <tr>\n",
       "      <th>2</th>\n",
       "      <td>4</td>\n",
       "      <td>84</td>\n",
       "      <td>iPhone 3gs 8gb</td>\n",
       "      <td>Телефон в хорошем состоянии, трещин и сколов нет, за все время менялся только аккумулятор(поэтому заряд держит хорошо), остальное все родное, в целом работает отлично! В комплекте кабель. Обмен не интересен. Лежит без дела, только продажа.</td>\n",
       "      <td>14384831, 6102021</td>\n",
       "      <td>{\"Вид телефона\":\"iPhone\"}</td>\n",
       "      <td>3500.0</td>\n",
       "      <td>640650</td>\n",
       "      <td>NaN</td>\n",
       "      <td>56.239398</td>\n",
       "      <td>43.460458</td>\n",
       "      <td>Dzerzhinsk</td>\n",
       "      <td>None</td>\n",
       "      <td>Nizhny Novgorod Oblast</td>\n",
       "      <td>1 улица Кирова</td>\n",
       "      <td>POINT</td>\n",
       "      <td>606024</td>\n",
       "    </tr>\n",
       "    <tr>\n",
       "      <th>3</th>\n",
       "      <td>7</td>\n",
       "      <td>84</td>\n",
       "      <td>Xiaomi Mi4 3гб RAM + 16гб ROM белый</td>\n",
       "      <td>Отличный подарок на новый год от \"китайской apple\"\\nНовый в упаковке. Коробку вместе вскроем)\\nЭкран: 5 дюймов, 1080p, Sharp/JDI OGS (Возможно использование в перчатках)\\nЦвет корпуса: белый\\nМатериалы корпуса: пластик, металл, стекло\\n\\nПроцессор: Qualcomm Snapdragon 801 (8X74AC, 2.5Ггц)\\nВидео: Adreno 330 (578 Мгц)\\nОЗУ: 3Гб (LPDDR3 933Мгц)\\nПамять: 16Гб (eMMC 5.0)\\n\\nКамера задняя: 13Мп (Sony IMX214, f1.8, 6 линз)\\nКамера передняя: 8Мп (Sony IMX219, f1.8, 5 линз)\\n\\nWiFi: 802.11 a/b/g/n/ac 2.4/5Ггц\\nBluetooth: 4.0\\nНавигация: GPS/Glonass\\nСенсоры: ИК-Порт, Датчик освещенности, Барометр, Компас, Датчик силы тяжести\\n\\nСимкарта: MicroSIM\\n\\nАккумулятор: 3080 мАч (быстрая зарядка при 9V/1.2A или 5V/2A)\\n\\nДополнительно: Поддержка Smart Cover Case\\n\\nШирина: 68,5 мм\\nВысота: 139.2 мм\\nТолщина: 8.9 мм\\nВес: 149 г\\nБез 4G</td>\n",
       "      <td>NaN</td>\n",
       "      <td>{\"Вид телефона\":\"Другие марки\"}</td>\n",
       "      <td>13500.0</td>\n",
       "      <td>662210</td>\n",
       "      <td>NaN</td>\n",
       "      <td>55.777170</td>\n",
       "      <td>37.586194</td>\n",
       "      <td>Tverskoy District</td>\n",
       "      <td>None</td>\n",
       "      <td>Moscow</td>\n",
       "      <td>3 Лесная улица</td>\n",
       "      <td>POINT</td>\n",
       "      <td>125047</td>\n",
       "    </tr>\n",
       "    <tr>\n",
       "      <th>4</th>\n",
       "      <td>8</td>\n",
       "      <td>39</td>\n",
       "      <td>Лыжные ботинки</td>\n",
       "      <td>Лыжные ботинки в хорошем состоянии, 34 размер</td>\n",
       "      <td>13718854, 4787310</td>\n",
       "      <td>{\"Вид товара\":\"Зимние виды спорта\"}</td>\n",
       "      <td>500.0</td>\n",
       "      <td>624360</td>\n",
       "      <td>NaN</td>\n",
       "      <td>55.777170</td>\n",
       "      <td>37.586194</td>\n",
       "      <td>Tverskoy District</td>\n",
       "      <td>None</td>\n",
       "      <td>Moscow</td>\n",
       "      <td>3 Лесная улица</td>\n",
       "      <td>POINT</td>\n",
       "      <td>125047</td>\n",
       "    </tr>\n",
       "  </tbody>\n",
       "</table>\n",
       "</div>"
      ],
      "text/plain": [
       "   itemID  categoryID                                title  \\\n",
       "0  1       81          Продам Камаз 6520                     \n",
       "1  3       14          Yamaha r6                             \n",
       "2  4       84          iPhone 3gs 8gb                        \n",
       "3  7       84          Xiaomi Mi4 3гб RAM + 16гб ROM белый   \n",
       "4  8       39          Лыжные ботинки                        \n",
       "\n",
       "                                                                                                                                                                                                                                                                                                                                                                                                                                                                                                                                                                                                                                                                                                                                                                                                                                                      description  \\\n",
       "0  Продам Камаз 6520 20 тонн                                                                                                                                                                                                                                                                                                                                                                                                                                                                                                                                                                                                                                                                                                                                                                                                                                        \n",
       "1  Весь в тюнинге.                                                                                                                                                                                                                                                                                                                                                                                                                                                                                                                                                                                                                                                                                                                                                                                                                                                  \n",
       "2  Телефон в хорошем состоянии, трещин и сколов нет, за все время менялся только аккумулятор(поэтому заряд держит хорошо), остальное все родное, в целом работает отлично! В комплекте кабель. Обмен не интересен. Лежит без дела, только продажа.                                                                                                                                                                                                                                                                                                                                                                                                                                                                                                                                                                                                                  \n",
       "3  Отличный подарок на новый год от \"китайской apple\"\\nНовый в упаковке. Коробку вместе вскроем)\\nЭкран: 5 дюймов, 1080p, Sharp/JDI OGS (Возможно использование в перчатках)\\nЦвет корпуса: белый\\nМатериалы корпуса: пластик, металл, стекло\\n\\nПроцессор: Qualcomm Snapdragon 801 (8X74AC, 2.5Ггц)\\nВидео: Adreno 330 (578 Мгц)\\nОЗУ: 3Гб (LPDDR3 933Мгц)\\nПамять: 16Гб (eMMC 5.0)\\n\\nКамера задняя: 13Мп (Sony IMX214, f1.8, 6 линз)\\nКамера передняя: 8Мп (Sony IMX219, f1.8, 5 линз)\\n\\nWiFi: 802.11 a/b/g/n/ac 2.4/5Ггц\\nBluetooth: 4.0\\nНавигация: GPS/Glonass\\nСенсоры: ИК-Порт, Датчик освещенности, Барометр, Компас, Датчик силы тяжести\\n\\nСимкарта: MicroSIM\\n\\nАккумулятор: 3080 мАч (быстрая зарядка при 9V/1.2A или 5V/2A)\\n\\nДополнительно: Поддержка Smart Cover Case\\n\\nШирина: 68,5 мм\\nВысота: 139.2 мм\\nТолщина: 8.9 мм\\nВес: 149 г\\nБез 4G   \n",
       "4  Лыжные ботинки в хорошем состоянии, 34 размер                                                                                                                                                                                                                                                                                                                                                                                                                                                                                                                                                                                                                                                                                                                                                                                                                    \n",
       "\n",
       "                                  images_array  \\\n",
       "0  1064094, 5252822, 6645873, 6960145, 9230265   \n",
       "1  11919573, 14412228, 3204180, 6646877          \n",
       "2  14384831, 6102021                             \n",
       "3  NaN                                           \n",
       "4  13718854, 4787310                             \n",
       "\n",
       "                                                   attrsJSON     price  \\\n",
       "0  {\"Вид техники\":\"Грузовики\"}                                300000.0   \n",
       "1  {\"Вид техники\":\"Мотоциклы\", \"Вид мотоцикла\":\"Спортивные\"}  300000.0   \n",
       "2  {\"Вид телефона\":\"iPhone\"}                                  3500.0     \n",
       "3  {\"Вид телефона\":\"Другие марки\"}                            13500.0    \n",
       "4  {\"Вид товара\":\"Зимние виды спорта\"}                        500.0      \n",
       "\n",
       "   locationID  metroID        lat        lon             City_x  \\\n",
       "0  648140     NaN       64.686946  30.815924  None                \n",
       "1  639040     NaN       55.678037  37.256548  Odintsovo           \n",
       "2  640650     NaN       56.239398  43.460458  Dzerzhinsk          \n",
       "3  662210     NaN       55.777170  37.586194  Tverskoy District   \n",
       "4  624360     NaN       55.777170  37.586194  Tverskoy District   \n",
       "\n",
       "  Neighborhood_x                        State_x                 Street_x  \\\n",
       "0  None           Northwestern Federal District  None                      \n",
       "1  None           Moscow Oblast                  Marshala Jhukova Street   \n",
       "2  None           Nizhny Novgorod Oblast         1 улица Кирова            \n",
       "3  None           Moscow                         3 Лесная улица            \n",
       "4  None           Moscow                         3 Лесная улица            \n",
       "\n",
       "  geocodeQuality_x postalCode_x  \n",
       "0  STATE            None         \n",
       "1  STREET           143000       \n",
       "2  POINT            606024       \n",
       "3  POINT            125047       \n",
       "4  POINT            125047       "
      ]
     },
     "execution_count": 13,
     "metadata": {},
     "output_type": "execute_result"
    }
   ],
   "source": [
    "df1 = df_latlon(item_info, 'lat', 'lon', '_x')\n",
    "df1.head()"
   ]
  },
  {
   "cell_type": "markdown",
   "metadata": {},
   "source": [
    "### Merging ItemID_2 info with ItemID_1"
   ]
  },
  {
   "cell_type": "code",
   "execution_count": 11,
   "metadata": {
    "collapsed": true
   },
   "outputs": [],
   "source": [
    "cat2 = cat.rename(columns={'categoryID':'categoryID_y'})\n",
    "location2 = location.rename(columns={'locationID':'locationID_y'})"
   ]
  },
  {
   "cell_type": "code",
   "execution_count": 22,
   "metadata": {
    "collapsed": true
   },
   "outputs": [],
   "source": [
    "item_infofull = pd.read_csv(filepath+'ItemInfo_train.csv')"
   ]
  },
  {
   "cell_type": "code",
   "execution_count": 13,
   "metadata": {},
   "outputs": [
    {
     "data": {
      "text/plain": [
       "400"
      ]
     },
     "execution_count": 13,
     "metadata": {},
     "output_type": "execute_result"
    }
   ],
   "source": [
    "len(item_infofull)"
   ]
  },
  {
   "cell_type": "code",
   "execution_count": 24,
   "metadata": {
    "collapsed": true
   },
   "outputs": [],
   "source": [
    "item_infofull.rename(columns={'itemID':'itemID_2'}, inplace=True)\n",
    "\n",
    "df2 = pd.merge(pd.merge(pd.merge(df1,item_infofull, on='itemID_2'),\n",
    "               cat2, on='categoryID_y'),\n",
    "               location2, on='locationID_y')"
   ]
  },
  {
   "cell_type": "code",
   "execution_count": 25,
   "metadata": {
    "collapsed": true
   },
   "outputs": [],
   "source": [
    "df2 = df2.drop(['attrsJSON_x','metroID_x','attrsJSON_y','metroID_y'],axis=1)"
   ]
  },
  {
   "cell_type": "code",
   "execution_count": 26,
   "metadata": {
    "scrolled": true
   },
   "outputs": [
    {
     "data": {
      "text/html": [
       "<div>\n",
       "<style>\n",
       "    .dataframe thead tr:only-child th {\n",
       "        text-align: right;\n",
       "    }\n",
       "\n",
       "    .dataframe thead th {\n",
       "        text-align: left;\n",
       "    }\n",
       "\n",
       "    .dataframe tbody tr th {\n",
       "        vertical-align: top;\n",
       "    }\n",
       "</style>\n",
       "<table border=\"1\" class=\"dataframe\">\n",
       "  <thead>\n",
       "    <tr style=\"text-align: right;\">\n",
       "      <th></th>\n",
       "      <th>itemID</th>\n",
       "      <th>categoryID_x</th>\n",
       "      <th>title_x</th>\n",
       "      <th>description_x</th>\n",
       "      <th>images_array_x</th>\n",
       "      <th>price_x</th>\n",
       "      <th>locationID_x</th>\n",
       "      <th>lat_x</th>\n",
       "      <th>lon_x</th>\n",
       "      <th>parentCategoryID_x</th>\n",
       "      <th>...</th>\n",
       "      <th>lat_y</th>\n",
       "      <th>lon_y</th>\n",
       "      <th>parentCategoryID_y</th>\n",
       "      <th>regionID_y</th>\n",
       "      <th>City_y</th>\n",
       "      <th>Neighborhood_y</th>\n",
       "      <th>State_y</th>\n",
       "      <th>Street_y</th>\n",
       "      <th>geocodeQuality_y</th>\n",
       "      <th>postalCode_y</th>\n",
       "    </tr>\n",
       "  </thead>\n",
       "  <tbody>\n",
       "    <tr>\n",
       "      <th>395</th>\n",
       "      <td>182</td>\n",
       "      <td>89</td>\n",
       "      <td>Той терьер</td>\n",
       "      <td>Маленький мальчик ждёт свои любящие заботливые...</td>\n",
       "      <td>10392879</td>\n",
       "      <td>4500.0</td>\n",
       "      <td>637440</td>\n",
       "      <td>55.777170</td>\n",
       "      <td>37.586194</td>\n",
       "      <td>35</td>\n",
       "      <td>...</td>\n",
       "      <td>52.603587</td>\n",
       "      <td>39.597603</td>\n",
       "      <td>35</td>\n",
       "      <td>637260</td>\n",
       "      <td>Nil</td>\n",
       "      <td>Nil</td>\n",
       "      <td>Nil</td>\n",
       "      <td>Nil</td>\n",
       "      <td>Nil</td>\n",
       "      <td>Nil</td>\n",
       "    </tr>\n",
       "    <tr>\n",
       "      <th>396</th>\n",
       "      <td>194</td>\n",
       "      <td>89</td>\n",
       "      <td>Девочка-медвежонок</td>\n",
       "      <td>Девочка рождена 30.12.2015г.Необыкновенно крас...</td>\n",
       "      <td>1576787, 6191208, 6411740</td>\n",
       "      <td>21000.0</td>\n",
       "      <td>658080</td>\n",
       "      <td>54.193802</td>\n",
       "      <td>37.619028</td>\n",
       "      <td>35</td>\n",
       "      <td>...</td>\n",
       "      <td>54.511823</td>\n",
       "      <td>37.051400</td>\n",
       "      <td>35</td>\n",
       "      <td>657610</td>\n",
       "      <td>Nil</td>\n",
       "      <td>Nil</td>\n",
       "      <td>Nil</td>\n",
       "      <td>Nil</td>\n",
       "      <td>Nil</td>\n",
       "      <td>Nil</td>\n",
       "    </tr>\n",
       "    <tr>\n",
       "      <th>397</th>\n",
       "      <td>263</td>\n",
       "      <td>98</td>\n",
       "      <td>Игровой Ноутбук Packard Bell EasyNote TV11HC</td>\n",
       "      <td>ПРОДАЮ ОЧЕНЬ СРОЧНО\\n###Один Косяк - не работа...</td>\n",
       "      <td>5114133, 5446654, 8001859</td>\n",
       "      <td>14000.0</td>\n",
       "      <td>632210</td>\n",
       "      <td>56.283994</td>\n",
       "      <td>43.911043</td>\n",
       "      <td>6</td>\n",
       "      <td>...</td>\n",
       "      <td>55.777170</td>\n",
       "      <td>37.586194</td>\n",
       "      <td>6</td>\n",
       "      <td>631730</td>\n",
       "      <td>Nil</td>\n",
       "      <td>Nil</td>\n",
       "      <td>Nil</td>\n",
       "      <td>Nil</td>\n",
       "      <td>Nil</td>\n",
       "      <td>Nil</td>\n",
       "    </tr>\n",
       "    <tr>\n",
       "      <th>398</th>\n",
       "      <td>103</td>\n",
       "      <td>25</td>\n",
       "      <td>Дом 170 м² на участке 10 сот.</td>\n",
       "      <td>Продам дом с.Троицкая ул.Тутаева новый дом ряд...</td>\n",
       "      <td>53314, 5725170, 6074414, 6779848, 7916713, 809...</td>\n",
       "      <td>2800000.0</td>\n",
       "      <td>653317</td>\n",
       "      <td>43.315854</td>\n",
       "      <td>45.067202</td>\n",
       "      <td>4</td>\n",
       "      <td>...</td>\n",
       "      <td>43.315854</td>\n",
       "      <td>45.067202</td>\n",
       "      <td>4</td>\n",
       "      <td>628455</td>\n",
       "      <td>Nil</td>\n",
       "      <td>Nil</td>\n",
       "      <td>Nil</td>\n",
       "      <td>Nil</td>\n",
       "      <td>Nil</td>\n",
       "      <td>Nil</td>\n",
       "    </tr>\n",
       "    <tr>\n",
       "      <th>399</th>\n",
       "      <td>103</td>\n",
       "      <td>25</td>\n",
       "      <td>Дом 170 м² на участке 10 сот.</td>\n",
       "      <td>Продам дом с.Троицкая ул.Тутаева новый дом ряд...</td>\n",
       "      <td>53314, 5725170, 6074414, 6779848, 7916713, 809...</td>\n",
       "      <td>2800000.0</td>\n",
       "      <td>653317</td>\n",
       "      <td>43.315854</td>\n",
       "      <td>45.067202</td>\n",
       "      <td>4</td>\n",
       "      <td>...</td>\n",
       "      <td>43.315854</td>\n",
       "      <td>45.067202</td>\n",
       "      <td>4</td>\n",
       "      <td>628455</td>\n",
       "      <td>Nil</td>\n",
       "      <td>Nil</td>\n",
       "      <td>Nil</td>\n",
       "      <td>Nil</td>\n",
       "      <td>Nil</td>\n",
       "      <td>Nil</td>\n",
       "    </tr>\n",
       "  </tbody>\n",
       "</table>\n",
       "<p>5 rows × 36 columns</p>\n",
       "</div>"
      ],
      "text/plain": [
       "     itemID  categoryID_x                                       title_x  \\\n",
       "395     182            89                                    Той терьер   \n",
       "396     194            89                            Девочка-медвежонок   \n",
       "397     263            98  Игровой Ноутбук Packard Bell EasyNote TV11HC   \n",
       "398     103            25                 Дом 170 м² на участке 10 сот.   \n",
       "399     103            25                 Дом 170 м² на участке 10 сот.   \n",
       "\n",
       "                                         description_x  \\\n",
       "395  Маленький мальчик ждёт свои любящие заботливые...   \n",
       "396  Девочка рождена 30.12.2015г.Необыкновенно крас...   \n",
       "397  ПРОДАЮ ОЧЕНЬ СРОЧНО\\n###Один Косяк - не работа...   \n",
       "398  Продам дом с.Троицкая ул.Тутаева новый дом ряд...   \n",
       "399  Продам дом с.Троицкая ул.Тутаева новый дом ряд...   \n",
       "\n",
       "                                        images_array_x    price_x  \\\n",
       "395                                           10392879     4500.0   \n",
       "396                          1576787, 6191208, 6411740    21000.0   \n",
       "397                          5114133, 5446654, 8001859    14000.0   \n",
       "398  53314, 5725170, 6074414, 6779848, 7916713, 809...  2800000.0   \n",
       "399  53314, 5725170, 6074414, 6779848, 7916713, 809...  2800000.0   \n",
       "\n",
       "     locationID_x      lat_x      lon_x  parentCategoryID_x     ...       \\\n",
       "395        637440  55.777170  37.586194                  35     ...        \n",
       "396        658080  54.193802  37.619028                  35     ...        \n",
       "397        632210  56.283994  43.911043                   6     ...        \n",
       "398        653317  43.315854  45.067202                   4     ...        \n",
       "399        653317  43.315854  45.067202                   4     ...        \n",
       "\n",
       "         lat_y      lon_y  parentCategoryID_y  regionID_y City_y  \\\n",
       "395  52.603587  39.597603                  35      637260    Nil   \n",
       "396  54.511823  37.051400                  35      657610    Nil   \n",
       "397  55.777170  37.586194                   6      631730    Nil   \n",
       "398  43.315854  45.067202                   4      628455    Nil   \n",
       "399  43.315854  45.067202                   4      628455    Nil   \n",
       "\n",
       "    Neighborhood_y State_y Street_y geocodeQuality_y postalCode_y  \n",
       "395            Nil     Nil      Nil              Nil          Nil  \n",
       "396            Nil     Nil      Nil              Nil          Nil  \n",
       "397            Nil     Nil      Nil              Nil          Nil  \n",
       "398            Nil     Nil      Nil              Nil          Nil  \n",
       "399            Nil     Nil      Nil              Nil          Nil  \n",
       "\n",
       "[5 rows x 36 columns]"
      ]
     },
     "execution_count": 26,
     "metadata": {},
     "output_type": "execute_result"
    }
   ],
   "source": [
    "df3 = df_latlon(df2, 'lat_y', 'lon_y', '_y')\n",
    "df3.tail()"
   ]
  },
  {
   "cell_type": "code",
   "execution_count": 27,
   "metadata": {},
   "outputs": [
    {
     "data": {
      "text/html": [
       "<div>\n",
       "<style>\n",
       "    .dataframe thead tr:only-child th {\n",
       "        text-align: right;\n",
       "    }\n",
       "\n",
       "    .dataframe thead th {\n",
       "        text-align: left;\n",
       "    }\n",
       "\n",
       "    .dataframe tbody tr th {\n",
       "        vertical-align: top;\n",
       "    }\n",
       "</style>\n",
       "<table border=\"1\" class=\"dataframe\">\n",
       "  <thead>\n",
       "    <tr style=\"text-align: right;\">\n",
       "      <th></th>\n",
       "      <th>itemID</th>\n",
       "      <th>categoryID_x</th>\n",
       "      <th>title_x</th>\n",
       "      <th>description_x</th>\n",
       "      <th>images_array_x</th>\n",
       "      <th>price_x</th>\n",
       "      <th>locationID_x</th>\n",
       "      <th>lat_x</th>\n",
       "      <th>lon_x</th>\n",
       "      <th>parentCategoryID_x</th>\n",
       "      <th>regionID_x</th>\n",
       "      <th>itemID_2</th>\n",
       "      <th>isDuplicate</th>\n",
       "      <th>generationMethod</th>\n",
       "      <th>City_x</th>\n",
       "      <th>Neighborhood_x</th>\n",
       "      <th>State_x</th>\n",
       "      <th>Street_x</th>\n",
       "      <th>geocodeQuality_x</th>\n",
       "      <th>postalCode_x</th>\n",
       "      <th>categoryID_y</th>\n",
       "      <th>title_y</th>\n",
       "      <th>description_y</th>\n",
       "      <th>images_array_y</th>\n",
       "      <th>price_y</th>\n",
       "      <th>locationID_y</th>\n",
       "      <th>lat_y</th>\n",
       "      <th>lon_y</th>\n",
       "      <th>parentCategoryID_y</th>\n",
       "      <th>regionID_y</th>\n",
       "      <th>City_y</th>\n",
       "      <th>Neighborhood_y</th>\n",
       "      <th>State_y</th>\n",
       "      <th>Street_y</th>\n",
       "      <th>geocodeQuality_y</th>\n",
       "      <th>postalCode_y</th>\n",
       "    </tr>\n",
       "  </thead>\n",
       "  <tbody>\n",
       "    <tr>\n",
       "      <th>0</th>\n",
       "      <td>1</td>\n",
       "      <td>81</td>\n",
       "      <td>Продам Камаз 6520</td>\n",
       "      <td>Продам Камаз 6520 20 тонн</td>\n",
       "      <td>1064094, 5252822, 6645873, 6960145, 9230265</td>\n",
       "      <td>300000.0</td>\n",
       "      <td>648140</td>\n",
       "      <td>64.686946</td>\n",
       "      <td>30.815924</td>\n",
       "      <td>1</td>\n",
       "      <td>648070</td>\n",
       "      <td>4112648</td>\n",
       "      <td>1</td>\n",
       "      <td>1</td>\n",
       "      <td>Nil</td>\n",
       "      <td>Nil</td>\n",
       "      <td>Nil</td>\n",
       "      <td>Nil</td>\n",
       "      <td>Nil</td>\n",
       "      <td>Nil</td>\n",
       "      <td>81</td>\n",
       "      <td>Продам Камаз 6520</td>\n",
       "      <td>Продам Камаз 6520 20 тонн</td>\n",
       "      <td>1227519, 1374615, 7072137, 8671835</td>\n",
       "      <td>300000.0</td>\n",
       "      <td>648140</td>\n",
       "      <td>64.686946</td>\n",
       "      <td>30.815924</td>\n",
       "      <td>1</td>\n",
       "      <td>648070</td>\n",
       "      <td>Nil</td>\n",
       "      <td>Nil</td>\n",
       "      <td>Nil</td>\n",
       "      <td>Nil</td>\n",
       "      <td>Nil</td>\n",
       "      <td>Nil</td>\n",
       "    </tr>\n",
       "    <tr>\n",
       "      <th>1</th>\n",
       "      <td>193</td>\n",
       "      <td>81</td>\n",
       "      <td>MAN TGX 18.480</td>\n",
       "      <td>Продаю MAN TGX 18.480 2008 года выпуска, кпп автомат. Состояние отличное, готов к работе. Рассмотрю варианты обмена. Подробности по телефону.</td>\n",
       "      <td>1029765, 11597556, 3448022, 551083, 8444145</td>\n",
       "      <td>2400000.0</td>\n",
       "      <td>648760</td>\n",
       "      <td>56.637263</td>\n",
       "      <td>47.886673</td>\n",
       "      <td>1</td>\n",
       "      <td>648730</td>\n",
       "      <td>3918495</td>\n",
       "      <td>1</td>\n",
       "      <td>1</td>\n",
       "      <td>Nil</td>\n",
       "      <td>Nil</td>\n",
       "      <td>Nil</td>\n",
       "      <td>Nil</td>\n",
       "      <td>Nil</td>\n",
       "      <td>Nil</td>\n",
       "      <td>81</td>\n",
       "      <td>Man TGX 18.480</td>\n",
       "      <td>Продаю маn TGX 18.480 2008 года выпуска, кпп автомат. Состояние отличное, готов к работе. Обмен. Подробности по телефону.</td>\n",
       "      <td>10043643, 1448346, 1890733, 3048514, 3836550</td>\n",
       "      <td>2400000.0</td>\n",
       "      <td>648760</td>\n",
       "      <td>56.637263</td>\n",
       "      <td>47.886673</td>\n",
       "      <td>1</td>\n",
       "      <td>648730</td>\n",
       "      <td>Nil</td>\n",
       "      <td>Nil</td>\n",
       "      <td>Nil</td>\n",
       "      <td>Nil</td>\n",
       "      <td>Nil</td>\n",
       "      <td>Nil</td>\n",
       "    </tr>\n",
       "    <tr>\n",
       "      <th>2</th>\n",
       "      <td>3</td>\n",
       "      <td>14</td>\n",
       "      <td>Yamaha r6</td>\n",
       "      <td>Весь в тюнинге.</td>\n",
       "      <td>11919573, 14412228, 3204180, 6646877</td>\n",
       "      <td>300000.0</td>\n",
       "      <td>639040</td>\n",
       "      <td>55.678037</td>\n",
       "      <td>37.256548</td>\n",
       "      <td>1</td>\n",
       "      <td>637680</td>\n",
       "      <td>1991275</td>\n",
       "      <td>1</td>\n",
       "      <td>1</td>\n",
       "      <td>Nil</td>\n",
       "      <td>Nil</td>\n",
       "      <td>Nil</td>\n",
       "      <td>Nil</td>\n",
       "      <td>Nil</td>\n",
       "      <td>Nil</td>\n",
       "      <td>14</td>\n",
       "      <td>Yamaha R6</td>\n",
       "      <td>Весь в тюнинге. Возможен торг</td>\n",
       "      <td>11068709, 13325040, 13783238, 206652, 9458537</td>\n",
       "      <td>330000.0</td>\n",
       "      <td>639040</td>\n",
       "      <td>55.678037</td>\n",
       "      <td>37.256548</td>\n",
       "      <td>1</td>\n",
       "      <td>637680</td>\n",
       "      <td>Nil</td>\n",
       "      <td>Nil</td>\n",
       "      <td>Nil</td>\n",
       "      <td>Nil</td>\n",
       "      <td>Nil</td>\n",
       "      <td>Nil</td>\n",
       "    </tr>\n",
       "    <tr>\n",
       "      <th>3</th>\n",
       "      <td>291</td>\n",
       "      <td>14</td>\n",
       "      <td>Продам Stels-s450</td>\n",
       "      <td>Продам квадр 450к\\nИдеальное состояние,практически не использовался..! (Сост Нового)\\nТорг при осмотре!\\nПричина продажи покупка недвижимости.</td>\n",
       "      <td>13528926, 4615652, 6856546</td>\n",
       "      <td>170000.0</td>\n",
       "      <td>638220</td>\n",
       "      <td>55.744272</td>\n",
       "      <td>38.015894</td>\n",
       "      <td>1</td>\n",
       "      <td>637680</td>\n",
       "      <td>562789</td>\n",
       "      <td>1</td>\n",
       "      <td>1</td>\n",
       "      <td>Nil</td>\n",
       "      <td>Nil</td>\n",
       "      <td>Nil</td>\n",
       "      <td>Nil</td>\n",
       "      <td>Nil</td>\n",
       "      <td>Nil</td>\n",
       "      <td>14</td>\n",
       "      <td>Продам stels 450H</td>\n",
       "      <td>Продаю квадроцикл,состояние нового!\\nИзредка использовал для прогулок по лесу,грязи не видел!\\nПокупал сам в магазине,никаких вложений не требует.\\nДокументы на руках..\\nПродаю по причине,беру ипотеки и покупаю недвижимость.\\nЕсли без торга,то кофр отдам его стоимость 12000.</td>\n",
       "      <td>11150303, 11189165, 13671950, 1990395, 8559868</td>\n",
       "      <td>168000.0</td>\n",
       "      <td>638220</td>\n",
       "      <td>55.744272</td>\n",
       "      <td>38.015894</td>\n",
       "      <td>1</td>\n",
       "      <td>637680</td>\n",
       "      <td>Nil</td>\n",
       "      <td>Nil</td>\n",
       "      <td>Nil</td>\n",
       "      <td>Nil</td>\n",
       "      <td>Nil</td>\n",
       "      <td>Nil</td>\n",
       "    </tr>\n",
       "    <tr>\n",
       "      <th>4</th>\n",
       "      <td>450</td>\n",
       "      <td>30</td>\n",
       "      <td>Продам мобиль-ночник</td>\n",
       "      <td>Состояние нового,если снять игрушки будет просто ночник с музыкой.</td>\n",
       "      <td>10533554, 11351624, 12053366, 4907365, 5647588</td>\n",
       "      <td>600.0</td>\n",
       "      <td>638220</td>\n",
       "      <td>55.744272</td>\n",
       "      <td>38.015894</td>\n",
       "      <td>5</td>\n",
       "      <td>637680</td>\n",
       "      <td>5959208</td>\n",
       "      <td>1</td>\n",
       "      <td>1</td>\n",
       "      <td>Nil</td>\n",
       "      <td>Nil</td>\n",
       "      <td>Nil</td>\n",
       "      <td>Nil</td>\n",
       "      <td>Nil</td>\n",
       "      <td>Nil</td>\n",
       "      <td>30</td>\n",
       "      <td>Продам мобиль-ночник</td>\n",
       "      <td>Пользовались 1 месяц,подсветка 3 режима,музыка,вибрация.крутиться вертится.</td>\n",
       "      <td>14041801, 1643200</td>\n",
       "      <td>600.0</td>\n",
       "      <td>637770</td>\n",
       "      <td>55.797409</td>\n",
       "      <td>37.934462</td>\n",
       "      <td>5</td>\n",
       "      <td>637680</td>\n",
       "      <td>Nil</td>\n",
       "      <td>Nil</td>\n",
       "      <td>Nil</td>\n",
       "      <td>Nil</td>\n",
       "      <td>Nil</td>\n",
       "      <td>Nil</td>\n",
       "    </tr>\n",
       "  </tbody>\n",
       "</table>\n",
       "</div>"
      ],
      "text/plain": [
       "   itemID  categoryID_x               title_x  \\\n",
       "0  1       81            Продам Камаз 6520      \n",
       "1  193     81            MAN TGX 18.480         \n",
       "2  3       14            Yamaha r6              \n",
       "3  291     14            Продам Stels-s450      \n",
       "4  450     30            Продам мобиль-ночник   \n",
       "\n",
       "                                                                                                                                    description_x  \\\n",
       "0  Продам Камаз 6520 20 тонн                                                                                                                        \n",
       "1  Продаю MAN TGX 18.480 2008 года выпуска, кпп автомат. Состояние отличное, готов к работе. Рассмотрю варианты обмена. Подробности по телефону.    \n",
       "2  Весь в тюнинге.                                                                                                                                  \n",
       "3  Продам квадр 450к\\nИдеальное состояние,практически не использовался..! (Сост Нового)\\nТорг при осмотре!\\nПричина продажи покупка недвижимости.   \n",
       "4  Состояние нового,если снять игрушки будет просто ночник с музыкой.                                                                               \n",
       "\n",
       "                                   images_array_x    price_x  locationID_x  \\\n",
       "0  1064094, 5252822, 6645873, 6960145, 9230265     300000.0   648140         \n",
       "1  1029765, 11597556, 3448022, 551083, 8444145     2400000.0  648760         \n",
       "2  11919573, 14412228, 3204180, 6646877            300000.0   639040         \n",
       "3  13528926, 4615652, 6856546                      170000.0   638220         \n",
       "4  10533554, 11351624, 12053366, 4907365, 5647588  600.0      638220         \n",
       "\n",
       "       lat_x      lon_x  parentCategoryID_x  regionID_x  itemID_2  \\\n",
       "0  64.686946  30.815924  1                   648070      4112648    \n",
       "1  56.637263  47.886673  1                   648730      3918495    \n",
       "2  55.678037  37.256548  1                   637680      1991275    \n",
       "3  55.744272  38.015894  1                   637680      562789     \n",
       "4  55.744272  38.015894  5                   637680      5959208    \n",
       "\n",
       "   isDuplicate  generationMethod City_x Neighborhood_x State_x Street_x  \\\n",
       "0  1            1                 Nil    Nil            Nil     Nil       \n",
       "1  1            1                 Nil    Nil            Nil     Nil       \n",
       "2  1            1                 Nil    Nil            Nil     Nil       \n",
       "3  1            1                 Nil    Nil            Nil     Nil       \n",
       "4  1            1                 Nil    Nil            Nil     Nil       \n",
       "\n",
       "  geocodeQuality_x postalCode_x  categoryID_y               title_y  \\\n",
       "0  Nil              Nil          81            Продам Камаз 6520      \n",
       "1  Nil              Nil          81            Man TGX 18.480         \n",
       "2  Nil              Nil          14            Yamaha R6              \n",
       "3  Nil              Nil          14            Продам stels 450H      \n",
       "4  Nil              Nil          30            Продам мобиль-ночник   \n",
       "\n",
       "                                                                                                                                                                                                                                                                         description_y  \\\n",
       "0  Продам Камаз 6520 20 тонн                                                                                                                                                                                                                                                             \n",
       "1  Продаю маn TGX 18.480 2008 года выпуска, кпп автомат. Состояние отличное, готов к работе. Обмен. Подробности по телефону.                                                                                                                                                             \n",
       "2  Весь в тюнинге. Возможен торг                                                                                                                                                                                                                                                         \n",
       "3  Продаю квадроцикл,состояние нового!\\nИзредка использовал для прогулок по лесу,грязи не видел!\\nПокупал сам в магазине,никаких вложений не требует.\\nДокументы на руках..\\nПродаю по причине,беру ипотеки и покупаю недвижимость.\\nЕсли без торга,то кофр отдам его стоимость 12000.   \n",
       "4  Пользовались 1 месяц,подсветка 3 режима,музыка,вибрация.крутиться вертится.                                                                                                                                                                                                           \n",
       "\n",
       "                                   images_array_y    price_y  locationID_y  \\\n",
       "0  1227519, 1374615, 7072137, 8671835              300000.0   648140         \n",
       "1  10043643, 1448346, 1890733, 3048514, 3836550    2400000.0  648760         \n",
       "2  11068709, 13325040, 13783238, 206652, 9458537   330000.0   639040         \n",
       "3  11150303, 11189165, 13671950, 1990395, 8559868  168000.0   638220         \n",
       "4  14041801, 1643200                               600.0      637770         \n",
       "\n",
       "       lat_y      lon_y  parentCategoryID_y  regionID_y City_y Neighborhood_y  \\\n",
       "0  64.686946  30.815924  1                   648070      Nil    Nil             \n",
       "1  56.637263  47.886673  1                   648730      Nil    Nil             \n",
       "2  55.678037  37.256548  1                   637680      Nil    Nil             \n",
       "3  55.744272  38.015894  1                   637680      Nil    Nil             \n",
       "4  55.797409  37.934462  5                   637680      Nil    Nil             \n",
       "\n",
       "  State_y Street_y geocodeQuality_y postalCode_y  \n",
       "0  Nil     Nil      Nil              Nil          \n",
       "1  Nil     Nil      Nil              Nil          \n",
       "2  Nil     Nil      Nil              Nil          \n",
       "3  Nil     Nil      Nil              Nil          \n",
       "4  Nil     Nil      Nil              Nil          "
      ]
     },
     "execution_count": 27,
     "metadata": {},
     "output_type": "execute_result"
    }
   ],
   "source": [
    "pd.options.display.max_colwidth = -1\n",
    "pd.options.display.max_columns = None\n",
    "df3.head()"
   ]
  },
  {
   "cell_type": "code",
   "execution_count": 28,
   "metadata": {},
   "outputs": [
    {
     "data": {
      "text/plain": [
       "209L"
      ]
     },
     "execution_count": 28,
     "metadata": {},
     "output_type": "execute_result"
    }
   ],
   "source": [
    "df3.isDuplicate.sum()"
   ]
  },
  {
   "cell_type": "markdown",
   "metadata": {},
   "source": [
    "### Feature: Number of images identifiers that overlaps"
   ]
  },
  {
   "cell_type": "code",
   "execution_count": 29,
   "metadata": {
    "collapsed": true
   },
   "outputs": [],
   "source": [
    "def n_similar_images(df):\n",
    "    try:\n",
    "        arr1 = df.images_array_x.split(',')\n",
    "        try:\n",
    "            arr2 = df.images_array_y.split(',')\n",
    "            return sum(a in b for a, b in zip(arr1,arr2))\n",
    "        except: pass\n",
    "    except: pass"
   ]
  },
  {
   "cell_type": "code",
   "execution_count": 30,
   "metadata": {
    "collapsed": true
   },
   "outputs": [],
   "source": [
    "num_similarimages = df3[['images_array_x','images_array_y']].apply(n_similar_images, axis=1)"
   ]
  },
  {
   "cell_type": "code",
   "execution_count": 31,
   "metadata": {
    "scrolled": true
   },
   "outputs": [
    {
     "data": {
      "text/plain": [
       "0.0"
      ]
     },
     "execution_count": 31,
     "metadata": {},
     "output_type": "execute_result"
    }
   ],
   "source": [
    "num_similarimages.sum()"
   ]
  },
  {
   "cell_type": "markdown",
   "metadata": {},
   "source": [
    "### Feature: Difference in length of image array"
   ]
  },
  {
   "cell_type": "code",
   "execution_count": 32,
   "metadata": {
    "collapsed": true
   },
   "outputs": [],
   "source": [
    "def diff_len_image_array(df2):\n",
    "    try:\n",
    "        arr1 = df2.images_array_x.split(',')\n",
    "        try:\n",
    "            arr2 = df2.images_array_y.split(',')\n",
    "            return abs(len(arr1)-len(arr2))\n",
    "        except: pass\n",
    "    except: pass"
   ]
  },
  {
   "cell_type": "code",
   "execution_count": 33,
   "metadata": {
    "collapsed": true
   },
   "outputs": [],
   "source": [
    "df3['lendiff_imagearray'] = df3[['images_array_x','images_array_y']].apply(diff_len_image_array, axis=1)"
   ]
  },
  {
   "cell_type": "markdown",
   "metadata": {},
   "source": [
    "### Feature: sameCat"
   ]
  },
  {
   "cell_type": "code",
   "execution_count": 34,
   "metadata": {
    "collapsed": true
   },
   "outputs": [],
   "source": [
    "df3['sameCat'] = df3.apply(\n",
    "    lambda x: 1 if x.categoryID_x == x.categoryID_y else 0, axis=1)"
   ]
  },
  {
   "cell_type": "code",
   "execution_count": 35,
   "metadata": {},
   "outputs": [
    {
     "data": {
      "text/plain": [
       "400L"
      ]
     },
     "execution_count": 35,
     "metadata": {},
     "output_type": "execute_result"
    }
   ],
   "source": [
    "df3['sameCat'].sum()"
   ]
  },
  {
   "cell_type": "markdown",
   "metadata": {},
   "source": [
    "### Feature: sameParentCat"
   ]
  },
  {
   "cell_type": "code",
   "execution_count": 36,
   "metadata": {
    "collapsed": true
   },
   "outputs": [],
   "source": [
    "df3['sameParentCat'] = df3.apply(\n",
    "    lambda x: 1 if x.parentCategoryID_x == x.parentCategoryID_y else 0 , axis=1)"
   ]
  },
  {
   "cell_type": "code",
   "execution_count": 37,
   "metadata": {
    "scrolled": true
   },
   "outputs": [
    {
     "data": {
      "text/plain": [
       "400L"
      ]
     },
     "execution_count": 37,
     "metadata": {},
     "output_type": "execute_result"
    }
   ],
   "source": [
    "df3['sameParentCat'].sum()"
   ]
  },
  {
   "cell_type": "markdown",
   "metadata": {},
   "source": [
    "- Feature engineering done on the categories showed that `categoryID` and `parentCategoryID` is not very useful in predicting if an ad is a duplicate of the other."
   ]
  },
  {
   "cell_type": "markdown",
   "metadata": {},
   "source": [
    "### Feature: priceDifference"
   ]
  },
  {
   "cell_type": "code",
   "execution_count": 38,
   "metadata": {
    "collapsed": true
   },
   "outputs": [],
   "source": [
    "df3['priceDifference'] = df3.apply(\n",
    "    lambda x: abs(x.price_x - x.price_y), axis=1)"
   ]
  },
  {
   "cell_type": "markdown",
   "metadata": {},
   "source": [
    "### Feature: samelatlon\n",
    "- Checks if item pairs have the same lat and lon values"
   ]
  },
  {
   "cell_type": "code",
   "execution_count": 39,
   "metadata": {
    "scrolled": true
   },
   "outputs": [
    {
     "data": {
      "text/plain": [
       "337L"
      ]
     },
     "execution_count": 39,
     "metadata": {},
     "output_type": "execute_result"
    }
   ],
   "source": [
    "df3.apply(\n",
    "    lambda x: 1 if x.lon_x == x.lon_y else 0, axis=1).sum()"
   ]
  },
  {
   "cell_type": "markdown",
   "metadata": {},
   "source": [
    "### Feature: latlonDifference\n",
    "- Compute the differences between the lat and lon values for item pairs\n",
    "using **Haversine** distance\n"
   ]
  },
  {
   "cell_type": "code",
   "execution_count": 40,
   "metadata": {
    "collapsed": true
   },
   "outputs": [],
   "source": [
    "import math"
   ]
  },
  {
   "cell_type": "code",
   "execution_count": 41,
   "metadata": {
    "collapsed": true
   },
   "outputs": [],
   "source": [
    "def haversine(lat1, lon1, lat2, lon2):\n",
    "    r = 6371\n",
    "    lat1, lon1, lat2, lon2 = map(math.radians, [lat1, lon1, lat2, lon2])\n",
    "    \n",
    "    dlon = (lon2-lon1)/2\n",
    "    dlat = (lat2-lat1)/2\n",
    "    ax = math.sin(dlat)**2 + math.cos(lat1) *math.cos(lat2) * math.sin(dlon)**2\n",
    "    d = 2 * r * math.asin(math.sqrt(ax))\n",
    "    return d"
   ]
  },
  {
   "cell_type": "code",
   "execution_count": 42,
   "metadata": {
    "collapsed": true
   },
   "outputs": [],
   "source": [
    "df3['latlonDifference'] = df3.apply(\n",
    "    lambda x: haversine(x['lat_x'], x['lon_x'], x['lat_y'], x['lon_y'])\n",
    "    ,axis=1)"
   ]
  },
  {
   "cell_type": "code",
   "execution_count": 43,
   "metadata": {
    "scrolled": false
   },
   "outputs": [
    {
     "data": {
      "text/plain": [
       "337"
      ]
     },
     "execution_count": 43,
     "metadata": {},
     "output_type": "execute_result"
    }
   ],
   "source": [
    "df3[df3.latlonDifference == 0.0000].latlonDifference.count()"
   ]
  },
  {
   "cell_type": "code",
   "execution_count": 44,
   "metadata": {
    "scrolled": true
   },
   "outputs": [
    {
     "data": {
      "text/html": [
       "<div>\n",
       "<style>\n",
       "    .dataframe thead tr:only-child th {\n",
       "        text-align: right;\n",
       "    }\n",
       "\n",
       "    .dataframe thead th {\n",
       "        text-align: left;\n",
       "    }\n",
       "\n",
       "    .dataframe tbody tr th {\n",
       "        vertical-align: top;\n",
       "    }\n",
       "</style>\n",
       "<table border=\"1\" class=\"dataframe\">\n",
       "  <thead>\n",
       "    <tr style=\"text-align: right;\">\n",
       "      <th></th>\n",
       "      <th>itemID</th>\n",
       "      <th>categoryID_x</th>\n",
       "      <th>title_x</th>\n",
       "      <th>description_x</th>\n",
       "      <th>images_array_x</th>\n",
       "      <th>price_x</th>\n",
       "      <th>locationID_x</th>\n",
       "      <th>lat_x</th>\n",
       "      <th>lon_x</th>\n",
       "      <th>parentCategoryID_x</th>\n",
       "      <th>regionID_x</th>\n",
       "      <th>itemID_2</th>\n",
       "      <th>isDuplicate</th>\n",
       "      <th>generationMethod</th>\n",
       "      <th>City_x</th>\n",
       "      <th>Neighborhood_x</th>\n",
       "      <th>State_x</th>\n",
       "      <th>Street_x</th>\n",
       "      <th>geocodeQuality_x</th>\n",
       "      <th>postalCode_x</th>\n",
       "      <th>categoryID_y</th>\n",
       "      <th>title_y</th>\n",
       "      <th>description_y</th>\n",
       "      <th>images_array_y</th>\n",
       "      <th>price_y</th>\n",
       "      <th>locationID_y</th>\n",
       "      <th>lat_y</th>\n",
       "      <th>lon_y</th>\n",
       "      <th>parentCategoryID_y</th>\n",
       "      <th>regionID_y</th>\n",
       "      <th>City_y</th>\n",
       "      <th>Neighborhood_y</th>\n",
       "      <th>State_y</th>\n",
       "      <th>Street_y</th>\n",
       "      <th>geocodeQuality_y</th>\n",
       "      <th>postalCode_y</th>\n",
       "      <th>lendiff_imagearray</th>\n",
       "      <th>sameCat</th>\n",
       "      <th>sameParentCat</th>\n",
       "      <th>priceDifference</th>\n",
       "      <th>latlonDifference</th>\n",
       "    </tr>\n",
       "  </thead>\n",
       "  <tbody>\n",
       "    <tr>\n",
       "      <th>0</th>\n",
       "      <td>1</td>\n",
       "      <td>81</td>\n",
       "      <td>Продам Камаз 6520</td>\n",
       "      <td>Продам Камаз 6520 20 тонн</td>\n",
       "      <td>1064094, 5252822, 6645873, 6960145, 9230265</td>\n",
       "      <td>300000.0</td>\n",
       "      <td>648140</td>\n",
       "      <td>64.686946</td>\n",
       "      <td>30.815924</td>\n",
       "      <td>1</td>\n",
       "      <td>648070</td>\n",
       "      <td>4112648</td>\n",
       "      <td>1</td>\n",
       "      <td>1</td>\n",
       "      <td>Nil</td>\n",
       "      <td>Nil</td>\n",
       "      <td>Nil</td>\n",
       "      <td>Nil</td>\n",
       "      <td>Nil</td>\n",
       "      <td>Nil</td>\n",
       "      <td>81</td>\n",
       "      <td>Продам Камаз 6520</td>\n",
       "      <td>Продам Камаз 6520 20 тонн</td>\n",
       "      <td>1227519, 1374615, 7072137, 8671835</td>\n",
       "      <td>300000.0</td>\n",
       "      <td>648140</td>\n",
       "      <td>64.686946</td>\n",
       "      <td>30.815924</td>\n",
       "      <td>1</td>\n",
       "      <td>648070</td>\n",
       "      <td>Nil</td>\n",
       "      <td>Nil</td>\n",
       "      <td>Nil</td>\n",
       "      <td>Nil</td>\n",
       "      <td>Nil</td>\n",
       "      <td>Nil</td>\n",
       "      <td>1.0</td>\n",
       "      <td>1</td>\n",
       "      <td>1</td>\n",
       "      <td>0.0</td>\n",
       "      <td>0.000000</td>\n",
       "    </tr>\n",
       "    <tr>\n",
       "      <th>1</th>\n",
       "      <td>193</td>\n",
       "      <td>81</td>\n",
       "      <td>MAN TGX 18.480</td>\n",
       "      <td>Продаю MAN TGX 18.480 2008 года выпуска, кпп автомат. Состояние отличное, готов к работе. Рассмотрю варианты обмена. Подробности по телефону.</td>\n",
       "      <td>1029765, 11597556, 3448022, 551083, 8444145</td>\n",
       "      <td>2400000.0</td>\n",
       "      <td>648760</td>\n",
       "      <td>56.637263</td>\n",
       "      <td>47.886673</td>\n",
       "      <td>1</td>\n",
       "      <td>648730</td>\n",
       "      <td>3918495</td>\n",
       "      <td>1</td>\n",
       "      <td>1</td>\n",
       "      <td>Nil</td>\n",
       "      <td>Nil</td>\n",
       "      <td>Nil</td>\n",
       "      <td>Nil</td>\n",
       "      <td>Nil</td>\n",
       "      <td>Nil</td>\n",
       "      <td>81</td>\n",
       "      <td>Man TGX 18.480</td>\n",
       "      <td>Продаю маn TGX 18.480 2008 года выпуска, кпп автомат. Состояние отличное, готов к работе. Обмен. Подробности по телефону.</td>\n",
       "      <td>10043643, 1448346, 1890733, 3048514, 3836550</td>\n",
       "      <td>2400000.0</td>\n",
       "      <td>648760</td>\n",
       "      <td>56.637263</td>\n",
       "      <td>47.886673</td>\n",
       "      <td>1</td>\n",
       "      <td>648730</td>\n",
       "      <td>Nil</td>\n",
       "      <td>Nil</td>\n",
       "      <td>Nil</td>\n",
       "      <td>Nil</td>\n",
       "      <td>Nil</td>\n",
       "      <td>Nil</td>\n",
       "      <td>0.0</td>\n",
       "      <td>1</td>\n",
       "      <td>1</td>\n",
       "      <td>0.0</td>\n",
       "      <td>0.000000</td>\n",
       "    </tr>\n",
       "    <tr>\n",
       "      <th>2</th>\n",
       "      <td>3</td>\n",
       "      <td>14</td>\n",
       "      <td>Yamaha r6</td>\n",
       "      <td>Весь в тюнинге.</td>\n",
       "      <td>11919573, 14412228, 3204180, 6646877</td>\n",
       "      <td>300000.0</td>\n",
       "      <td>639040</td>\n",
       "      <td>55.678037</td>\n",
       "      <td>37.256548</td>\n",
       "      <td>1</td>\n",
       "      <td>637680</td>\n",
       "      <td>1991275</td>\n",
       "      <td>1</td>\n",
       "      <td>1</td>\n",
       "      <td>Nil</td>\n",
       "      <td>Nil</td>\n",
       "      <td>Nil</td>\n",
       "      <td>Nil</td>\n",
       "      <td>Nil</td>\n",
       "      <td>Nil</td>\n",
       "      <td>14</td>\n",
       "      <td>Yamaha R6</td>\n",
       "      <td>Весь в тюнинге. Возможен торг</td>\n",
       "      <td>11068709, 13325040, 13783238, 206652, 9458537</td>\n",
       "      <td>330000.0</td>\n",
       "      <td>639040</td>\n",
       "      <td>55.678037</td>\n",
       "      <td>37.256548</td>\n",
       "      <td>1</td>\n",
       "      <td>637680</td>\n",
       "      <td>Nil</td>\n",
       "      <td>Nil</td>\n",
       "      <td>Nil</td>\n",
       "      <td>Nil</td>\n",
       "      <td>Nil</td>\n",
       "      <td>Nil</td>\n",
       "      <td>1.0</td>\n",
       "      <td>1</td>\n",
       "      <td>1</td>\n",
       "      <td>30000.0</td>\n",
       "      <td>0.000000</td>\n",
       "    </tr>\n",
       "    <tr>\n",
       "      <th>3</th>\n",
       "      <td>291</td>\n",
       "      <td>14</td>\n",
       "      <td>Продам Stels-s450</td>\n",
       "      <td>Продам квадр 450к\\nИдеальное состояние,практически не использовался..! (Сост Нового)\\nТорг при осмотре!\\nПричина продажи покупка недвижимости.</td>\n",
       "      <td>13528926, 4615652, 6856546</td>\n",
       "      <td>170000.0</td>\n",
       "      <td>638220</td>\n",
       "      <td>55.744272</td>\n",
       "      <td>38.015894</td>\n",
       "      <td>1</td>\n",
       "      <td>637680</td>\n",
       "      <td>562789</td>\n",
       "      <td>1</td>\n",
       "      <td>1</td>\n",
       "      <td>Nil</td>\n",
       "      <td>Nil</td>\n",
       "      <td>Nil</td>\n",
       "      <td>Nil</td>\n",
       "      <td>Nil</td>\n",
       "      <td>Nil</td>\n",
       "      <td>14</td>\n",
       "      <td>Продам stels 450H</td>\n",
       "      <td>Продаю квадроцикл,состояние нового!\\nИзредка использовал для прогулок по лесу,грязи не видел!\\nПокупал сам в магазине,никаких вложений не требует.\\nДокументы на руках..\\nПродаю по причине,беру ипотеки и покупаю недвижимость.\\nЕсли без торга,то кофр отдам его стоимость 12000.</td>\n",
       "      <td>11150303, 11189165, 13671950, 1990395, 8559868</td>\n",
       "      <td>168000.0</td>\n",
       "      <td>638220</td>\n",
       "      <td>55.744272</td>\n",
       "      <td>38.015894</td>\n",
       "      <td>1</td>\n",
       "      <td>637680</td>\n",
       "      <td>Nil</td>\n",
       "      <td>Nil</td>\n",
       "      <td>Nil</td>\n",
       "      <td>Nil</td>\n",
       "      <td>Nil</td>\n",
       "      <td>Nil</td>\n",
       "      <td>2.0</td>\n",
       "      <td>1</td>\n",
       "      <td>1</td>\n",
       "      <td>2000.0</td>\n",
       "      <td>0.000000</td>\n",
       "    </tr>\n",
       "    <tr>\n",
       "      <th>4</th>\n",
       "      <td>450</td>\n",
       "      <td>30</td>\n",
       "      <td>Продам мобиль-ночник</td>\n",
       "      <td>Состояние нового,если снять игрушки будет просто ночник с музыкой.</td>\n",
       "      <td>10533554, 11351624, 12053366, 4907365, 5647588</td>\n",
       "      <td>600.0</td>\n",
       "      <td>638220</td>\n",
       "      <td>55.744272</td>\n",
       "      <td>38.015894</td>\n",
       "      <td>5</td>\n",
       "      <td>637680</td>\n",
       "      <td>5959208</td>\n",
       "      <td>1</td>\n",
       "      <td>1</td>\n",
       "      <td>Nil</td>\n",
       "      <td>Nil</td>\n",
       "      <td>Nil</td>\n",
       "      <td>Nil</td>\n",
       "      <td>Nil</td>\n",
       "      <td>Nil</td>\n",
       "      <td>30</td>\n",
       "      <td>Продам мобиль-ночник</td>\n",
       "      <td>Пользовались 1 месяц,подсветка 3 режима,музыка,вибрация.крутиться вертится.</td>\n",
       "      <td>14041801, 1643200</td>\n",
       "      <td>600.0</td>\n",
       "      <td>637770</td>\n",
       "      <td>55.797409</td>\n",
       "      <td>37.934462</td>\n",
       "      <td>5</td>\n",
       "      <td>637680</td>\n",
       "      <td>Nil</td>\n",
       "      <td>Nil</td>\n",
       "      <td>Nil</td>\n",
       "      <td>Nil</td>\n",
       "      <td>Nil</td>\n",
       "      <td>Nil</td>\n",
       "      <td>3.0</td>\n",
       "      <td>1</td>\n",
       "      <td>1</td>\n",
       "      <td>0.0</td>\n",
       "      <td>7.800873</td>\n",
       "    </tr>\n",
       "  </tbody>\n",
       "</table>\n",
       "</div>"
      ],
      "text/plain": [
       "   itemID  categoryID_x               title_x  \\\n",
       "0  1       81            Продам Камаз 6520      \n",
       "1  193     81            MAN TGX 18.480         \n",
       "2  3       14            Yamaha r6              \n",
       "3  291     14            Продам Stels-s450      \n",
       "4  450     30            Продам мобиль-ночник   \n",
       "\n",
       "                                                                                                                                    description_x  \\\n",
       "0  Продам Камаз 6520 20 тонн                                                                                                                        \n",
       "1  Продаю MAN TGX 18.480 2008 года выпуска, кпп автомат. Состояние отличное, готов к работе. Рассмотрю варианты обмена. Подробности по телефону.    \n",
       "2  Весь в тюнинге.                                                                                                                                  \n",
       "3  Продам квадр 450к\\nИдеальное состояние,практически не использовался..! (Сост Нового)\\nТорг при осмотре!\\nПричина продажи покупка недвижимости.   \n",
       "4  Состояние нового,если снять игрушки будет просто ночник с музыкой.                                                                               \n",
       "\n",
       "                                   images_array_x    price_x  locationID_x  \\\n",
       "0  1064094, 5252822, 6645873, 6960145, 9230265     300000.0   648140         \n",
       "1  1029765, 11597556, 3448022, 551083, 8444145     2400000.0  648760         \n",
       "2  11919573, 14412228, 3204180, 6646877            300000.0   639040         \n",
       "3  13528926, 4615652, 6856546                      170000.0   638220         \n",
       "4  10533554, 11351624, 12053366, 4907365, 5647588  600.0      638220         \n",
       "\n",
       "       lat_x      lon_x  parentCategoryID_x  regionID_x  itemID_2  \\\n",
       "0  64.686946  30.815924  1                   648070      4112648    \n",
       "1  56.637263  47.886673  1                   648730      3918495    \n",
       "2  55.678037  37.256548  1                   637680      1991275    \n",
       "3  55.744272  38.015894  1                   637680      562789     \n",
       "4  55.744272  38.015894  5                   637680      5959208    \n",
       "\n",
       "   isDuplicate  generationMethod City_x Neighborhood_x State_x Street_x  \\\n",
       "0  1            1                 Nil    Nil            Nil     Nil       \n",
       "1  1            1                 Nil    Nil            Nil     Nil       \n",
       "2  1            1                 Nil    Nil            Nil     Nil       \n",
       "3  1            1                 Nil    Nil            Nil     Nil       \n",
       "4  1            1                 Nil    Nil            Nil     Nil       \n",
       "\n",
       "  geocodeQuality_x postalCode_x  categoryID_y               title_y  \\\n",
       "0  Nil              Nil          81            Продам Камаз 6520      \n",
       "1  Nil              Nil          81            Man TGX 18.480         \n",
       "2  Nil              Nil          14            Yamaha R6              \n",
       "3  Nil              Nil          14            Продам stels 450H      \n",
       "4  Nil              Nil          30            Продам мобиль-ночник   \n",
       "\n",
       "                                                                                                                                                                                                                                                                         description_y  \\\n",
       "0  Продам Камаз 6520 20 тонн                                                                                                                                                                                                                                                             \n",
       "1  Продаю маn TGX 18.480 2008 года выпуска, кпп автомат. Состояние отличное, готов к работе. Обмен. Подробности по телефону.                                                                                                                                                             \n",
       "2  Весь в тюнинге. Возможен торг                                                                                                                                                                                                                                                         \n",
       "3  Продаю квадроцикл,состояние нового!\\nИзредка использовал для прогулок по лесу,грязи не видел!\\nПокупал сам в магазине,никаких вложений не требует.\\nДокументы на руках..\\nПродаю по причине,беру ипотеки и покупаю недвижимость.\\nЕсли без торга,то кофр отдам его стоимость 12000.   \n",
       "4  Пользовались 1 месяц,подсветка 3 режима,музыка,вибрация.крутиться вертится.                                                                                                                                                                                                           \n",
       "\n",
       "                                   images_array_y    price_y  locationID_y  \\\n",
       "0  1227519, 1374615, 7072137, 8671835              300000.0   648140         \n",
       "1  10043643, 1448346, 1890733, 3048514, 3836550    2400000.0  648760         \n",
       "2  11068709, 13325040, 13783238, 206652, 9458537   330000.0   639040         \n",
       "3  11150303, 11189165, 13671950, 1990395, 8559868  168000.0   638220         \n",
       "4  14041801, 1643200                               600.0      637770         \n",
       "\n",
       "       lat_y      lon_y  parentCategoryID_y  regionID_y City_y Neighborhood_y  \\\n",
       "0  64.686946  30.815924  1                   648070      Nil    Nil             \n",
       "1  56.637263  47.886673  1                   648730      Nil    Nil             \n",
       "2  55.678037  37.256548  1                   637680      Nil    Nil             \n",
       "3  55.744272  38.015894  1                   637680      Nil    Nil             \n",
       "4  55.797409  37.934462  5                   637680      Nil    Nil             \n",
       "\n",
       "  State_y Street_y geocodeQuality_y postalCode_y  lendiff_imagearray  sameCat  \\\n",
       "0  Nil     Nil      Nil              Nil          1.0                 1         \n",
       "1  Nil     Nil      Nil              Nil          0.0                 1         \n",
       "2  Nil     Nil      Nil              Nil          1.0                 1         \n",
       "3  Nil     Nil      Nil              Nil          2.0                 1         \n",
       "4  Nil     Nil      Nil              Nil          3.0                 1         \n",
       "\n",
       "   sameParentCat  priceDifference  latlonDifference  \n",
       "0  1              0.0              0.000000          \n",
       "1  1              0.0              0.000000          \n",
       "2  1              30000.0          0.000000          \n",
       "3  1              2000.0           0.000000          \n",
       "4  1              0.0              7.800873          "
      ]
     },
     "execution_count": 44,
     "metadata": {},
     "output_type": "execute_result"
    }
   ],
   "source": [
    "df3.head()"
   ]
  },
  {
   "cell_type": "code",
   "execution_count": 45,
   "metadata": {},
   "outputs": [
    {
     "data": {
      "text/plain": [
       "400"
      ]
     },
     "execution_count": 45,
     "metadata": {},
     "output_type": "execute_result"
    }
   ],
   "source": [
    "len(df3)"
   ]
  },
  {
   "cell_type": "code",
   "execution_count": 46,
   "metadata": {
    "collapsed": true
   },
   "outputs": [],
   "source": [
    "df3.to_csv(filepath+'ItemInfo_train3.csv', encoding='utf-8', index=False)"
   ]
  }
 ],
 "metadata": {
  "kernelspec": {
   "display_name": "Python 2",
   "language": "python",
   "name": "python2"
  },
  "language_info": {
   "codemirror_mode": {
    "name": "ipython",
    "version": 2
   },
   "file_extension": ".py",
   "mimetype": "text/x-python",
   "name": "python",
   "nbconvert_exporter": "python",
   "pygments_lexer": "ipython2",
   "version": "2.7.13"
  }
 },
 "nbformat": 4,
 "nbformat_minor": 2
}
