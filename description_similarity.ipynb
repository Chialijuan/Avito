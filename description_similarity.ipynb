{
 "cells": [
  {
   "cell_type": "code",
   "execution_count": 1,
   "metadata": {
    "collapsed": true
   },
   "outputs": [],
   "source": [
    "from __future__ import unicode_literals\n",
    "\n",
    "# import multiprocessing as mp\n",
    "import pandas as pd\n",
    "# import string"
   ]
  },
  {
   "cell_type": "code",
   "execution_count": 2,
   "metadata": {
    "collapsed": true
   },
   "outputs": [],
   "source": [
    "pd.options.display.max_colwidth = -1\n",
    "pd.options.display.max_columns = None"
   ]
  },
  {
   "cell_type": "code",
   "execution_count": 3,
   "metadata": {
    "collapsed": true
   },
   "outputs": [],
   "source": [
    "filepath = '~/Documents/Avito/'\n",
    "# item_info = pd.read_csv(filepath+'ItemInfo_train.csv', encoding='utf-8')\n",
    "# item_info.tail()"
   ]
  },
  {
   "cell_type": "markdown",
   "metadata": {},
   "source": [
    "### Word2Vec \n",
    "- compute similarity between 2 documents (`description`)"
   ]
  },
  {
   "cell_type": "code",
   "execution_count": 4,
   "metadata": {
    "scrolled": true
   },
   "outputs": [
    {
     "name": "stderr",
     "output_type": "stream",
     "text": [
      "Using TensorFlow backend.\n"
     ]
    }
   ],
   "source": [
    "from gensim import models, similarities"
   ]
  },
  {
   "cell_type": "code",
   "execution_count": 14,
   "metadata": {
    "collapsed": true,
    "scrolled": true
   },
   "outputs": [],
   "source": [
    "df = pd.read_csv(filepath+'ItemInfo_train2.csv', encoding='utf-8', converters={\"description_clean\": lambda x: x.strip(\"[]\").split(\", \")})"
   ]
  },
  {
   "cell_type": "code",
   "execution_count": 6,
   "metadata": {
    "collapsed": true
   },
   "outputs": [
    {
     "data": {
      "text/html": [
       "<div>\n",
       "<style>\n",
       "    .dataframe thead tr:only-child th {\n",
       "        text-align: right;\n",
       "    }\n",
       "\n",
       "    .dataframe thead th {\n",
       "        text-align: left;\n",
       "    }\n",
       "\n",
       "    .dataframe tbody tr th {\n",
       "        vertical-align: top;\n",
       "    }\n",
       "</style>\n",
       "<table border=\"1\" class=\"dataframe\">\n",
       "  <thead>\n",
       "    <tr style=\"text-align: right;\">\n",
       "      <th></th>\n",
       "      <th>Unnamed: 0</th>\n",
       "      <th>itemID</th>\n",
       "      <th>categoryID</th>\n",
       "      <th>title</th>\n",
       "      <th>description</th>\n",
       "      <th>images_array</th>\n",
       "      <th>attrsJSON</th>\n",
       "      <th>price</th>\n",
       "      <th>locationID</th>\n",
       "      <th>metroID</th>\n",
       "      <th>lat</th>\n",
       "      <th>lon</th>\n",
       "      <th>description_clean</th>\n",
       "    </tr>\n",
       "  </thead>\n",
       "  <tbody>\n",
       "    <tr>\n",
       "      <th>0</th>\n",
       "      <td>0</td>\n",
       "      <td>1</td>\n",
       "      <td>81</td>\n",
       "      <td>Продам Камаз 6520</td>\n",
       "      <td>Продам Камаз 6520 20 тонн</td>\n",
       "      <td>1064094, 5252822, 6645873, 6960145, 9230265</td>\n",
       "      <td>{\"Вид техники\":\"Грузовики\"}</td>\n",
       "      <td>300000.0</td>\n",
       "      <td>648140</td>\n",
       "      <td>NaN</td>\n",
       "      <td>64.686946</td>\n",
       "      <td>30.815924</td>\n",
       "      <td>[продам, камаз, 6520, 20, тонн]</td>\n",
       "    </tr>\n",
       "    <tr>\n",
       "      <th>1</th>\n",
       "      <td>1</td>\n",
       "      <td>3</td>\n",
       "      <td>14</td>\n",
       "      <td>Yamaha r6</td>\n",
       "      <td>Весь в тюнинге.</td>\n",
       "      <td>11919573, 14412228, 3204180, 6646877</td>\n",
       "      <td>{\"Вид техники\":\"Мотоциклы\", \"Вид мотоцикла\":\"Спортивные\"}</td>\n",
       "      <td>300000.0</td>\n",
       "      <td>639040</td>\n",
       "      <td>NaN</td>\n",
       "      <td>55.678037</td>\n",
       "      <td>37.256548</td>\n",
       "      <td>[тюнинге]</td>\n",
       "    </tr>\n",
       "    <tr>\n",
       "      <th>2</th>\n",
       "      <td>2</td>\n",
       "      <td>4</td>\n",
       "      <td>84</td>\n",
       "      <td>iPhone 3gs 8gb</td>\n",
       "      <td>Телефон в хорошем состоянии, трещин и сколов нет, за все время менялся только аккумулятор(поэтому заряд держит хорошо), остальное все родное, в целом работает отлично! В комплекте кабель. Обмен не интересен. Лежит без дела, только продажа.</td>\n",
       "      <td>14384831, 6102021</td>\n",
       "      <td>{\"Вид телефона\":\"iPhone\"}</td>\n",
       "      <td>3500.0</td>\n",
       "      <td>640650</td>\n",
       "      <td>NaN</td>\n",
       "      <td>56.239398</td>\n",
       "      <td>43.460458</td>\n",
       "      <td>[телефон, хорошем, состоянии, трещин, сколов, менялся, аккумуляторпоэтому, заряд, держит, остальное, родное, целом, работает, отлично, комплекте, кабель, обмен, интересен, лежит, дела, продажа]</td>\n",
       "    </tr>\n",
       "    <tr>\n",
       "      <th>3</th>\n",
       "      <td>3</td>\n",
       "      <td>7</td>\n",
       "      <td>84</td>\n",
       "      <td>Xiaomi Mi4 3гб RAM + 16гб ROM белый</td>\n",
       "      <td>Отличный подарок на новый год от \"китайской apple\"\\nНовый в упаковке. Коробку вместе вскроем)\\nЭкран: 5 дюймов, 1080p, Sharp/JDI OGS (Возможно использование в перчатках)\\nЦвет корпуса: белый\\nМатериалы корпуса: пластик, металл, стекло\\n\\nПроцессор: Qualcomm Snapdragon 801 (8X74AC, 2.5Ггц)\\nВидео: Adreno 330 (578 Мгц)\\nОЗУ: 3Гб (LPDDR3 933Мгц)\\nПамять: 16Гб (eMMC 5.0)\\n\\nКамера задняя: 13Мп (Sony IMX214, f1.8, 6 линз)\\nКамера передняя: 8Мп (Sony IMX219, f1.8, 5 линз)\\n\\nWiFi: 802.11 a/b/g/n/ac 2.4/5Ггц\\nBluetooth: 4.0\\nНавигация: GPS/Glonass\\nСенсоры: ИК-Порт, Датчик освещенности, Барометр, Компас, Датчик силы тяжести\\n\\nСимкарта: MicroSIM\\n\\nАккумулятор: 3080 мАч (быстрая зарядка при 9V/1.2A или 5V/2A)\\n\\nДополнительно: Поддержка Smart Cover Case\\n\\nШирина: 68,5 мм\\nВысота: 139.2 мм\\nТолщина: 8.9 мм\\nВес: 149 г\\nБез 4G</td>\n",
       "      <td>NaN</td>\n",
       "      <td>{\"Вид телефона\":\"Другие марки\"}</td>\n",
       "      <td>13500.0</td>\n",
       "      <td>662210</td>\n",
       "      <td>NaN</td>\n",
       "      <td>55.777170</td>\n",
       "      <td>37.586194</td>\n",
       "      <td>[отличный, подарок, новый, китайской, apple\\nновый, упаковке, коробку, вместе, вскроем\\nэкран, 5, дюймов, 1080p, sharpjdi, ogs, возможно, использование, перчатках\\nцвет, корпуса, белый\\nматериалы, корпуса, пластик, металл, стекло\\n\\nпроцессор, qualcomm, snapdragon, 801, 8x74ac, 25ггц\\nвидео, adreno, 330, 578, мгц\\nозу, 3гб, lpddr3, 933мгц\\nпамять, 16гб, emmc, 50\\n\\nкамера, задняя, 13мп, sony, imx214, f18, 6, линз\\nкамера, передняя, 8мп, sony, imx219, f18, 5, линз\\n\\nwifi, 80211, abgnac, 245ггц\\nbluetooth, 40\\nнавигация, gpsglonass\\nсенсоры, икпорт, датчик, освещенности, барометр, компас, датчик, силы, тяжести\\n\\nсимкарта, microsim\\n\\nаккумулятор, 3080, мач, быстрая, зарядка, 9v12a, 5v2a\\n\\nдополнительно, поддержка, smart, cover, case\\n\\nширина, 685, мм\\nвысота, 1392, мм\\nтолщина, 89, мм\\nвес, 149, г\\nбез, 4g]</td>\n",
       "    </tr>\n",
       "    <tr>\n",
       "      <th>4</th>\n",
       "      <td>4</td>\n",
       "      <td>8</td>\n",
       "      <td>39</td>\n",
       "      <td>Лыжные ботинки</td>\n",
       "      <td>Лыжные ботинки в хорошем состоянии, 34 размер</td>\n",
       "      <td>13718854, 4787310</td>\n",
       "      <td>{\"Вид товара\":\"Зимние виды спорта\"}</td>\n",
       "      <td>500.0</td>\n",
       "      <td>624360</td>\n",
       "      <td>NaN</td>\n",
       "      <td>55.777170</td>\n",
       "      <td>37.586194</td>\n",
       "      <td>[лыжные, ботинки, хорошем, состоянии, 34, размер]</td>\n",
       "    </tr>\n",
       "  </tbody>\n",
       "</table>\n",
       "</div>"
      ],
      "text/plain": [
       "   Unnamed: 0  itemID  categoryID                                title  \\\n",
       "0  0           1       81          Продам Камаз 6520                     \n",
       "1  1           3       14          Yamaha r6                             \n",
       "2  2           4       84          iPhone 3gs 8gb                        \n",
       "3  3           7       84          Xiaomi Mi4 3гб RAM + 16гб ROM белый   \n",
       "4  4           8       39          Лыжные ботинки                        \n",
       "\n",
       "                                                                                                                                                                                                                                                                                                                                                                                                                                                                                                                                                                                                                                                                                                                                                                                                                                                      description  \\\n",
       "0  Продам Камаз 6520 20 тонн                                                                                                                                                                                                                                                                                                                                                                                                                                                                                                                                                                                                                                                                                                                                                                                                                                        \n",
       "1  Весь в тюнинге.                                                                                                                                                                                                                                                                                                                                                                                                                                                                                                                                                                                                                                                                                                                                                                                                                                                  \n",
       "2  Телефон в хорошем состоянии, трещин и сколов нет, за все время менялся только аккумулятор(поэтому заряд держит хорошо), остальное все родное, в целом работает отлично! В комплекте кабель. Обмен не интересен. Лежит без дела, только продажа.                                                                                                                                                                                                                                                                                                                                                                                                                                                                                                                                                                                                                  \n",
       "3  Отличный подарок на новый год от \"китайской apple\"\\nНовый в упаковке. Коробку вместе вскроем)\\nЭкран: 5 дюймов, 1080p, Sharp/JDI OGS (Возможно использование в перчатках)\\nЦвет корпуса: белый\\nМатериалы корпуса: пластик, металл, стекло\\n\\nПроцессор: Qualcomm Snapdragon 801 (8X74AC, 2.5Ггц)\\nВидео: Adreno 330 (578 Мгц)\\nОЗУ: 3Гб (LPDDR3 933Мгц)\\nПамять: 16Гб (eMMC 5.0)\\n\\nКамера задняя: 13Мп (Sony IMX214, f1.8, 6 линз)\\nКамера передняя: 8Мп (Sony IMX219, f1.8, 5 линз)\\n\\nWiFi: 802.11 a/b/g/n/ac 2.4/5Ггц\\nBluetooth: 4.0\\nНавигация: GPS/Glonass\\nСенсоры: ИК-Порт, Датчик освещенности, Барометр, Компас, Датчик силы тяжести\\n\\nСимкарта: MicroSIM\\n\\nАккумулятор: 3080 мАч (быстрая зарядка при 9V/1.2A или 5V/2A)\\n\\nДополнительно: Поддержка Smart Cover Case\\n\\nШирина: 68,5 мм\\nВысота: 139.2 мм\\nТолщина: 8.9 мм\\nВес: 149 г\\nБез 4G   \n",
       "4  Лыжные ботинки в хорошем состоянии, 34 размер                                                                                                                                                                                                                                                                                                                                                                                                                                                                                                                                                                                                                                                                                                                                                                                                                    \n",
       "\n",
       "                                  images_array  \\\n",
       "0  1064094, 5252822, 6645873, 6960145, 9230265   \n",
       "1  11919573, 14412228, 3204180, 6646877          \n",
       "2  14384831, 6102021                             \n",
       "3  NaN                                           \n",
       "4  13718854, 4787310                             \n",
       "\n",
       "                                                   attrsJSON     price  \\\n",
       "0  {\"Вид техники\":\"Грузовики\"}                                300000.0   \n",
       "1  {\"Вид техники\":\"Мотоциклы\", \"Вид мотоцикла\":\"Спортивные\"}  300000.0   \n",
       "2  {\"Вид телефона\":\"iPhone\"}                                  3500.0     \n",
       "3  {\"Вид телефона\":\"Другие марки\"}                            13500.0    \n",
       "4  {\"Вид товара\":\"Зимние виды спорта\"}                        500.0      \n",
       "\n",
       "   locationID  metroID        lat        lon  \\\n",
       "0  648140     NaN       64.686946  30.815924   \n",
       "1  639040     NaN       55.678037  37.256548   \n",
       "2  640650     NaN       56.239398  43.460458   \n",
       "3  662210     NaN       55.777170  37.586194   \n",
       "4  624360     NaN       55.777170  37.586194   \n",
       "\n",
       "                                                                                                                                                                                                                                                                                                                                                                                                                                                                                                                                                                                                                                                                                                                                                                                                                                      description_clean  \n",
       "0  [продам, камаз, 6520, 20, тонн]                                                                                                                                                                                                                                                                                                                                                                                                                                                                                                                                                                                                                                                                                                                                                                                                                       \n",
       "1  [тюнинге]                                                                                                                                                                                                                                                                                                                                                                                                                                                                                                                                                                                                                                                                                                                                                                                                                                             \n",
       "2  [телефон, хорошем, состоянии, трещин, сколов, менялся, аккумуляторпоэтому, заряд, держит, остальное, родное, целом, работает, отлично, комплекте, кабель, обмен, интересен, лежит, дела, продажа]                                                                                                                                                                                                                                                                                                                                                                                                                                                                                                                                                                                                                                                     \n",
       "3  [отличный, подарок, новый, китайской, apple\\nновый, упаковке, коробку, вместе, вскроем\\nэкран, 5, дюймов, 1080p, sharpjdi, ogs, возможно, использование, перчатках\\nцвет, корпуса, белый\\nматериалы, корпуса, пластик, металл, стекло\\n\\nпроцессор, qualcomm, snapdragon, 801, 8x74ac, 25ггц\\nвидео, adreno, 330, 578, мгц\\nозу, 3гб, lpddr3, 933мгц\\nпамять, 16гб, emmc, 50\\n\\nкамера, задняя, 13мп, sony, imx214, f18, 6, линз\\nкамера, передняя, 8мп, sony, imx219, f18, 5, линз\\n\\nwifi, 80211, abgnac, 245ггц\\nbluetooth, 40\\nнавигация, gpsglonass\\nсенсоры, икпорт, датчик, освещенности, барометр, компас, датчик, силы, тяжести\\n\\nсимкарта, microsim\\n\\nаккумулятор, 3080, мач, быстрая, зарядка, 9v12a, 5v2a\\n\\nдополнительно, поддержка, smart, cover, case\\n\\nширина, 685, мм\\nвысота, 1392, мм\\nтолщина, 89, мм\\nвес, 149, г\\nбез, 4g]  \n",
       "4  [лыжные, ботинки, хорошем, состоянии, 34, размер]                                                                                                                                                                                                                                                                                                                                                                                                                                                                                                                                                                                                                                                                                                                                                                                                     "
      ]
     },
     "execution_count": 6,
     "metadata": {},
     "output_type": "execute_result"
    }
   ],
   "source": [
    "df.head()"
   ]
  },
  {
   "cell_type": "code",
   "execution_count": 7,
   "metadata": {
    "collapsed": true
   },
   "outputs": [],
   "source": [
    "del df['Unnamed: 0']"
   ]
  },
  {
   "cell_type": "code",
   "execution_count": null,
   "metadata": {
    "collapsed": true
   },
   "outputs": [],
   "source": [
    "df['description_clean'][0]"
   ]
  },
  {
   "cell_type": "code",
   "execution_count": null,
   "metadata": {
    "collapsed": true
   },
   "outputs": [],
   "source": [
    "description = df['description_clean'].tolist()"
   ]
  },
  {
   "cell_type": "code",
   "execution_count": 9,
   "metadata": {},
   "outputs": [
    {
     "data": {
      "text/plain": [
       "3344613"
      ]
     },
     "execution_count": 9,
     "metadata": {},
     "output_type": "execute_result"
    }
   ],
   "source": [
    "len(description)"
   ]
  },
  {
   "cell_type": "code",
   "execution_count": null,
   "metadata": {
    "collapsed": true
   },
   "outputs": [],
   "source": [
    "model = models.word2vec.Word2Vec(description, sg=1, size=75, window =5,\n",
    "                                 min_count=1, workers=3,\n",
    "                                seed=1)"
   ]
  },
  {
   "cell_type": "code",
   "execution_count": null,
   "metadata": {
    "collapsed": true
   },
   "outputs": [],
   "source": [
    "model2 = model.wv"
   ]
  },
  {
   "cell_type": "code",
   "execution_count": null,
   "metadata": {
    "collapsed": true
   },
   "outputs": [],
   "source": [
    "del model\n",
    "\n"
   ]
  },
  {
   "cell_type": "code",
   "execution_count": null,
   "metadata": {
    "collapsed": true
   },
   "outputs": [],
   "source": [
    "model2.save('description_2vec.model')\n",
    "# del model"
   ]
  },
  {
   "cell_type": "code",
   "execution_count": null,
   "metadata": {
    "collapsed": true
   },
   "outputs": [],
   "source": [
    "model2 = models.word2vec.Word2Vec.load('description_2vec.model').wv\n"
   ]
  },
  {
   "cell_type": "code",
   "execution_count": null,
   "metadata": {
    "collapsed": true
   },
   "outputs": [],
   "source": [
    "model2['it']"
   ]
  },
  {
   "cell_type": "code",
   "execution_count": null,
   "metadata": {
    "collapsed": true,
    "scrolled": true
   },
   "outputs": [],
   "source": [
    "model2.wv['a']"
   ]
  }
 ],
 "metadata": {
  "kernelspec": {
   "display_name": "Python 2",
   "language": "python",
   "name": "python2"
  },
  "language_info": {
   "codemirror_mode": {
    "name": "ipython",
    "version": 2
   },
   "file_extension": ".py",
   "mimetype": "text/x-python",
   "name": "python",
   "nbconvert_exporter": "python",
   "pygments_lexer": "ipython2",
   "version": "2.7.13"
  }
 },
 "nbformat": 4,
 "nbformat_minor": 2
}
