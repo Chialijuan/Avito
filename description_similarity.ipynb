{
 "cells": [
  {
   "cell_type": "code",
   "execution_count": 26,
   "metadata": {
    "collapsed": true
   },
   "outputs": [],
   "source": [
    "from __future__ import unicode_literals\n",
    "import pandas as pd"
   ]
  },
  {
   "cell_type": "code",
   "execution_count": 27,
   "metadata": {
    "collapsed": true
   },
   "outputs": [],
   "source": [
    "pd.options.display.max_colwidth = -1\n",
    "pd.options.display.max_columns = None"
   ]
  },
  {
   "cell_type": "code",
   "execution_count": 28,
   "metadata": {
    "collapsed": true
   },
   "outputs": [],
   "source": [
    "filepath = '~/Documents/Avito/'\n",
    "df = pd.read_csv('ItemInfo_train5.csv',encoding='utf-8'\n",
    "                 ,usecols=['description_x_clean','description_y_clean']\n",
    "                 ,converters={'description_x_clean': lambda x: x.strip(u'[]').split(', ')\n",
    "                 ,'description_y_clean': lambda x: x.strip('[]').split(', ')}\n",
    "                ,nrows=10)\n",
    "                             \n",
    "#usecols=['description_clean'],"
   ]
  },
  {
   "cell_type": "code",
   "execution_count": 29,
   "metadata": {
    "scrolled": true
   },
   "outputs": [
    {
     "data": {
      "text/html": [
       "<div>\n",
       "<style>\n",
       "    .dataframe thead tr:only-child th {\n",
       "        text-align: right;\n",
       "    }\n",
       "\n",
       "    .dataframe thead th {\n",
       "        text-align: left;\n",
       "    }\n",
       "\n",
       "    .dataframe tbody tr th {\n",
       "        vertical-align: top;\n",
       "    }\n",
       "</style>\n",
       "<table border=\"1\" class=\"dataframe\">\n",
       "  <thead>\n",
       "    <tr style=\"text-align: right;\">\n",
       "      <th></th>\n",
       "      <th>description_x_clean</th>\n",
       "      <th>description_y_clean</th>\n",
       "    </tr>\n",
       "  </thead>\n",
       "  <tbody>\n",
       "    <tr>\n",
       "      <th>0</th>\n",
       "      <td>[продам, камаз, 6520, 20, тонн]</td>\n",
       "      <td>[продам, камаз, 6520, 20, тонн]</td>\n",
       "    </tr>\n",
       "    <tr>\n",
       "      <th>1</th>\n",
       "      <td>[тюнинге]</td>\n",
       "      <td>[тюнинге, возможен, торг]</td>\n",
       "    </tr>\n",
       "    <tr>\n",
       "      <th>2</th>\n",
       "      <td>[телефон, хорошем, состоянии, трещин, сколов, менялся, аккумуляторпоэтому, заряд, держит, остальное, родное, целом, работает, отлично, комплекте, кабель, обмен, интересен, лежит, дела, продажа]</td>\n",
       "      <td>[отличном, состоянии, комплекте, зарядник, кабель, обмена]</td>\n",
       "    </tr>\n",
       "    <tr>\n",
       "      <th>3</th>\n",
       "      <td>[отличный, подарок, новый, китайской, apple, новый, упаковке, коробку, вместе, вскроем, экран, 5, дюймов, 1080p, sharpjdi, ogs, возможно, использование, перчатках, цвет, корпуса, белый, материалы, корпуса, пластик, металл, стекло, процессор, qualcomm, snapdragon, 801, 8x74ac, 25ггц, видео, adreno, 330, 578, мгц, озу, 3гб, lpddr3, 933мгц, память, 16гб, emmc, 50, камера, задняя, 13мп, sony, imx214, f18, 6, линз, камера, передняя, 8мп, sony, imx219, f18, 5, линз, wifi, 80211, abgnac, 245ггц, bluetooth, 40, навигация, gpsglonass, сенсоры, икпорт, датчик, освещенности, барометр, компас, датчик, силы, тяжести, симкарта, microsim, аккумулятор, 3080, мач, быстрая, зарядка, 9v12a, 5v2a, дополнительно, поддержка, smart, cover, case, ширина, 685, мм, высота, 1392, мм, толщина, ...]</td>\n",
       "      <td>[отличный, подарок, новый, китайской, apple, новый, упаковке, коробку, вместе, вскроем, экран, 5, дюймов, 1080p, sharpjdi, ogs, возможно, использование, перчатках, цвет, корпуса, белый, материалы, корпуса, пластик, металл, стекло, процессор, qualcomm, snapdragon, 801, 8x74ac, 25ггц, видео, adreno, 330, 578, мгц, озу, 3гб, lpddr3, 933мгц, память, 16гб, emmc, 50, камера, задняя, 13мп, sony, imx214, f18, 6, линз, камера, передняя, 8мп, sony, imx219, f18, 5, линз, wifi, 80211, abgnac, 245ггц, bluetooth, 40, навигация, gpsglonass, сенсоры, икпорт, датчик, освещенности, барометр, компас, датчик, силы, тяжести, симкарта, microsim, аккумулятор, 3080, мач, быстрая, зарядка, 9v12a, 5v2a, дополнительно, поддержка, smart, cover, case, ширина, 685, мм, высота, 1392, мм, толщина, ...]</td>\n",
       "    </tr>\n",
       "    <tr>\n",
       "      <th>4</th>\n",
       "      <td>[лыжные, ботинки, хорошем, состоянии, 34, размер]</td>\n",
       "      <td>[ботинки, 34, размер, хорошем, состоянии]</td>\n",
       "    </tr>\n",
       "  </tbody>\n",
       "</table>\n",
       "</div>"
      ],
      "text/plain": [
       "                                                                                                                                                                                                                                                                                                                                                                                                                                                                                                                                                                                                                                                                                                                                                                                             description_x_clean  \\\n",
       "0  [продам, камаз, 6520, 20, тонн]                                                                                                                                                                                                                                                                                                                                                                                                                                                                                                                                                                                                                                                                                                                                                                                 \n",
       "1  [тюнинге]                                                                                                                                                                                                                                                                                                                                                                                                                                                                                                                                                                                                                                                                                                                                                                                                       \n",
       "2  [телефон, хорошем, состоянии, трещин, сколов, менялся, аккумуляторпоэтому, заряд, держит, остальное, родное, целом, работает, отлично, комплекте, кабель, обмен, интересен, лежит, дела, продажа]                                                                                                                                                                                                                                                                                                                                                                                                                                                                                                                                                                                                               \n",
       "3  [отличный, подарок, новый, китайской, apple, новый, упаковке, коробку, вместе, вскроем, экран, 5, дюймов, 1080p, sharpjdi, ogs, возможно, использование, перчатках, цвет, корпуса, белый, материалы, корпуса, пластик, металл, стекло, процессор, qualcomm, snapdragon, 801, 8x74ac, 25ггц, видео, adreno, 330, 578, мгц, озу, 3гб, lpddr3, 933мгц, память, 16гб, emmc, 50, камера, задняя, 13мп, sony, imx214, f18, 6, линз, камера, передняя, 8мп, sony, imx219, f18, 5, линз, wifi, 80211, abgnac, 245ггц, bluetooth, 40, навигация, gpsglonass, сенсоры, икпорт, датчик, освещенности, барометр, компас, датчик, силы, тяжести, симкарта, microsim, аккумулятор, 3080, мач, быстрая, зарядка, 9v12a, 5v2a, дополнительно, поддержка, smart, cover, case, ширина, 685, мм, высота, 1392, мм, толщина, ...]   \n",
       "4  [лыжные, ботинки, хорошем, состоянии, 34, размер]                                                                                                                                                                                                                                                                                                                                                                                                                                                                                                                                                                                                                                                                                                                                                               \n",
       "\n",
       "                                                                                                                                                                                                                                                                                                                                                                                                                                                                                                                                                                                                                                                                                                                                                                                             description_y_clean  \n",
       "0  [продам, камаз, 6520, 20, тонн]                                                                                                                                                                                                                                                                                                                                                                                                                                                                                                                                                                                                                                                                                                                                                                                \n",
       "1  [тюнинге, возможен, торг]                                                                                                                                                                                                                                                                                                                                                                                                                                                                                                                                                                                                                                                                                                                                                                                      \n",
       "2  [отличном, состоянии, комплекте, зарядник, кабель, обмена]                                                                                                                                                                                                                                                                                                                                                                                                                                                                                                                                                                                                                                                                                                                                                     \n",
       "3  [отличный, подарок, новый, китайской, apple, новый, упаковке, коробку, вместе, вскроем, экран, 5, дюймов, 1080p, sharpjdi, ogs, возможно, использование, перчатках, цвет, корпуса, белый, материалы, корпуса, пластик, металл, стекло, процессор, qualcomm, snapdragon, 801, 8x74ac, 25ггц, видео, adreno, 330, 578, мгц, озу, 3гб, lpddr3, 933мгц, память, 16гб, emmc, 50, камера, задняя, 13мп, sony, imx214, f18, 6, линз, камера, передняя, 8мп, sony, imx219, f18, 5, линз, wifi, 80211, abgnac, 245ггц, bluetooth, 40, навигация, gpsglonass, сенсоры, икпорт, датчик, освещенности, барометр, компас, датчик, силы, тяжести, симкарта, microsim, аккумулятор, 3080, мач, быстрая, зарядка, 9v12a, 5v2a, дополнительно, поддержка, smart, cover, case, ширина, 685, мм, высота, 1392, мм, толщина, ...]  \n",
       "4  [ботинки, 34, размер, хорошем, состоянии]                                                                                                                                                                                                                                                                                                                                                                                                                                                                                                                                                                                                                                                                                                                                                                      "
      ]
     },
     "execution_count": 29,
     "metadata": {},
     "output_type": "execute_result"
    }
   ],
   "source": [
    "df.head()"
   ]
  },
  {
   "cell_type": "code",
   "execution_count": 52,
   "metadata": {},
   "outputs": [
    {
     "data": {
      "text/plain": [
       "[u'\\u043f\\u0440\\u043e\\u0434\\u0430\\u043c',\n",
       " u'\\u043a\\u0432\\u0430\\u0434\\u0440',\n",
       " u'450\\u043a',\n",
       " u'\\u0438\\u0434\\u0435\\u0430\\u043b\\u044c\\u043d\\u043e\\u0435',\n",
       " u'\\u0441\\u043e\\u0441\\u0442\\u043e\\u044f\\u043d\\u0438\\u0435\\u043f\\u0440\\u0430\\u043a\\u0442\\u0438\\u0447\\u0435\\u0441\\u043a\\u0438',\n",
       " u'\\u0438\\u0441\\u043f\\u043e\\u043b\\u044c\\u0437\\u043e\\u0432\\u0430\\u043b\\u0441\\u044f',\n",
       " u'\\u0441\\u043e\\u0441\\u0442',\n",
       " u'\\u043d\\u043e\\u0432\\u043e\\u0433\\u043e',\n",
       " u'\\u0442\\u043e\\u0440\\u0433',\n",
       " u'\\u043e\\u0441\\u043c\\u043e\\u0442\\u0440\\u0435',\n",
       " u'\\u043f\\u0440\\u0438\\u0447\\u0438\\u043d\\u0430',\n",
       " u'\\u043f\\u0440\\u043e\\u0434\\u0430\\u0436\\u0438',\n",
       " u'\\u043f\\u043e\\u043a\\u0443\\u043f\\u043a\\u0430',\n",
       " u'\\u043d\\u0435\\u0434\\u0432\\u0438\\u0436\\u0438\\u043c\\u043e\\u0441\\u0442\\u0438']"
      ]
     },
     "execution_count": 52,
     "metadata": {},
     "output_type": "execute_result"
    }
   ],
   "source": [
    "df['description_x_clean'][3]"
   ]
  },
  {
   "cell_type": "markdown",
   "metadata": {},
   "source": [
    "### Word2Vec \n",
    "- compute similarity between 2 documents (`description`)"
   ]
  },
  {
   "cell_type": "code",
   "execution_count": 30,
   "metadata": {
    "scrolled": true
   },
   "outputs": [],
   "source": [
    "from gensim import models, similarities"
   ]
  },
  {
   "cell_type": "code",
   "execution_count": 26,
   "metadata": {},
   "outputs": [
    {
     "data": {
      "text/plain": [
       "0.40369551381375496"
      ]
     },
     "execution_count": 26,
     "metadata": {},
     "output_type": "execute_result"
    }
   ],
   "source": [
    "# model_new.wv.similarity('продам','размер')"
   ]
  },
  {
   "cell_type": "code",
   "execution_count": 18,
   "metadata": {
    "collapsed": true
   },
   "outputs": [],
   "source": [
    "model_doc = models.doc2vec.Doc2Vec.load('description_doc')"
   ]
  },
  {
   "cell_type": "code",
   "execution_count": 31,
   "metadata": {
    "collapsed": true
   },
   "outputs": [],
   "source": [
    "model_word = models.word2vec.Word2Vec.load('description_2vec.model')"
   ]
  },
  {
   "cell_type": "code",
   "execution_count": 32,
   "metadata": {
    "collapsed": true
   },
   "outputs": [],
   "source": [
    "def remove_unknown_words(row):\n",
    "    sent=[]\n",
    "    for word in row:\n",
    "        if word in set(model_word.wv.index2word):\n",
    "            sent.append(word)\n",
    "    return sent"
   ]
  },
  {
   "cell_type": "code",
   "execution_count": 37,
   "metadata": {},
   "outputs": [],
   "source": [
    "def doc_sim(df):\n",
    "    try:\n",
    "        return model_word.n_similarity(df['description_x_clean']\n",
    "                                  ,df['description_y_clean'])\n",
    "    except:\n",
    "        pass\n",
    "#         return model_word.n_similarity(remove_unknown_words(df['description_x_clean']),\n",
    "#                                        remove_unknown_words(df['description_y_clean']))"
   ]
  },
  {
   "cell_type": "code",
   "execution_count": 38,
   "metadata": {
    "collapsed": true
   },
   "outputs": [],
   "source": [
    "df['description_similarity'] = df[['description_x_clean','description_y_clean']].apply(doc_sim,axis=1)                                                                           "
   ]
  },
  {
   "cell_type": "code",
   "execution_count": 39,
   "metadata": {},
   "outputs": [
    {
     "data": {
      "text/plain": [
       "1"
      ]
     },
     "execution_count": 39,
     "metadata": {},
     "output_type": "execute_result"
    }
   ],
   "source": [
    "df.description_similarity.isnull().sum() "
   ]
  },
  {
   "cell_type": "code",
   "execution_count": 40,
   "metadata": {},
   "outputs": [
    {
     "data": {
      "text/plain": [
       "10"
      ]
     },
     "execution_count": 40,
     "metadata": {},
     "output_type": "execute_result"
    }
   ],
   "source": [
    "len(df)"
   ]
  }
 ],
 "metadata": {
  "kernelspec": {
   "display_name": "Python 2",
   "language": "python",
   "name": "python2"
  },
  "language_info": {
   "codemirror_mode": {
    "name": "ipython",
    "version": 2
   },
   "file_extension": ".py",
   "mimetype": "text/x-python",
   "name": "python",
   "nbconvert_exporter": "python",
   "pygments_lexer": "ipython2",
   "version": "2.7.13"
  }
 },
 "nbformat": 4,
 "nbformat_minor": 2
}
