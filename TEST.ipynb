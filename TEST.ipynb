{
 "cells": [
  {
   "cell_type": "code",
   "execution_count": 15,
   "metadata": {
    "collapsed": true
   },
   "outputs": [],
   "source": [
    "from __future__ import unicode_literals\n",
    "import pandas as pd\n",
    "from gensim import models, similarities"
   ]
  },
  {
   "cell_type": "code",
   "execution_count": 6,
   "metadata": {
    "collapsed": true
   },
   "outputs": [],
   "source": [
    "filepath = '~/Documents/Avito/'\n",
    "item_info = pd.read_csv(filepath+'ItemInfo_train.csv', \n",
    "                        usecols=['itemID','description'],\n",
    "                       encoding='utf-8')\n",
    "\n",
    "item_pairs = pd.read_csv(filepath+'ItemPairs_train.csv',\n",
    "                         usecols = ['itemID_1','itemID_2'])"
   ]
  },
  {
   "cell_type": "code",
   "execution_count": 7,
   "metadata": {
    "collapsed": true
   },
   "outputs": [],
   "source": [
    "item_pairs.rename(columns={'itemID_1':'itemID'}, inplace=True)"
   ]
  },
  {
   "cell_type": "code",
   "execution_count": 8,
   "metadata": {
    "collapsed": true
   },
   "outputs": [],
   "source": [
    "df = pd.merge(item_info, item_pairs, on='itemID')"
   ]
  },
  {
   "cell_type": "code",
   "execution_count": 10,
   "metadata": {
    "collapsed": true
   },
   "outputs": [],
   "source": [
    "item_info.rename(columns={'itemID':'itemID_2'}, inplace=True)"
   ]
  },
  {
   "cell_type": "code",
   "execution_count": 12,
   "metadata": {
    "collapsed": true
   },
   "outputs": [],
   "source": [
    "df = pd.merge(df, item_info, on='itemID_2')"
   ]
  },
  {
   "cell_type": "code",
   "execution_count": 13,
   "metadata": {
    "scrolled": true
   },
   "outputs": [
    {
     "data": {
      "text/html": [
       "<div>\n",
       "<style>\n",
       "    .dataframe thead tr:only-child th {\n",
       "        text-align: right;\n",
       "    }\n",
       "\n",
       "    .dataframe thead th {\n",
       "        text-align: left;\n",
       "    }\n",
       "\n",
       "    .dataframe tbody tr th {\n",
       "        vertical-align: top;\n",
       "    }\n",
       "</style>\n",
       "<table border=\"1\" class=\"dataframe\">\n",
       "  <thead>\n",
       "    <tr style=\"text-align: right;\">\n",
       "      <th></th>\n",
       "      <th>itemID</th>\n",
       "      <th>description_x</th>\n",
       "      <th>itemID_2</th>\n",
       "      <th>description_y</th>\n",
       "    </tr>\n",
       "  </thead>\n",
       "  <tbody>\n",
       "    <tr>\n",
       "      <th>0</th>\n",
       "      <td>1</td>\n",
       "      <td>Продам Камаз 6520 20 тонн</td>\n",
       "      <td>4112648</td>\n",
       "      <td>Продам Камаз 6520 20 тонн</td>\n",
       "    </tr>\n",
       "    <tr>\n",
       "      <th>1</th>\n",
       "      <td>3</td>\n",
       "      <td>Весь в тюнинге.</td>\n",
       "      <td>1991275</td>\n",
       "      <td>Весь в тюнинге. Возможен торг</td>\n",
       "    </tr>\n",
       "    <tr>\n",
       "      <th>2</th>\n",
       "      <td>4</td>\n",
       "      <td>Телефон в хорошем состоянии, трещин и сколов н...</td>\n",
       "      <td>1223296</td>\n",
       "      <td>В отличном состоянии, в комплекте зарядник и к...</td>\n",
       "    </tr>\n",
       "    <tr>\n",
       "      <th>3</th>\n",
       "      <td>7</td>\n",
       "      <td>Отличный подарок на новый год от \"китайской ap...</td>\n",
       "      <td>1058851</td>\n",
       "      <td>Отличный подарок на новый год от \"китайской ap...</td>\n",
       "    </tr>\n",
       "    <tr>\n",
       "      <th>4</th>\n",
       "      <td>8</td>\n",
       "      <td>Лыжные ботинки в хорошем состоянии, 34 размер</td>\n",
       "      <td>2161930</td>\n",
       "      <td>Ботинки 34 размер, в хорошем состоянии</td>\n",
       "    </tr>\n",
       "  </tbody>\n",
       "</table>\n",
       "</div>"
      ],
      "text/plain": [
       "   itemID                                      description_x  itemID_2  \\\n",
       "0       1                          Продам Камаз 6520 20 тонн   4112648   \n",
       "1       3                                    Весь в тюнинге.   1991275   \n",
       "2       4  Телефон в хорошем состоянии, трещин и сколов н...   1223296   \n",
       "3       7  Отличный подарок на новый год от \"китайской ap...   1058851   \n",
       "4       8      Лыжные ботинки в хорошем состоянии, 34 размер   2161930   \n",
       "\n",
       "                                       description_y  \n",
       "0                          Продам Камаз 6520 20 тонн  \n",
       "1                      Весь в тюнинге. Возможен торг  \n",
       "2  В отличном состоянии, в комплекте зарядник и к...  \n",
       "3  Отличный подарок на новый год от \"китайской ap...  \n",
       "4             Ботинки 34 размер, в хорошем состоянии  "
      ]
     },
     "execution_count": 13,
     "metadata": {},
     "output_type": "execute_result"
    }
   ],
   "source": [
    "df.head()"
   ]
  },
  {
   "cell_type": "code",
   "execution_count": 22,
   "metadata": {},
   "outputs": [
    {
     "data": {
      "text/plain": [
       "2991396"
      ]
     },
     "execution_count": 22,
     "metadata": {},
     "output_type": "execute_result"
    }
   ],
   "source": [
    "len(df)"
   ]
  },
  {
   "cell_type": "code",
   "execution_count": 16,
   "metadata": {
    "collapsed": true
   },
   "outputs": [],
   "source": [
    "model_word = models.word2vec.Word2Vec.load('description_2vec.model')"
   ]
  },
  {
   "cell_type": "code",
   "execution_count": 21,
   "metadata": {
    "collapsed": true
   },
   "outputs": [],
   "source": [
    "#df.to_csv('ItemInfo_train4.csv',encoding='utf-8',index=False)"
   ]
  }
 ],
 "metadata": {
  "kernelspec": {
   "display_name": "Python 2",
   "language": "python",
   "name": "python2"
  },
  "language_info": {
   "codemirror_mode": {
    "name": "ipython",
    "version": 2
   },
   "file_extension": ".py",
   "mimetype": "text/x-python",
   "name": "python",
   "nbconvert_exporter": "python",
   "pygments_lexer": "ipython2",
   "version": "2.7.13"
  }
 },
 "nbformat": 4,
 "nbformat_minor": 2
}
