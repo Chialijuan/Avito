{
 "cells": [
  {
   "cell_type": "code",
   "execution_count": 3,
   "metadata": {
    "collapsed": true
   },
   "outputs": [],
   "source": [
    "from __future__ import unicode_literals\n",
    "import pandas as pd"
   ]
  },
  {
   "cell_type": "code",
   "execution_count": 4,
   "metadata": {
    "collapsed": true
   },
   "outputs": [],
   "source": [
    "pd.options.display.max_columns = None"
   ]
  },
  {
   "cell_type": "code",
   "execution_count": 13,
   "metadata": {},
   "outputs": [
    {
     "data": {
      "text/html": [
       "<div>\n",
       "<style>\n",
       "    .dataframe thead tr:only-child th {\n",
       "        text-align: right;\n",
       "    }\n",
       "\n",
       "    .dataframe thead th {\n",
       "        text-align: left;\n",
       "    }\n",
       "\n",
       "    .dataframe tbody tr th {\n",
       "        vertical-align: top;\n",
       "    }\n",
       "</style>\n",
       "<table border=\"1\" class=\"dataframe\">\n",
       "  <thead>\n",
       "    <tr style=\"text-align: right;\">\n",
       "      <th></th>\n",
       "      <th>itemID</th>\n",
       "      <th>categoryID</th>\n",
       "      <th>title</th>\n",
       "      <th>description</th>\n",
       "      <th>images_array</th>\n",
       "      <th>attrsJSON</th>\n",
       "      <th>price</th>\n",
       "      <th>locationID</th>\n",
       "      <th>metroID</th>\n",
       "      <th>lat</th>\n",
       "      <th>lon</th>\n",
       "    </tr>\n",
       "  </thead>\n",
       "  <tbody>\n",
       "    <tr>\n",
       "      <th>7</th>\n",
       "      <td>15</td>\n",
       "      <td>32</td>\n",
       "      <td>Телевизор</td>\n",
       "      <td>Телевизоры кинескопные, диагональ от 37 см. до...</td>\n",
       "      <td>11244051, 14467554, 2240467, 5099565, 8002433</td>\n",
       "      <td>{\"Вид товара\":\"Телевизоры и проекторы\"}</td>\n",
       "      <td>1600.0</td>\n",
       "      <td>662810</td>\n",
       "      <td>NaN</td>\n",
       "      <td>57.622434</td>\n",
       "      <td>39.887894</td>\n",
       "    </tr>\n",
       "    <tr>\n",
       "      <th>8</th>\n",
       "      <td>16</td>\n",
       "      <td>27</td>\n",
       "      <td>Шуба мутоновая</td>\n",
       "      <td>качественная, производство Казань, хорошее сос...</td>\n",
       "      <td>11762574, 316289, 4015142</td>\n",
       "      <td>{\"Вид одежды\":\"Женская одежда\", \"Предмет одежд...</td>\n",
       "      <td>1000.0</td>\n",
       "      <td>657600</td>\n",
       "      <td>NaN</td>\n",
       "      <td>56.495116</td>\n",
       "      <td>84.972128</td>\n",
       "    </tr>\n",
       "    <tr>\n",
       "      <th>9</th>\n",
       "      <td>19</td>\n",
       "      <td>88</td>\n",
       "      <td>Массажная накидка Beurer mg</td>\n",
       "      <td>Распродаем остатки. Все модели хиты продаж!!! ...</td>\n",
       "      <td>9722988</td>\n",
       "      <td>{\"Вид товара\":\"Приборы и аксессуары\"}</td>\n",
       "      <td>5000.0</td>\n",
       "      <td>637640</td>\n",
       "      <td>500701.0</td>\n",
       "      <td>55.640538</td>\n",
       "      <td>37.606065</td>\n",
       "    </tr>\n",
       "  </tbody>\n",
       "</table>\n",
       "</div>"
      ],
      "text/plain": [
       "   itemID  categoryID                        title  \\\n",
       "7      15          32                    Телевизор   \n",
       "8      16          27               Шуба мутоновая   \n",
       "9      19          88  Массажная накидка Beurer mg   \n",
       "\n",
       "                                         description  \\\n",
       "7  Телевизоры кинескопные, диагональ от 37 см. до...   \n",
       "8  качественная, производство Казань, хорошее сос...   \n",
       "9  Распродаем остатки. Все модели хиты продаж!!! ...   \n",
       "\n",
       "                                    images_array  \\\n",
       "7  11244051, 14467554, 2240467, 5099565, 8002433   \n",
       "8                      11762574, 316289, 4015142   \n",
       "9                                        9722988   \n",
       "\n",
       "                                           attrsJSON   price  locationID  \\\n",
       "7            {\"Вид товара\":\"Телевизоры и проекторы\"}  1600.0      662810   \n",
       "8  {\"Вид одежды\":\"Женская одежда\", \"Предмет одежд...  1000.0      657600   \n",
       "9              {\"Вид товара\":\"Приборы и аксессуары\"}  5000.0      637640   \n",
       "\n",
       "    metroID        lat        lon  \n",
       "7       NaN  57.622434  39.887894  \n",
       "8       NaN  56.495116  84.972128  \n",
       "9  500701.0  55.640538  37.606065  "
      ]
     },
     "execution_count": 13,
     "metadata": {},
     "output_type": "execute_result"
    }
   ],
   "source": [
    "filepath = '~/Documents/Avito/'\n",
    "item_info = pd.read_csv(filepath+'ItemInfo_train.csv', nrows=10, encoding='utf-8')\n",
    "item_info.tail(3)\n",
    "# item_pairs =pd.read_csv(filepath+'ItemPairs_train.csv', nrows=10, encoding='utf-8')\n",
    "# item_pairs.rename(columns={'itemID_1':'itemID'}, inplace=True)\n",
    "# df = pd.merge(item_info,item_pairs, on='itemID')"
   ]
  },
  {
   "cell_type": "code",
   "execution_count": 6,
   "metadata": {
    "collapsed": true
   },
   "outputs": [],
   "source": [
    "item_infofull = pd.read_csv(filepath+'ItemInfo_train.csv', encoding='utf-8')\n",
    "item_infofull.rename(columns={'itemID':'itemID_2'}, inplace=True)\n",
    "df1 = pd.merge(df,item_infofull, on='itemID_2')"
   ]
  },
  {
   "cell_type": "code",
   "execution_count": 7,
   "metadata": {},
   "outputs": [
    {
     "name": "stderr",
     "output_type": "stream",
     "text": [
      "/home/juan/anaconda2/lib/python2.7/site-packages/ipykernel_launcher.py:3: FutureWarning: pandas.lib is deprecated and will be removed in a future version.\n",
      "You can access infer_dtype as pandas.api.types.infer_dtype\n",
      "  This is separate from the ipykernel package so we can avoid doing imports until\n"
     ]
    },
    {
     "data": {
      "text/plain": [
       "itemID      integer\n",
       "itemID_2    integer\n",
       "title_x     unicode\n",
       "title_y     unicode\n",
       "dtype: object"
      ]
     },
     "execution_count": 7,
     "metadata": {},
     "output_type": "execute_result"
    }
   ],
   "source": [
    "df1.head()\n",
    "df2 = df1[['itemID', 'itemID_2', 'title_x', 'title_y']]\n",
    "df2.apply(lambda x: pd.lib.infer_dtype(x.values))"
   ]
  },
  {
   "cell_type": "markdown",
   "metadata": {},
   "source": [
    "### Fuzzywuzzy \n",
    "\n",
    "AKA Approximate String Matching, finds strings that approximately matches a given pattern. \n",
    "\n",
    "Metric: **Levenshtein** (edit distance) : Number of primitive operations required to convert the string into an exact match"
   ]
  },
  {
   "cell_type": "code",
   "execution_count": 53,
   "metadata": {
    "collapsed": true
   },
   "outputs": [],
   "source": [
    "from fuzzywuzzy import fuzz"
   ]
  },
  {
   "cell_type": "markdown",
   "metadata": {},
   "source": [
    "`token_set_ratio` is used as duplicated ads might contain titles that have duplicated words in a jumbled order"
   ]
  },
  {
   "cell_type": "code",
   "execution_count": 60,
   "metadata": {},
   "outputs": [
    {
     "name": "stderr",
     "output_type": "stream",
     "text": [
      "/home/juan/anaconda2/lib/python2.7/site-packages/ipykernel_launcher.py:1: SettingWithCopyWarning: \n",
      "A value is trying to be set on a copy of a slice from a DataFrame.\n",
      "Try using .loc[row_indexer,col_indexer] = value instead\n",
      "\n",
      "See the caveats in the documentation: http://pandas.pydata.org/pandas-docs/stable/indexing.html#indexing-view-versus-copy\n",
      "  \"\"\"Entry point for launching an IPython kernel.\n"
     ]
    }
   ],
   "source": [
    "df2['fuzz_ratio'] = df2.apply(lambda x: fuzz.token_set_ratio(x['title_x'],x['title_y'])/100.0, axis=1)"
   ]
  },
  {
   "cell_type": "code",
   "execution_count": 61,
   "metadata": {},
   "outputs": [
    {
     "data": {
      "text/plain": [
       "0    1.0\n",
       "1    1.0\n",
       "2    0.9\n",
       "3    1.0\n",
       "4    0.0\n",
       "5    0.0\n",
       "6    1.0\n",
       "7    1.0\n",
       "8    0.0\n",
       "9    0.0\n",
       "Name: fuzz_ratio, dtype: float64"
      ]
     },
     "execution_count": 61,
     "metadata": {},
     "output_type": "execute_result"
    }
   ],
   "source": [
    "df2['fuzz_ratio']"
   ]
  },
  {
   "cell_type": "markdown",
   "metadata": {},
   "source": [
    "### Jellyfish"
   ]
  },
  {
   "cell_type": "code",
   "execution_count": 22,
   "metadata": {
    "collapsed": true
   },
   "outputs": [],
   "source": [
    "import jellyfish"
   ]
  },
  {
   "cell_type": "code",
   "execution_count": 48,
   "metadata": {},
   "outputs": [
    {
     "name": "stderr",
     "output_type": "stream",
     "text": [
      "/home/juan/anaconda2/lib/python2.7/site-packages/ipykernel_launcher.py:2: SettingWithCopyWarning: \n",
      "A value is trying to be set on a copy of a slice from a DataFrame.\n",
      "Try using .loc[row_indexer,col_indexer] = value instead\n",
      "\n",
      "See the caveats in the documentation: http://pandas.pydata.org/pandas-docs/stable/indexing.html#indexing-view-versus-copy\n",
      "  \n",
      "/home/juan/anaconda2/lib/python2.7/site-packages/ipykernel_launcher.py:3: SettingWithCopyWarning: \n",
      "A value is trying to be set on a copy of a slice from a DataFrame.\n",
      "Try using .loc[row_indexer,col_indexer] = value instead\n",
      "\n",
      "See the caveats in the documentation: http://pandas.pydata.org/pandas-docs/stable/indexing.html#indexing-view-versus-copy\n",
      "  This is separate from the ipykernel package so we can avoid doing imports until\n",
      "/home/juan/anaconda2/lib/python2.7/site-packages/ipykernel_launcher.py:4: SettingWithCopyWarning: \n",
      "A value is trying to be set on a copy of a slice from a DataFrame.\n",
      "Try using .loc[row_indexer,col_indexer] = value instead\n",
      "\n",
      "See the caveats in the documentation: http://pandas.pydata.org/pandas-docs/stable/indexing.html#indexing-view-versus-copy\n",
      "  after removing the cwd from sys.path.\n"
     ]
    }
   ],
   "source": [
    "# Omit Hamming; undefined for strings with different length\n",
    "df2['lev_dist'] = df2.apply(lambda x: jellyfish.levenshtein_distance(x['title_x'],x['title_y']), axis=1)                                             \n",
    "df2['jaro_dist'] = df2.apply(lambda x: jellyfish.jaro_distance(x['title_x'], x['title_y']), axis=1)\n",
    "df2['jarow_dist'] = df2.apply(lambda x: jellyfish.jaro_winkler(x['title_x'], x['title_y']), axis=1)"
   ]
  },
  {
   "cell_type": "code",
   "execution_count": 49,
   "metadata": {},
   "outputs": [
    {
     "data": {
      "text/html": [
       "<div>\n",
       "<style>\n",
       "    .dataframe thead tr:only-child th {\n",
       "        text-align: right;\n",
       "    }\n",
       "\n",
       "    .dataframe thead th {\n",
       "        text-align: left;\n",
       "    }\n",
       "\n",
       "    .dataframe tbody tr th {\n",
       "        vertical-align: top;\n",
       "    }\n",
       "</style>\n",
       "<table border=\"1\" class=\"dataframe\">\n",
       "  <thead>\n",
       "    <tr style=\"text-align: right;\">\n",
       "      <th></th>\n",
       "      <th>itemID</th>\n",
       "      <th>itemID_2</th>\n",
       "      <th>title_x</th>\n",
       "      <th>title_y</th>\n",
       "      <th>lev_dist</th>\n",
       "      <th>jaro_dist</th>\n",
       "      <th>jarow_dist</th>\n",
       "    </tr>\n",
       "  </thead>\n",
       "  <tbody>\n",
       "    <tr>\n",
       "      <th>0</th>\n",
       "      <td>1</td>\n",
       "      <td>4112648</td>\n",
       "      <td>Продам Камаз 6520</td>\n",
       "      <td>Продам Камаз 6520</td>\n",
       "      <td>0</td>\n",
       "      <td>1.000000</td>\n",
       "      <td>1.000000</td>\n",
       "    </tr>\n",
       "    <tr>\n",
       "      <th>1</th>\n",
       "      <td>3</td>\n",
       "      <td>1991275</td>\n",
       "      <td>Yamaha r6</td>\n",
       "      <td>Yamaha R6</td>\n",
       "      <td>1</td>\n",
       "      <td>0.925926</td>\n",
       "      <td>0.955556</td>\n",
       "    </tr>\n",
       "    <tr>\n",
       "      <th>2</th>\n",
       "      <td>4</td>\n",
       "      <td>1223296</td>\n",
       "      <td>iPhone 3gs 8gb</td>\n",
       "      <td>iPhone 3gs 32gb</td>\n",
       "      <td>2</td>\n",
       "      <td>0.931746</td>\n",
       "      <td>0.959048</td>\n",
       "    </tr>\n",
       "    <tr>\n",
       "      <th>3</th>\n",
       "      <td>7</td>\n",
       "      <td>1058851</td>\n",
       "      <td>Xiaomi Mi4 3гб RAM + 16гб ROM белый</td>\n",
       "      <td>Смартфон Xiaomi Mi4 3гб RAM + 16гб ROM белый</td>\n",
       "      <td>9</td>\n",
       "      <td>0.788961</td>\n",
       "      <td>0.788961</td>\n",
       "    </tr>\n",
       "    <tr>\n",
       "      <th>4</th>\n",
       "      <td>8</td>\n",
       "      <td>2161930</td>\n",
       "      <td>Лыжные ботинки</td>\n",
       "      <td>Ботинки для лыж</td>\n",
       "      <td>13</td>\n",
       "      <td>0.360317</td>\n",
       "      <td>0.360317</td>\n",
       "    </tr>\n",
       "  </tbody>\n",
       "</table>\n",
       "</div>"
      ],
      "text/plain": [
       "   itemID  itemID_2                              title_x  \\\n",
       "0       1   4112648                    Продам Камаз 6520   \n",
       "1       3   1991275                            Yamaha r6   \n",
       "2       4   1223296                       iPhone 3gs 8gb   \n",
       "3       7   1058851  Xiaomi Mi4 3гб RAM + 16гб ROM белый   \n",
       "4       8   2161930                       Лыжные ботинки   \n",
       "\n",
       "                                        title_y  lev_dist  jaro_dist  \\\n",
       "0                             Продам Камаз 6520         0   1.000000   \n",
       "1                                     Yamaha R6         1   0.925926   \n",
       "2                               iPhone 3gs 32gb         2   0.931746   \n",
       "3  Смартфон Xiaomi Mi4 3гб RAM + 16гб ROM белый         9   0.788961   \n",
       "4                               Ботинки для лыж        13   0.360317   \n",
       "\n",
       "   jarow_dist  \n",
       "0    1.000000  \n",
       "1    0.955556  \n",
       "2    0.959048  \n",
       "3    0.788961  \n",
       "4    0.360317  "
      ]
     },
     "execution_count": 49,
     "metadata": {},
     "output_type": "execute_result"
    }
   ],
   "source": []
  }
 ],
 "metadata": {
  "kernelspec": {
   "display_name": "Python 2",
   "language": "python",
   "name": "python2"
  },
  "language_info": {
   "codemirror_mode": {
    "name": "ipython",
    "version": 2
   },
   "file_extension": ".py",
   "mimetype": "text/x-python",
   "name": "python",
   "nbconvert_exporter": "python",
   "pygments_lexer": "ipython2",
   "version": "2.7.13"
  }
 },
 "nbformat": 4,
 "nbformat_minor": 2
}
