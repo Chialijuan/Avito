{
 "cells": [
  {
   "cell_type": "code",
   "execution_count": 305,
   "metadata": {
    "scrolled": true
   },
   "outputs": [],
   "source": [
    "from __future__ import unicode_literals\n",
    "import pandas as pd\n",
    "import xgboost as xgb\n",
    "from sklearn.model_selection import train_test_split\n",
    "from sklearn.metrics import accuracy_score\n",
    "from sklearn.model_selection import cross_val_score\n",
    "from sklearn.preprocessing import LabelEncoder, OneHotEncoder"
   ]
  },
  {
   "cell_type": "code",
   "execution_count": 2,
   "metadata": {},
   "outputs": [],
   "source": [
    "pd.options.display.max_columns = None\n",
    "pd.options.display.max_colwidth = 1"
   ]
  },
  {
   "cell_type": "code",
   "execution_count": 308,
   "metadata": {},
   "outputs": [
    {
     "name": "stderr",
     "output_type": "stream",
     "text": [
      "/home/juan/anaconda2/lib/python2.7/site-packages/IPython/core/interactiveshell.py:2717: DtypeWarning: Columns (42) have mixed types. Specify dtype option on import or set low_memory=False.\n",
      "  interactivity=interactivity, compiler=compiler, result=result)\n"
     ]
    },
    {
     "ename": "MemoryError",
     "evalue": "",
     "output_type": "error",
     "traceback": [
      "\u001b[0;31m---------------------------------------------------------------------------\u001b[0m",
      "\u001b[0;31mMemoryError\u001b[0m                               Traceback (most recent call last)",
      "\u001b[0;32m<ipython-input-308-1ee276709d95>\u001b[0m in \u001b[0;36m<module>\u001b[0;34m()\u001b[0m\n\u001b[0;32m----> 1\u001b[0;31m \u001b[0mtrain\u001b[0m \u001b[0;34m=\u001b[0m \u001b[0mpd\u001b[0m\u001b[0;34m.\u001b[0m\u001b[0mread_csv\u001b[0m\u001b[0;34m(\u001b[0m\u001b[0;34m'ItemInfo_trainfull.csv'\u001b[0m\u001b[0;34m,\u001b[0m \u001b[0mencoding\u001b[0m\u001b[0;34m=\u001b[0m\u001b[0;34m'utf-8'\u001b[0m\u001b[0;34m)\u001b[0m\u001b[0;34m\u001b[0m\u001b[0m\n\u001b[0m",
      "\u001b[0;32m/home/juan/anaconda2/lib/python2.7/site-packages/pandas/io/parsers.pyc\u001b[0m in \u001b[0;36mparser_f\u001b[0;34m(filepath_or_buffer, sep, delimiter, header, names, index_col, usecols, squeeze, prefix, mangle_dupe_cols, dtype, engine, converters, true_values, false_values, skipinitialspace, skiprows, nrows, na_values, keep_default_na, na_filter, verbose, skip_blank_lines, parse_dates, infer_datetime_format, keep_date_col, date_parser, dayfirst, iterator, chunksize, compression, thousands, decimal, lineterminator, quotechar, quoting, escapechar, comment, encoding, dialect, tupleize_cols, error_bad_lines, warn_bad_lines, skipfooter, skip_footer, doublequote, delim_whitespace, as_recarray, compact_ints, use_unsigned, low_memory, buffer_lines, memory_map, float_precision)\u001b[0m\n\u001b[1;32m    653\u001b[0m                     skip_blank_lines=skip_blank_lines)\n\u001b[1;32m    654\u001b[0m \u001b[0;34m\u001b[0m\u001b[0m\n\u001b[0;32m--> 655\u001b[0;31m         \u001b[0;32mreturn\u001b[0m \u001b[0m_read\u001b[0m\u001b[0;34m(\u001b[0m\u001b[0mfilepath_or_buffer\u001b[0m\u001b[0;34m,\u001b[0m \u001b[0mkwds\u001b[0m\u001b[0;34m)\u001b[0m\u001b[0;34m\u001b[0m\u001b[0m\n\u001b[0m\u001b[1;32m    656\u001b[0m \u001b[0;34m\u001b[0m\u001b[0m\n\u001b[1;32m    657\u001b[0m     \u001b[0mparser_f\u001b[0m\u001b[0;34m.\u001b[0m\u001b[0m__name__\u001b[0m \u001b[0;34m=\u001b[0m \u001b[0mname\u001b[0m\u001b[0;34m\u001b[0m\u001b[0m\n",
      "\u001b[0;32m/home/juan/anaconda2/lib/python2.7/site-packages/pandas/io/parsers.pyc\u001b[0m in \u001b[0;36m_read\u001b[0;34m(filepath_or_buffer, kwds)\u001b[0m\n\u001b[1;32m    409\u001b[0m \u001b[0;34m\u001b[0m\u001b[0m\n\u001b[1;32m    410\u001b[0m     \u001b[0;32mtry\u001b[0m\u001b[0;34m:\u001b[0m\u001b[0;34m\u001b[0m\u001b[0m\n\u001b[0;32m--> 411\u001b[0;31m         \u001b[0mdata\u001b[0m \u001b[0;34m=\u001b[0m \u001b[0mparser\u001b[0m\u001b[0;34m.\u001b[0m\u001b[0mread\u001b[0m\u001b[0;34m(\u001b[0m\u001b[0mnrows\u001b[0m\u001b[0;34m)\u001b[0m\u001b[0;34m\u001b[0m\u001b[0m\n\u001b[0m\u001b[1;32m    412\u001b[0m     \u001b[0;32mfinally\u001b[0m\u001b[0;34m:\u001b[0m\u001b[0;34m\u001b[0m\u001b[0m\n\u001b[1;32m    413\u001b[0m         \u001b[0mparser\u001b[0m\u001b[0;34m.\u001b[0m\u001b[0mclose\u001b[0m\u001b[0;34m(\u001b[0m\u001b[0;34m)\u001b[0m\u001b[0;34m\u001b[0m\u001b[0m\n",
      "\u001b[0;32m/home/juan/anaconda2/lib/python2.7/site-packages/pandas/io/parsers.pyc\u001b[0m in \u001b[0;36mread\u001b[0;34m(self, nrows)\u001b[0m\n\u001b[1;32m    998\u001b[0m             \u001b[0mnew_rows\u001b[0m \u001b[0;34m=\u001b[0m \u001b[0mlen\u001b[0m\u001b[0;34m(\u001b[0m\u001b[0mindex\u001b[0m\u001b[0;34m)\u001b[0m\u001b[0;34m\u001b[0m\u001b[0m\n\u001b[1;32m    999\u001b[0m \u001b[0;34m\u001b[0m\u001b[0m\n\u001b[0;32m-> 1000\u001b[0;31m         \u001b[0mdf\u001b[0m \u001b[0;34m=\u001b[0m \u001b[0mDataFrame\u001b[0m\u001b[0;34m(\u001b[0m\u001b[0mcol_dict\u001b[0m\u001b[0;34m,\u001b[0m \u001b[0mcolumns\u001b[0m\u001b[0;34m=\u001b[0m\u001b[0mcolumns\u001b[0m\u001b[0;34m,\u001b[0m \u001b[0mindex\u001b[0m\u001b[0;34m=\u001b[0m\u001b[0mindex\u001b[0m\u001b[0;34m)\u001b[0m\u001b[0;34m\u001b[0m\u001b[0m\n\u001b[0m\u001b[1;32m   1001\u001b[0m \u001b[0;34m\u001b[0m\u001b[0m\n\u001b[1;32m   1002\u001b[0m         \u001b[0mself\u001b[0m\u001b[0;34m.\u001b[0m\u001b[0m_currow\u001b[0m \u001b[0;34m+=\u001b[0m \u001b[0mnew_rows\u001b[0m\u001b[0;34m\u001b[0m\u001b[0m\n",
      "\u001b[0;32m/home/juan/anaconda2/lib/python2.7/site-packages/pandas/core/frame.pyc\u001b[0m in \u001b[0;36m__init__\u001b[0;34m(self, data, index, columns, dtype, copy)\u001b[0m\n\u001b[1;32m    273\u001b[0m                                  dtype=dtype, copy=copy)\n\u001b[1;32m    274\u001b[0m         \u001b[0;32melif\u001b[0m \u001b[0misinstance\u001b[0m\u001b[0;34m(\u001b[0m\u001b[0mdata\u001b[0m\u001b[0;34m,\u001b[0m \u001b[0mdict\u001b[0m\u001b[0;34m)\u001b[0m\u001b[0;34m:\u001b[0m\u001b[0;34m\u001b[0m\u001b[0m\n\u001b[0;32m--> 275\u001b[0;31m             \u001b[0mmgr\u001b[0m \u001b[0;34m=\u001b[0m \u001b[0mself\u001b[0m\u001b[0;34m.\u001b[0m\u001b[0m_init_dict\u001b[0m\u001b[0;34m(\u001b[0m\u001b[0mdata\u001b[0m\u001b[0;34m,\u001b[0m \u001b[0mindex\u001b[0m\u001b[0;34m,\u001b[0m \u001b[0mcolumns\u001b[0m\u001b[0;34m,\u001b[0m \u001b[0mdtype\u001b[0m\u001b[0;34m=\u001b[0m\u001b[0mdtype\u001b[0m\u001b[0;34m)\u001b[0m\u001b[0;34m\u001b[0m\u001b[0m\n\u001b[0m\u001b[1;32m    276\u001b[0m         \u001b[0;32melif\u001b[0m \u001b[0misinstance\u001b[0m\u001b[0;34m(\u001b[0m\u001b[0mdata\u001b[0m\u001b[0;34m,\u001b[0m \u001b[0mma\u001b[0m\u001b[0;34m.\u001b[0m\u001b[0mMaskedArray\u001b[0m\u001b[0;34m)\u001b[0m\u001b[0;34m:\u001b[0m\u001b[0;34m\u001b[0m\u001b[0m\n\u001b[1;32m    277\u001b[0m             \u001b[0;32mimport\u001b[0m \u001b[0mnumpy\u001b[0m\u001b[0;34m.\u001b[0m\u001b[0mma\u001b[0m\u001b[0;34m.\u001b[0m\u001b[0mmrecords\u001b[0m \u001b[0;32mas\u001b[0m \u001b[0mmrecords\u001b[0m\u001b[0;34m\u001b[0m\u001b[0m\n",
      "\u001b[0;32m/home/juan/anaconda2/lib/python2.7/site-packages/pandas/core/frame.pyc\u001b[0m in \u001b[0;36m_init_dict\u001b[0;34m(self, data, index, columns, dtype)\u001b[0m\n\u001b[1;32m    409\u001b[0m             \u001b[0marrays\u001b[0m \u001b[0;34m=\u001b[0m \u001b[0;34m[\u001b[0m\u001b[0mdata\u001b[0m\u001b[0;34m[\u001b[0m\u001b[0mk\u001b[0m\u001b[0;34m]\u001b[0m \u001b[0;32mfor\u001b[0m \u001b[0mk\u001b[0m \u001b[0;32min\u001b[0m \u001b[0mkeys\u001b[0m\u001b[0;34m]\u001b[0m\u001b[0;34m\u001b[0m\u001b[0m\n\u001b[1;32m    410\u001b[0m \u001b[0;34m\u001b[0m\u001b[0m\n\u001b[0;32m--> 411\u001b[0;31m         \u001b[0;32mreturn\u001b[0m \u001b[0m_arrays_to_mgr\u001b[0m\u001b[0;34m(\u001b[0m\u001b[0marrays\u001b[0m\u001b[0;34m,\u001b[0m \u001b[0mdata_names\u001b[0m\u001b[0;34m,\u001b[0m \u001b[0mindex\u001b[0m\u001b[0;34m,\u001b[0m \u001b[0mcolumns\u001b[0m\u001b[0;34m,\u001b[0m \u001b[0mdtype\u001b[0m\u001b[0;34m=\u001b[0m\u001b[0mdtype\u001b[0m\u001b[0;34m)\u001b[0m\u001b[0;34m\u001b[0m\u001b[0m\n\u001b[0m\u001b[1;32m    412\u001b[0m \u001b[0;34m\u001b[0m\u001b[0m\n\u001b[1;32m    413\u001b[0m     \u001b[0;32mdef\u001b[0m \u001b[0m_init_ndarray\u001b[0m\u001b[0;34m(\u001b[0m\u001b[0mself\u001b[0m\u001b[0;34m,\u001b[0m \u001b[0mvalues\u001b[0m\u001b[0;34m,\u001b[0m \u001b[0mindex\u001b[0m\u001b[0;34m,\u001b[0m \u001b[0mcolumns\u001b[0m\u001b[0;34m,\u001b[0m \u001b[0mdtype\u001b[0m\u001b[0;34m=\u001b[0m\u001b[0mNone\u001b[0m\u001b[0;34m,\u001b[0m \u001b[0mcopy\u001b[0m\u001b[0;34m=\u001b[0m\u001b[0mFalse\u001b[0m\u001b[0;34m)\u001b[0m\u001b[0;34m:\u001b[0m\u001b[0;34m\u001b[0m\u001b[0m\n",
      "\u001b[0;32m/home/juan/anaconda2/lib/python2.7/site-packages/pandas/core/frame.pyc\u001b[0m in \u001b[0;36m_arrays_to_mgr\u001b[0;34m(arrays, arr_names, index, columns, dtype)\u001b[0m\n\u001b[1;32m   5602\u001b[0m     \u001b[0maxes\u001b[0m \u001b[0;34m=\u001b[0m \u001b[0;34m[\u001b[0m\u001b[0m_ensure_index\u001b[0m\u001b[0;34m(\u001b[0m\u001b[0mcolumns\u001b[0m\u001b[0;34m)\u001b[0m\u001b[0;34m,\u001b[0m \u001b[0m_ensure_index\u001b[0m\u001b[0;34m(\u001b[0m\u001b[0mindex\u001b[0m\u001b[0;34m)\u001b[0m\u001b[0;34m]\u001b[0m\u001b[0;34m\u001b[0m\u001b[0m\n\u001b[1;32m   5603\u001b[0m \u001b[0;34m\u001b[0m\u001b[0m\n\u001b[0;32m-> 5604\u001b[0;31m     \u001b[0;32mreturn\u001b[0m \u001b[0mcreate_block_manager_from_arrays\u001b[0m\u001b[0;34m(\u001b[0m\u001b[0marrays\u001b[0m\u001b[0;34m,\u001b[0m \u001b[0marr_names\u001b[0m\u001b[0;34m,\u001b[0m \u001b[0maxes\u001b[0m\u001b[0;34m)\u001b[0m\u001b[0;34m\u001b[0m\u001b[0m\n\u001b[0m\u001b[1;32m   5605\u001b[0m \u001b[0;34m\u001b[0m\u001b[0m\n\u001b[1;32m   5606\u001b[0m \u001b[0;34m\u001b[0m\u001b[0m\n",
      "\u001b[0;32m/home/juan/anaconda2/lib/python2.7/site-packages/pandas/core/internals.pyc\u001b[0m in \u001b[0;36mcreate_block_manager_from_arrays\u001b[0;34m(arrays, names, axes)\u001b[0m\n\u001b[1;32m   4307\u001b[0m \u001b[0;34m\u001b[0m\u001b[0m\n\u001b[1;32m   4308\u001b[0m     \u001b[0;32mtry\u001b[0m\u001b[0;34m:\u001b[0m\u001b[0;34m\u001b[0m\u001b[0m\n\u001b[0;32m-> 4309\u001b[0;31m         \u001b[0mblocks\u001b[0m \u001b[0;34m=\u001b[0m \u001b[0mform_blocks\u001b[0m\u001b[0;34m(\u001b[0m\u001b[0marrays\u001b[0m\u001b[0;34m,\u001b[0m \u001b[0mnames\u001b[0m\u001b[0;34m,\u001b[0m \u001b[0maxes\u001b[0m\u001b[0;34m)\u001b[0m\u001b[0;34m\u001b[0m\u001b[0m\n\u001b[0m\u001b[1;32m   4310\u001b[0m         \u001b[0mmgr\u001b[0m \u001b[0;34m=\u001b[0m \u001b[0mBlockManager\u001b[0m\u001b[0;34m(\u001b[0m\u001b[0mblocks\u001b[0m\u001b[0;34m,\u001b[0m \u001b[0maxes\u001b[0m\u001b[0;34m)\u001b[0m\u001b[0;34m\u001b[0m\u001b[0m\n\u001b[1;32m   4311\u001b[0m         \u001b[0mmgr\u001b[0m\u001b[0;34m.\u001b[0m\u001b[0m_consolidate_inplace\u001b[0m\u001b[0;34m(\u001b[0m\u001b[0;34m)\u001b[0m\u001b[0;34m\u001b[0m\u001b[0m\n",
      "\u001b[0;32m/home/juan/anaconda2/lib/python2.7/site-packages/pandas/core/internals.pyc\u001b[0m in \u001b[0;36mform_blocks\u001b[0;34m(arrays, names, axes)\u001b[0m\n\u001b[1;32m   4399\u001b[0m \u001b[0;34m\u001b[0m\u001b[0m\n\u001b[1;32m   4400\u001b[0m     \u001b[0;32mif\u001b[0m \u001b[0mlen\u001b[0m\u001b[0;34m(\u001b[0m\u001b[0mobject_items\u001b[0m\u001b[0;34m)\u001b[0m \u001b[0;34m>\u001b[0m \u001b[0;36m0\u001b[0m\u001b[0;34m:\u001b[0m\u001b[0;34m\u001b[0m\u001b[0m\n\u001b[0;32m-> 4401\u001b[0;31m         \u001b[0mobject_blocks\u001b[0m \u001b[0;34m=\u001b[0m \u001b[0m_simple_blockify\u001b[0m\u001b[0;34m(\u001b[0m\u001b[0mobject_items\u001b[0m\u001b[0;34m,\u001b[0m \u001b[0mnp\u001b[0m\u001b[0;34m.\u001b[0m\u001b[0mobject_\u001b[0m\u001b[0;34m)\u001b[0m\u001b[0;34m\u001b[0m\u001b[0m\n\u001b[0m\u001b[1;32m   4402\u001b[0m         \u001b[0mblocks\u001b[0m\u001b[0;34m.\u001b[0m\u001b[0mextend\u001b[0m\u001b[0;34m(\u001b[0m\u001b[0mobject_blocks\u001b[0m\u001b[0;34m)\u001b[0m\u001b[0;34m\u001b[0m\u001b[0m\n\u001b[1;32m   4403\u001b[0m \u001b[0;34m\u001b[0m\u001b[0m\n",
      "\u001b[0;32m/home/juan/anaconda2/lib/python2.7/site-packages/pandas/core/internals.pyc\u001b[0m in \u001b[0;36m_simple_blockify\u001b[0;34m(tuples, dtype)\u001b[0m\n\u001b[1;32m   4429\u001b[0m     \u001b[0;32mnot\u001b[0m \u001b[0mNone\u001b[0m\u001b[0;34m,\u001b[0m \u001b[0mcoerce\u001b[0m \u001b[0mto\u001b[0m \u001b[0mthis\u001b[0m \u001b[0mdtype\u001b[0m\u001b[0;34m\u001b[0m\u001b[0m\n\u001b[1;32m   4430\u001b[0m     \"\"\"\n\u001b[0;32m-> 4431\u001b[0;31m     \u001b[0mvalues\u001b[0m\u001b[0;34m,\u001b[0m \u001b[0mplacement\u001b[0m \u001b[0;34m=\u001b[0m \u001b[0m_stack_arrays\u001b[0m\u001b[0;34m(\u001b[0m\u001b[0mtuples\u001b[0m\u001b[0;34m,\u001b[0m \u001b[0mdtype\u001b[0m\u001b[0;34m)\u001b[0m\u001b[0;34m\u001b[0m\u001b[0m\n\u001b[0m\u001b[1;32m   4432\u001b[0m \u001b[0;34m\u001b[0m\u001b[0m\n\u001b[1;32m   4433\u001b[0m     \u001b[0;31m# CHECK DTYPE?\u001b[0m\u001b[0;34m\u001b[0m\u001b[0;34m\u001b[0m\u001b[0m\n",
      "\u001b[0;32m/home/juan/anaconda2/lib/python2.7/site-packages/pandas/core/internals.pyc\u001b[0m in \u001b[0;36m_stack_arrays\u001b[0;34m(tuples, dtype)\u001b[0m\n\u001b[1;32m   4491\u001b[0m     \u001b[0mshape\u001b[0m \u001b[0;34m=\u001b[0m \u001b[0;34m(\u001b[0m\u001b[0mlen\u001b[0m\u001b[0;34m(\u001b[0m\u001b[0marrays\u001b[0m\u001b[0;34m)\u001b[0m\u001b[0;34m,\u001b[0m\u001b[0;34m)\u001b[0m \u001b[0;34m+\u001b[0m \u001b[0m_shape_compat\u001b[0m\u001b[0;34m(\u001b[0m\u001b[0mfirst\u001b[0m\u001b[0;34m)\u001b[0m\u001b[0;34m\u001b[0m\u001b[0m\n\u001b[1;32m   4492\u001b[0m \u001b[0;34m\u001b[0m\u001b[0m\n\u001b[0;32m-> 4493\u001b[0;31m     \u001b[0mstacked\u001b[0m \u001b[0;34m=\u001b[0m \u001b[0mnp\u001b[0m\u001b[0;34m.\u001b[0m\u001b[0mempty\u001b[0m\u001b[0;34m(\u001b[0m\u001b[0mshape\u001b[0m\u001b[0;34m,\u001b[0m \u001b[0mdtype\u001b[0m\u001b[0;34m=\u001b[0m\u001b[0mdtype\u001b[0m\u001b[0;34m)\u001b[0m\u001b[0;34m\u001b[0m\u001b[0m\n\u001b[0m\u001b[1;32m   4494\u001b[0m     \u001b[0;32mfor\u001b[0m \u001b[0mi\u001b[0m\u001b[0;34m,\u001b[0m \u001b[0marr\u001b[0m \u001b[0;32min\u001b[0m \u001b[0menumerate\u001b[0m\u001b[0;34m(\u001b[0m\u001b[0marrays\u001b[0m\u001b[0;34m)\u001b[0m\u001b[0;34m:\u001b[0m\u001b[0;34m\u001b[0m\u001b[0m\n\u001b[1;32m   4495\u001b[0m         \u001b[0mstacked\u001b[0m\u001b[0;34m[\u001b[0m\u001b[0mi\u001b[0m\u001b[0;34m]\u001b[0m \u001b[0;34m=\u001b[0m \u001b[0m_asarray_compat\u001b[0m\u001b[0;34m(\u001b[0m\u001b[0marr\u001b[0m\u001b[0;34m)\u001b[0m\u001b[0;34m\u001b[0m\u001b[0m\n",
      "\u001b[0;31mMemoryError\u001b[0m: "
     ]
    }
   ],
   "source": [
    "train = pd.read_csv('ItemInfo_trainfull.csv', encoding='utf-8')"
   ]
  },
  {
   "cell_type": "code",
   "execution_count": 307,
   "metadata": {},
   "outputs": [
    {
     "data": {
      "text/html": [
       "<div>\n",
       "<style>\n",
       "    .dataframe thead tr:only-child th {\n",
       "        text-align: right;\n",
       "    }\n",
       "\n",
       "    .dataframe thead th {\n",
       "        text-align: left;\n",
       "    }\n",
       "\n",
       "    .dataframe tbody tr th {\n",
       "        vertical-align: top;\n",
       "    }\n",
       "</style>\n",
       "<table border=\"1\" class=\"dataframe\">\n",
       "  <thead>\n",
       "    <tr style=\"text-align: right;\">\n",
       "      <th></th>\n",
       "      <th>itemID</th>\n",
       "      <th>categoryID_x</th>\n",
       "      <th>title_x</th>\n",
       "      <th>description_x</th>\n",
       "      <th>images_array_x</th>\n",
       "      <th>attrsJSON_x</th>\n",
       "      <th>price_x</th>\n",
       "      <th>locationID_x</th>\n",
       "      <th>metroID_x</th>\n",
       "      <th>lat_x</th>\n",
       "      <th>lon_x</th>\n",
       "      <th>itemID_2</th>\n",
       "      <th>isDuplicate</th>\n",
       "      <th>generationMethod</th>\n",
       "      <th>categoryID_y</th>\n",
       "      <th>title_y</th>\n",
       "      <th>description_y</th>\n",
       "      <th>images_array_y</th>\n",
       "      <th>attrsJSON_y</th>\n",
       "      <th>price_y</th>\n",
       "      <th>locationID_y</th>\n",
       "      <th>metroID_y</th>\n",
       "      <th>lat_y</th>\n",
       "      <th>lon_y</th>\n",
       "      <th>parentCategoryID_x</th>\n",
       "      <th>parentCategoryID_y</th>\n",
       "      <th>regionID_x</th>\n",
       "      <th>regionID_y</th>\n",
       "      <th>lendiff_imagearray</th>\n",
       "      <th>priceDifference</th>\n",
       "      <th>latlonDifference</th>\n",
       "      <th>fuzz_ratio</th>\n",
       "      <th>lev_dist</th>\n",
       "      <th>jaro_dist</th>\n",
       "      <th>jarow_dist</th>\n",
       "      <th>description_x_clean</th>\n",
       "      <th>description_y_clean</th>\n",
       "      <th>intersect_BOW</th>\n",
       "      <th>sym_diff_BOW</th>\n",
       "      <th>clusters</th>\n",
       "      <th>desc_sim</th>\n",
       "      <th>City_x</th>\n",
       "      <th>Neighborhood_x</th>\n",
       "      <th>State_x</th>\n",
       "      <th>Street_x</th>\n",
       "      <th>geocodeQuality_x</th>\n",
       "      <th>postalCode_x</th>\n",
       "    </tr>\n",
       "  </thead>\n",
       "  <tbody>\n",
       "    <tr>\n",
       "      <th>0</th>\n",
       "      <td>1</td>\n",
       "      <td>81</td>\n",
       "      <td>Продам Камаз 6520</td>\n",
       "      <td>Продам Камаз 6520 20 тонн</td>\n",
       "      <td>1064094, 5252822, 6645873, 6960145, 9230265</td>\n",
       "      <td>{\"Вид техники\":\"Грузовики\"}</td>\n",
       "      <td>300000.0</td>\n",
       "      <td>648140</td>\n",
       "      <td>NaN</td>\n",
       "      <td>64.686946</td>\n",
       "      <td>30.815924</td>\n",
       "      <td>4112648</td>\n",
       "      <td>1</td>\n",
       "      <td>1</td>\n",
       "      <td>81</td>\n",
       "      <td>Продам Камаз 6520</td>\n",
       "      <td>Продам Камаз 6520 20 тонн</td>\n",
       "      <td>1227519, 1374615, 7072137, 8671835</td>\n",
       "      <td>{\"Вид техники\":\"Грузовики\"}</td>\n",
       "      <td>300000.0</td>\n",
       "      <td>648140</td>\n",
       "      <td>NaN</td>\n",
       "      <td>64.686946</td>\n",
       "      <td>30.815924</td>\n",
       "      <td>1</td>\n",
       "      <td>1</td>\n",
       "      <td>648070</td>\n",
       "      <td>648070</td>\n",
       "      <td>1.0</td>\n",
       "      <td>0.0</td>\n",
       "      <td>0.0</td>\n",
       "      <td>1.0</td>\n",
       "      <td>0</td>\n",
       "      <td>1.000000</td>\n",
       "      <td>1.000000</td>\n",
       "      <td>[продам, камаз, 6520, 20, тонн]</td>\n",
       "      <td>[продам, камаз, 6520, 20, тонн]</td>\n",
       "      <td>[6520, камаз, продам, тонн, 20]</td>\n",
       "      <td>[]</td>\n",
       "      <td>0</td>\n",
       "      <td>1.000000</td>\n",
       "      <td>NaN</td>\n",
       "      <td>NaN</td>\n",
       "      <td>Northwestern Federal District</td>\n",
       "      <td>NaN</td>\n",
       "      <td>STATE</td>\n",
       "      <td>NaN</td>\n",
       "    </tr>\n",
       "    <tr>\n",
       "      <th>1</th>\n",
       "      <td>3</td>\n",
       "      <td>14</td>\n",
       "      <td>Yamaha r6</td>\n",
       "      <td>Весь в тюнинге.</td>\n",
       "      <td>11919573, 14412228, 3204180, 6646877</td>\n",
       "      <td>{\"Вид техники\":\"Мотоциклы\", \"Вид мотоцикла\":\"Спортивные\"}</td>\n",
       "      <td>300000.0</td>\n",
       "      <td>639040</td>\n",
       "      <td>NaN</td>\n",
       "      <td>55.678037</td>\n",
       "      <td>37.256548</td>\n",
       "      <td>1991275</td>\n",
       "      <td>1</td>\n",
       "      <td>1</td>\n",
       "      <td>14</td>\n",
       "      <td>Yamaha R6</td>\n",
       "      <td>Весь в тюнинге. Возможен торг</td>\n",
       "      <td>11068709, 13325040, 13783238, 206652, 9458537</td>\n",
       "      <td>{\"Вид техники\":\"Мотоциклы\", \"Вид мотоцикла\":\"Спортивные\"}</td>\n",
       "      <td>330000.0</td>\n",
       "      <td>639040</td>\n",
       "      <td>NaN</td>\n",
       "      <td>55.678037</td>\n",
       "      <td>37.256548</td>\n",
       "      <td>1</td>\n",
       "      <td>1</td>\n",
       "      <td>637680</td>\n",
       "      <td>637680</td>\n",
       "      <td>1.0</td>\n",
       "      <td>30000.0</td>\n",
       "      <td>0.0</td>\n",
       "      <td>1.0</td>\n",
       "      <td>1</td>\n",
       "      <td>0.925926</td>\n",
       "      <td>0.955556</td>\n",
       "      <td>[тюнинге]</td>\n",
       "      <td>[тюнинге, возможен, торг]</td>\n",
       "      <td>[тюнинге]</td>\n",
       "      <td>[возможен, торг]</td>\n",
       "      <td>0</td>\n",
       "      <td>0.698324</td>\n",
       "      <td>Odintsovo</td>\n",
       "      <td>NaN</td>\n",
       "      <td>Moscow Oblast</td>\n",
       "      <td>Marshala Jhukova Street</td>\n",
       "      <td>STREET</td>\n",
       "      <td>143000</td>\n",
       "    </tr>\n",
       "    <tr>\n",
       "      <th>2</th>\n",
       "      <td>4</td>\n",
       "      <td>84</td>\n",
       "      <td>iPhone 3gs 8gb</td>\n",
       "      <td>Телефон в хорошем состоянии, трещин и сколов нет, за все время менялся только аккумулятор(поэтому заряд держит хорошо), остальное все родное, в целом работает отлично! В комплекте кабель. Обмен не интересен. Лежит без дела, только продажа.</td>\n",
       "      <td>14384831, 6102021</td>\n",
       "      <td>{\"Вид телефона\":\"iPhone\"}</td>\n",
       "      <td>3500.0</td>\n",
       "      <td>640650</td>\n",
       "      <td>NaN</td>\n",
       "      <td>56.239398</td>\n",
       "      <td>43.460458</td>\n",
       "      <td>1223296</td>\n",
       "      <td>0</td>\n",
       "      <td>1</td>\n",
       "      <td>84</td>\n",
       "      <td>iPhone 3gs 32gb</td>\n",
       "      <td>В отличном состоянии, в комплекте зарядник и кабель. Без обмена.</td>\n",
       "      <td>5709245</td>\n",
       "      <td>{\"Вид телефона\":\"iPhone\"}</td>\n",
       "      <td>3500.0</td>\n",
       "      <td>640650</td>\n",
       "      <td>NaN</td>\n",
       "      <td>56.239398</td>\n",
       "      <td>43.460458</td>\n",
       "      <td>6</td>\n",
       "      <td>6</td>\n",
       "      <td>640310</td>\n",
       "      <td>640310</td>\n",
       "      <td>1.0</td>\n",
       "      <td>0.0</td>\n",
       "      <td>0.0</td>\n",
       "      <td>0.9</td>\n",
       "      <td>2</td>\n",
       "      <td>0.931746</td>\n",
       "      <td>0.959048</td>\n",
       "      <td>[телефон, хорошем, состоянии, трещин, сколов, менялся, аккумуляторпоэтому, заряд, держит, остальное, родное, целом, работает, отлично, комплекте, кабель, обмен, интересен, лежит, дела, продажа]</td>\n",
       "      <td>[отличном, состоянии, комплекте, зарядник, кабель, обмена]</td>\n",
       "      <td>[состоянии, комплекте, кабель]</td>\n",
       "      <td>[работает, держит, лежит, зарядник, родное, интересен, менялся, хорошем, обмен, целом, аккумуляторпоэтому, телефон, сколов, остальное, обмена, отлично, заряд, отличном, дела, продажа, трещин]</td>\n",
       "      <td>0</td>\n",
       "      <td>0.902371</td>\n",
       "      <td>Dzerzhinsk</td>\n",
       "      <td>NaN</td>\n",
       "      <td>Nizhny Novgorod Oblast</td>\n",
       "      <td>1 улица Кирова</td>\n",
       "      <td>POINT</td>\n",
       "      <td>606024</td>\n",
       "    </tr>\n",
       "  </tbody>\n",
       "</table>\n",
       "</div>"
      ],
      "text/plain": [
       "   itemID  categoryID_x            title_x  \\\n",
       "0  1       81            Продам Камаз 6520   \n",
       "1  3       14            Yamaha r6           \n",
       "2  4       84            iPhone 3gs 8gb      \n",
       "\n",
       "                                                                                                                                                                                                                                     description_x  \\\n",
       "0  Продам Камаз 6520 20 тонн                                                                                                                                                                                                                         \n",
       "1  Весь в тюнинге.                                                                                                                                                                                                                                   \n",
       "2  Телефон в хорошем состоянии, трещин и сколов нет, за все время менялся только аккумулятор(поэтому заряд держит хорошо), остальное все родное, в целом работает отлично! В комплекте кабель. Обмен не интересен. Лежит без дела, только продажа.   \n",
       "\n",
       "                                images_array_x  \\\n",
       "0  1064094, 5252822, 6645873, 6960145, 9230265   \n",
       "1  11919573, 14412228, 3204180, 6646877          \n",
       "2  14384831, 6102021                             \n",
       "\n",
       "                                                 attrsJSON_x   price_x  \\\n",
       "0  {\"Вид техники\":\"Грузовики\"}                                300000.0   \n",
       "1  {\"Вид техники\":\"Мотоциклы\", \"Вид мотоцикла\":\"Спортивные\"}  300000.0   \n",
       "2  {\"Вид телефона\":\"iPhone\"}                                  3500.0     \n",
       "\n",
       "   locationID_x  metroID_x      lat_x      lon_x  itemID_2  isDuplicate  \\\n",
       "0  648140       NaN         64.686946  30.815924  4112648   1             \n",
       "1  639040       NaN         55.678037  37.256548  1991275   1             \n",
       "2  640650       NaN         56.239398  43.460458  1223296   0             \n",
       "\n",
       "   generationMethod  categoryID_y            title_y  \\\n",
       "0  1                 81            Продам Камаз 6520   \n",
       "1  1                 14            Yamaha R6           \n",
       "2  1                 84            iPhone 3gs 32gb     \n",
       "\n",
       "                                                      description_y  \\\n",
       "0  Продам Камаз 6520 20 тонн                                          \n",
       "1  Весь в тюнинге. Возможен торг                                      \n",
       "2  В отличном состоянии, в комплекте зарядник и кабель. Без обмена.   \n",
       "\n",
       "                                  images_array_y  \\\n",
       "0  1227519, 1374615, 7072137, 8671835              \n",
       "1  11068709, 13325040, 13783238, 206652, 9458537   \n",
       "2  5709245                                         \n",
       "\n",
       "                                                 attrsJSON_y   price_y  \\\n",
       "0  {\"Вид техники\":\"Грузовики\"}                                300000.0   \n",
       "1  {\"Вид техники\":\"Мотоциклы\", \"Вид мотоцикла\":\"Спортивные\"}  330000.0   \n",
       "2  {\"Вид телефона\":\"iPhone\"}                                  3500.0     \n",
       "\n",
       "   locationID_y  metroID_y      lat_y      lon_y  parentCategoryID_x  \\\n",
       "0  648140       NaN         64.686946  30.815924  1                    \n",
       "1  639040       NaN         55.678037  37.256548  1                    \n",
       "2  640650       NaN         56.239398  43.460458  6                    \n",
       "\n",
       "   parentCategoryID_y  regionID_x  regionID_y  lendiff_imagearray  \\\n",
       "0  1                   648070      648070      1.0                  \n",
       "1  1                   637680      637680      1.0                  \n",
       "2  6                   640310      640310      1.0                  \n",
       "\n",
       "   priceDifference  latlonDifference  fuzz_ratio  lev_dist  jaro_dist  \\\n",
       "0  0.0              0.0               1.0         0         1.000000    \n",
       "1  30000.0          0.0               1.0         1         0.925926    \n",
       "2  0.0              0.0               0.9         2         0.931746    \n",
       "\n",
       "   jarow_dist  \\\n",
       "0  1.000000     \n",
       "1  0.955556     \n",
       "2  0.959048     \n",
       "\n",
       "                                                                                                                                                                                 description_x_clean  \\\n",
       "0  [продам, камаз, 6520, 20, тонн]                                                                                                                                                                     \n",
       "1  [тюнинге]                                                                                                                                                                                           \n",
       "2  [телефон, хорошем, состоянии, трещин, сколов, менялся, аккумуляторпоэтому, заряд, держит, остальное, родное, целом, работает, отлично, комплекте, кабель, обмен, интересен, лежит, дела, продажа]   \n",
       "\n",
       "                                          description_y_clean  \\\n",
       "0  [продам, камаз, 6520, 20, тонн]                              \n",
       "1  [тюнинге, возможен, торг]                                    \n",
       "2  [отличном, состоянии, комплекте, зарядник, кабель, обмена]   \n",
       "\n",
       "                     intersect_BOW  \\\n",
       "0  [6520, камаз, продам, тонн, 20]   \n",
       "1  [тюнинге]                         \n",
       "2  [состоянии, комплекте, кабель]    \n",
       "\n",
       "                                                                                                                                                                                      sym_diff_BOW  \\\n",
       "0  []                                                                                                                                                                                                \n",
       "1  [возможен, торг]                                                                                                                                                                                  \n",
       "2  [работает, держит, лежит, зарядник, родное, интересен, менялся, хорошем, обмен, целом, аккумуляторпоэтому, телефон, сколов, остальное, обмена, отлично, заряд, отличном, дела, продажа, трещин]   \n",
       "\n",
       "   clusters  desc_sim      City_x Neighborhood_x  \\\n",
       "0  0         1.000000  NaN         NaN             \n",
       "1  0         0.698324  Odintsovo   NaN             \n",
       "2  0         0.902371  Dzerzhinsk  NaN             \n",
       "\n",
       "                         State_x                 Street_x geocodeQuality_x  \\\n",
       "0  Northwestern Federal District  NaN                      STATE             \n",
       "1  Moscow Oblast                  Marshala Jhukova Street  STREET            \n",
       "2  Nizhny Novgorod Oblast         1 улица Кирова           POINT             \n",
       "\n",
       "  postalCode_x  \n",
       "0  NaN          \n",
       "1  143000       \n",
       "2  606024       "
      ]
     },
     "execution_count": 307,
     "metadata": {},
     "output_type": "execute_result"
    }
   ],
   "source": [
    "train[0:3]"
   ]
  },
  {
   "cell_type": "code",
   "execution_count": 133,
   "metadata": {},
   "outputs": [],
   "source": [
    "# Null values are numerical, impute with zero\n",
    "train = train.fillna(value=0,axis=1)"
   ]
  },
  {
   "cell_type": "code",
   "execution_count": 134,
   "metadata": {},
   "outputs": [],
   "source": [
    "nonnum_columns = [key for key in dict(train.dtypes) if dict(train.dtypes)[key] in ['object']]"
   ]
  },
  {
   "cell_type": "code",
   "execution_count": 48,
   "metadata": {
    "collapsed": true
   },
   "outputs": [],
   "source": [
    "# Memory Error\n",
    "# ohe = OneHotEncoder()"
   ]
  },
  {
   "cell_type": "code",
   "execution_count": 135,
   "metadata": {
    "collapsed": true
   },
   "outputs": [],
   "source": [
    "le = LabelEncoder()"
   ]
  },
  {
   "cell_type": "code",
   "execution_count": 136,
   "metadata": {},
   "outputs": [],
   "source": [
    "for feature in nonnum_columns:\n",
    "    print(feature)\n",
    "    print(type(feature))\n",
    "    print(train[feature])\n",
    "    train[feature] = le.fit_transform(train[feature])"
   ]
  },
  {
   "cell_type": "code",
   "execution_count": 64,
   "metadata": {
    "scrolled": false
   },
   "outputs": [
    {
     "data": {
      "text/html": [
       "<div>\n",
       "<style>\n",
       "    .dataframe thead tr:only-child th {\n",
       "        text-align: right;\n",
       "    }\n",
       "\n",
       "    .dataframe thead th {\n",
       "        text-align: left;\n",
       "    }\n",
       "\n",
       "    .dataframe tbody tr th {\n",
       "        vertical-align: top;\n",
       "    }\n",
       "</style>\n",
       "<table border=\"1\" class=\"dataframe\">\n",
       "  <thead>\n",
       "    <tr style=\"text-align: right;\">\n",
       "      <th></th>\n",
       "      <th>itemID</th>\n",
       "      <th>categoryID_x</th>\n",
       "      <th>title_x</th>\n",
       "      <th>description_x</th>\n",
       "      <th>images_array_x</th>\n",
       "      <th>attrsJSON_x</th>\n",
       "      <th>price_x</th>\n",
       "      <th>locationID_x</th>\n",
       "      <th>metroID_x</th>\n",
       "      <th>lat_x</th>\n",
       "      <th>lon_x</th>\n",
       "      <th>itemID_2</th>\n",
       "      <th>isDuplicate</th>\n",
       "      <th>generationMethod</th>\n",
       "      <th>categoryID_y</th>\n",
       "      <th>title_y</th>\n",
       "      <th>description_y</th>\n",
       "      <th>images_array_y</th>\n",
       "      <th>attrsJSON_y</th>\n",
       "      <th>price_y</th>\n",
       "      <th>locationID_y</th>\n",
       "      <th>metroID_y</th>\n",
       "      <th>lat_y</th>\n",
       "      <th>lon_y</th>\n",
       "      <th>parentCategoryID_x</th>\n",
       "      <th>parentCategoryID_y</th>\n",
       "      <th>regionID_x</th>\n",
       "      <th>regionID_y</th>\n",
       "      <th>lendiff_imagearray</th>\n",
       "      <th>priceDifference</th>\n",
       "      <th>latlonDifference</th>\n",
       "      <th>fuzz_ratio</th>\n",
       "      <th>lev_dist</th>\n",
       "      <th>jaro_dist</th>\n",
       "      <th>jarow_dist</th>\n",
       "      <th>description_x_clean</th>\n",
       "      <th>description_y_clean</th>\n",
       "      <th>intersect_BOW</th>\n",
       "      <th>sym_diff_BOW</th>\n",
       "      <th>clusters</th>\n",
       "      <th>desc_sim</th>\n",
       "      <th>City_x</th>\n",
       "      <th>Neighborhood_x</th>\n",
       "      <th>State_x</th>\n",
       "      <th>Street_x</th>\n",
       "      <th>geocodeQuality_x</th>\n",
       "      <th>postalCode_x</th>\n",
       "    </tr>\n",
       "  </thead>\n",
       "  <tbody>\n",
       "    <tr>\n",
       "      <th>0</th>\n",
       "      <td>0</td>\n",
       "      <td>24</td>\n",
       "      <td>48721</td>\n",
       "      <td>45495</td>\n",
       "      <td>9383</td>\n",
       "      <td>1709</td>\n",
       "      <td>3555</td>\n",
       "      <td>1038</td>\n",
       "      <td>12144</td>\n",
       "      <td>3865</td>\n",
       "      <td>208</td>\n",
       "      <td>92005</td>\n",
       "      <td>1</td>\n",
       "      <td>0</td>\n",
       "      <td>24</td>\n",
       "      <td>76470</td>\n",
       "      <td>74376</td>\n",
       "      <td>45646</td>\n",
       "      <td>2161</td>\n",
       "      <td>5001</td>\n",
       "      <td>1101</td>\n",
       "      <td>12002</td>\n",
       "      <td>4787</td>\n",
       "      <td>285</td>\n",
       "      <td>0</td>\n",
       "      <td>0</td>\n",
       "      <td>49</td>\n",
       "      <td>49</td>\n",
       "      <td>1</td>\n",
       "      <td>0</td>\n",
       "      <td>0</td>\n",
       "      <td>97</td>\n",
       "      <td>0</td>\n",
       "      <td>41458</td>\n",
       "      <td>43671</td>\n",
       "      <td>50229</td>\n",
       "      <td>80978</td>\n",
       "      <td>27445</td>\n",
       "      <td>30685</td>\n",
       "      <td>0</td>\n",
       "      <td>133434</td>\n",
       "      <td>0</td>\n",
       "      <td>0</td>\n",
       "      <td>52</td>\n",
       "      <td>0</td>\n",
       "      <td>5</td>\n",
       "      <td>0</td>\n",
       "    </tr>\n",
       "    <tr>\n",
       "      <th>1</th>\n",
       "      <td>1</td>\n",
       "      <td>3</td>\n",
       "      <td>12191</td>\n",
       "      <td>12749</td>\n",
       "      <td>24192</td>\n",
       "      <td>1719</td>\n",
       "      <td>3555</td>\n",
       "      <td>677</td>\n",
       "      <td>59418</td>\n",
       "      <td>2232</td>\n",
       "      <td>596</td>\n",
       "      <td>43965</td>\n",
       "      <td>1</td>\n",
       "      <td>0</td>\n",
       "      <td>3</td>\n",
       "      <td>18096</td>\n",
       "      <td>21276</td>\n",
       "      <td>24423</td>\n",
       "      <td>2171</td>\n",
       "      <td>5065</td>\n",
       "      <td>719</td>\n",
       "      <td>59212</td>\n",
       "      <td>2794</td>\n",
       "      <td>790</td>\n",
       "      <td>0</td>\n",
       "      <td>0</td>\n",
       "      <td>33</td>\n",
       "      <td>33</td>\n",
       "      <td>1</td>\n",
       "      <td>3455</td>\n",
       "      <td>0</td>\n",
       "      <td>97</td>\n",
       "      <td>1</td>\n",
       "      <td>40534</td>\n",
       "      <td>42689</td>\n",
       "      <td>74736</td>\n",
       "      <td>118171</td>\n",
       "      <td>92899</td>\n",
       "      <td>46493</td>\n",
       "      <td>0</td>\n",
       "      <td>11566</td>\n",
       "      <td>519</td>\n",
       "      <td>0</td>\n",
       "      <td>45</td>\n",
       "      <td>1529</td>\n",
       "      <td>6</td>\n",
       "      <td>298</td>\n",
       "    </tr>\n",
       "    <tr>\n",
       "      <th>2</th>\n",
       "      <td>2</td>\n",
       "      <td>27</td>\n",
       "      <td>12428</td>\n",
       "      <td>67276</td>\n",
       "      <td>43819</td>\n",
       "      <td>1691</td>\n",
       "      <td>1089</td>\n",
       "      <td>762</td>\n",
       "      <td>59417</td>\n",
       "      <td>2835</td>\n",
       "      <td>1961</td>\n",
       "      <td>26226</td>\n",
       "      <td>0</td>\n",
       "      <td>0</td>\n",
       "      <td>27</td>\n",
       "      <td>18438</td>\n",
       "      <td>18208</td>\n",
       "      <td>105216</td>\n",
       "      <td>2143</td>\n",
       "      <td>1414</td>\n",
       "      <td>803</td>\n",
       "      <td>59211</td>\n",
       "      <td>3557</td>\n",
       "      <td>2559</td>\n",
       "      <td>4</td>\n",
       "      <td>4</td>\n",
       "      <td>36</td>\n",
       "      <td>36</td>\n",
       "      <td>1</td>\n",
       "      <td>0</td>\n",
       "      <td>0</td>\n",
       "      <td>87</td>\n",
       "      <td>2</td>\n",
       "      <td>40694</td>\n",
       "      <td>42851</td>\n",
       "      <td>73250</td>\n",
       "      <td>63348</td>\n",
       "      <td>87235</td>\n",
       "      <td>100258</td>\n",
       "      <td>0</td>\n",
       "      <td>63356</td>\n",
       "      <td>168</td>\n",
       "      <td>0</td>\n",
       "      <td>49</td>\n",
       "      <td>29</td>\n",
       "      <td>4</td>\n",
       "      <td>1572</td>\n",
       "    </tr>\n",
       "    <tr>\n",
       "      <th>3</th>\n",
       "      <td>3</td>\n",
       "      <td>27</td>\n",
       "      <td>12118</td>\n",
       "      <td>37653</td>\n",
       "      <td>0</td>\n",
       "      <td>1699</td>\n",
       "      <td>1962</td>\n",
       "      <td>1646</td>\n",
       "      <td>59416</td>\n",
       "      <td>2436</td>\n",
       "      <td>778</td>\n",
       "      <td>22480</td>\n",
       "      <td>1</td>\n",
       "      <td>0</td>\n",
       "      <td>27</td>\n",
       "      <td>87395</td>\n",
       "      <td>61464</td>\n",
       "      <td>115098</td>\n",
       "      <td>2151</td>\n",
       "      <td>2670</td>\n",
       "      <td>1737</td>\n",
       "      <td>59210</td>\n",
       "      <td>3500</td>\n",
       "      <td>2969</td>\n",
       "      <td>4</td>\n",
       "      <td>4</td>\n",
       "      <td>79</td>\n",
       "      <td>79</td>\n",
       "      <td>618</td>\n",
       "      <td>0</td>\n",
       "      <td>7495</td>\n",
       "      <td>97</td>\n",
       "      <td>9</td>\n",
       "      <td>32820</td>\n",
       "      <td>28429</td>\n",
       "      <td>39702</td>\n",
       "      <td>64229</td>\n",
       "      <td>25534</td>\n",
       "      <td>30685</td>\n",
       "      <td>0</td>\n",
       "      <td>133434</td>\n",
       "      <td>751</td>\n",
       "      <td>0</td>\n",
       "      <td>44</td>\n",
       "      <td>770</td>\n",
       "      <td>4</td>\n",
       "      <td>133</td>\n",
       "    </tr>\n",
       "    <tr>\n",
       "      <th>4</th>\n",
       "      <td>4</td>\n",
       "      <td>21</td>\n",
       "      <td>35546</td>\n",
       "      <td>27270</td>\n",
       "      <td>39365</td>\n",
       "      <td>1805</td>\n",
       "      <td>333</td>\n",
       "      <td>131</td>\n",
       "      <td>59415</td>\n",
       "      <td>2436</td>\n",
       "      <td>778</td>\n",
       "      <td>47846</td>\n",
       "      <td>1</td>\n",
       "      <td>0</td>\n",
       "      <td>21</td>\n",
       "      <td>25520</td>\n",
       "      <td>15498</td>\n",
       "      <td>1362</td>\n",
       "      <td>2257</td>\n",
       "      <td>458</td>\n",
       "      <td>145</td>\n",
       "      <td>59209</td>\n",
       "      <td>3058</td>\n",
       "      <td>1026</td>\n",
       "      <td>5</td>\n",
       "      <td>5</td>\n",
       "      <td>8</td>\n",
       "      <td>8</td>\n",
       "      <td>0</td>\n",
       "      <td>100</td>\n",
       "      <td>0</td>\n",
       "      <td>0</td>\n",
       "      <td>13</td>\n",
       "      <td>693</td>\n",
       "      <td>693</td>\n",
       "      <td>27576</td>\n",
       "      <td>16003</td>\n",
       "      <td>35671</td>\n",
       "      <td>71250</td>\n",
       "      <td>0</td>\n",
       "      <td>116113</td>\n",
       "      <td>751</td>\n",
       "      <td>0</td>\n",
       "      <td>44</td>\n",
       "      <td>770</td>\n",
       "      <td>4</td>\n",
       "      <td>133</td>\n",
       "    </tr>\n",
       "  </tbody>\n",
       "</table>\n",
       "</div>"
      ],
      "text/plain": [
       "   itemID  categoryID_x  title_x  description_x  images_array_x  attrsJSON_x  \\\n",
       "0  0       24            48721    45495          9383            1709          \n",
       "1  1       3             12191    12749          24192           1719          \n",
       "2  2       27            12428    67276          43819           1691          \n",
       "3  3       27            12118    37653          0               1699          \n",
       "4  4       21            35546    27270          39365           1805          \n",
       "\n",
       "   price_x  locationID_x  metroID_x  lat_x  lon_x  itemID_2  isDuplicate  \\\n",
       "0  3555     1038          12144      3865   208    92005     1             \n",
       "1  3555     677           59418      2232   596    43965     1             \n",
       "2  1089     762           59417      2835   1961   26226     0             \n",
       "3  1962     1646          59416      2436   778    22480     1             \n",
       "4  333      131           59415      2436   778    47846     1             \n",
       "\n",
       "   generationMethod  categoryID_y  title_y  description_y  images_array_y  \\\n",
       "0  0                 24            76470    74376          45646            \n",
       "1  0                 3             18096    21276          24423            \n",
       "2  0                 27            18438    18208          105216           \n",
       "3  0                 27            87395    61464          115098           \n",
       "4  0                 21            25520    15498          1362             \n",
       "\n",
       "   attrsJSON_y  price_y  locationID_y  metroID_y  lat_y  lon_y  \\\n",
       "0  2161         5001     1101          12002      4787   285     \n",
       "1  2171         5065     719           59212      2794   790     \n",
       "2  2143         1414     803           59211      3557   2559    \n",
       "3  2151         2670     1737          59210      3500   2969    \n",
       "4  2257         458      145           59209      3058   1026    \n",
       "\n",
       "   parentCategoryID_x  parentCategoryID_y  regionID_x  regionID_y  \\\n",
       "0  0                   0                   49          49           \n",
       "1  0                   0                   33          33           \n",
       "2  4                   4                   36          36           \n",
       "3  4                   4                   79          79           \n",
       "4  5                   5                   8           8            \n",
       "\n",
       "   lendiff_imagearray  priceDifference  latlonDifference  fuzz_ratio  \\\n",
       "0  1                   0                0                 97           \n",
       "1  1                   3455             0                 97           \n",
       "2  1                   0                0                 87           \n",
       "3  618                 0                7495              97           \n",
       "4  0                   100              0                 0            \n",
       "\n",
       "   lev_dist  jaro_dist  jarow_dist  description_x_clean  description_y_clean  \\\n",
       "0  0         41458      43671       50229                80978                 \n",
       "1  1         40534      42689       74736                118171                \n",
       "2  2         40694      42851       73250                63348                 \n",
       "3  9         32820      28429       39702                64229                 \n",
       "4  13        693        693         27576                16003                 \n",
       "\n",
       "   intersect_BOW  sym_diff_BOW  clusters  desc_sim  City_x  Neighborhood_x  \\\n",
       "0  27445          30685         0         133434    0       0                \n",
       "1  92899          46493         0         11566     519     0                \n",
       "2  87235          100258        0         63356     168     0                \n",
       "3  25534          30685         0         133434    751     0                \n",
       "4  35671          71250         0         116113    751     0                \n",
       "\n",
       "   State_x  Street_x  geocodeQuality_x  postalCode_x  \n",
       "0  52       0         5                 0             \n",
       "1  45       1529      6                 298           \n",
       "2  49       29        4                 1572          \n",
       "3  44       770       4                 133           \n",
       "4  44       770       4                 133           "
      ]
     },
     "execution_count": 64,
     "metadata": {},
     "output_type": "execute_result"
    }
   ],
   "source": [
    "train.head()"
   ]
  },
  {
   "cell_type": "code",
   "execution_count": null,
   "metadata": {
    "collapsed": true
   },
   "outputs": [],
   "source": [
    "learning_rate': 0.05,\n",
    " u'max_depth': 6,\n",
    " u'min_child_weight': 4,\n",
    " u'n_estimators': 1000"
   ]
  },
  {
   "cell_type": "code",
   "execution_count": 226,
   "metadata": {},
   "outputs": [],
   "source": [
    "model = xgb.XGBClassifier(learning_rate=0.05, max_depth=6, min_child_weight=4, n_estimators=1000)"
   ]
  },
  {
   "cell_type": "code",
   "execution_count": 227,
   "metadata": {},
   "outputs": [],
   "source": [
    "y = train['isDuplicate']\n",
    "x = train.drop('isDuplicate', axis=1)"
   ]
  },
  {
   "cell_type": "code",
   "execution_count": 228,
   "metadata": {},
   "outputs": [],
   "source": [
    "seed = 1\n",
    "test_size = 0.77\n",
    "x_train, x_test, y_train, y_test = train_test_split(x, y, test_size = test_size, random_state = seed)"
   ]
  },
  {
   "cell_type": "code",
   "execution_count": 229,
   "metadata": {},
   "outputs": [
    {
     "data": {
      "text/plain": [
       "(34500, 46)"
      ]
     },
     "execution_count": 229,
     "metadata": {},
     "output_type": "execute_result"
    }
   ],
   "source": [
    "x_train.shape"
   ]
  },
  {
   "cell_type": "code",
   "execution_count": 219,
   "metadata": {},
   "outputs": [
    {
     "data": {
      "text/plain": [
       "(34500,)"
      ]
     },
     "execution_count": 219,
     "metadata": {},
     "output_type": "execute_result"
    }
   ],
   "source": [
    "y_train.shape"
   ]
  },
  {
   "cell_type": "code",
   "execution_count": 230,
   "metadata": {},
   "outputs": [],
   "source": [
    "gbm = model.fit(x_train,y_train)"
   ]
  },
  {
   "cell_type": "code",
   "execution_count": 289,
   "metadata": {
    "scrolled": true
   },
   "outputs": [],
   "source": [
    "pred = gbm.predict(x_test)"
   ]
  },
  {
   "cell_type": "code",
   "execution_count": 291,
   "metadata": {},
   "outputs": [],
   "source": [
    "pred_1 = [round(value) for value in pred]"
   ]
  },
  {
   "cell_type": "code",
   "execution_count": 292,
   "metadata": {
    "collapsed": true
   },
   "outputs": [],
   "source": [
    "accuracy_1 = accuracy_score(y_test, pred_1)"
   ]
  },
  {
   "cell_type": "code",
   "execution_count": 293,
   "metadata": {},
   "outputs": [
    {
     "name": "stdout",
     "output_type": "stream",
     "text": [
      "XGBoost Accuracy: 82.6597402597\n"
     ]
    }
   ],
   "source": [
    "print('XGBoost Accuracy: {}'.format(accuracy_1 * 100.0))"
   ]
  },
  {
   "cell_type": "code",
   "execution_count": 223,
   "metadata": {
    "collapsed": true
   },
   "outputs": [],
   "source": [
    "from sklearn.metrics import roc_auc_score, roc_curve"
   ]
  },
  {
   "cell_type": "code",
   "execution_count": 231,
   "metadata": {},
   "outputs": [
    {
     "data": {
      "text/plain": [
       "0.82142092083349783"
      ]
     },
     "execution_count": 231,
     "metadata": {},
     "output_type": "execute_result"
    }
   ],
   "source": [
    "roc_auc_score(y_test, gbm.predict(x_test))"
   ]
  },
  {
   "cell_type": "code",
   "execution_count": 232,
   "metadata": {
    "collapsed": true
   },
   "outputs": [],
   "source": [
    "import matplotlib.pyplot as plt\n",
    "%matplotlib inline"
   ]
  },
  {
   "cell_type": "code",
   "execution_count": 233,
   "metadata": {
    "collapsed": true
   },
   "outputs": [],
   "source": [
    "fpr, tpr, _ = roc_curve(y_test, gbm.predict(x_test))"
   ]
  },
  {
   "cell_type": "code",
   "execution_count": 234,
   "metadata": {},
   "outputs": [
    {
     "data": {
      "image/png": "[encoded data removed]",
      "text/plain": [
       "<matplotlib.figure.Figure at 0x7f7560237ad0>"
      ]
     },
     "metadata": {},
     "output_type": "display_data"
    }
   ],
   "source": [
    "plt.figure(figsize=(8, 8))\n",
    "lw = 2\n",
    "plt.plot(fpr, tpr, color='darkorange', lw=lw, label='ROC curve')\n",
    "plt.plot([0, 1], [0, 1], color='lightblue', lw=lw, linestyle='--')\n",
    "plt.xlim([0.0, 1.0])\n",
    "plt.ylim([0.0, 1.05])\n",
    "plt.xlabel('False Positive Rate')\n",
    "plt.ylabel('True Positive Rate')\n",
    "plt.title('Receiver operating characteristic example')\n",
    "plt.legend(loc=\"lower right\")\n",
    "plt.show()"
   ]
  },
  {
   "cell_type": "code",
   "execution_count": 255,
   "metadata": {
    "scrolled": true
   },
   "outputs": [
    {
     "name": "stdout",
     "output_type": "stream",
     "text": [
      "[ 0.04412456  0.03011163  0.03965922  0.03284371  0.04618096  0.03440071\n",
      "  0.03075793  0.01210341  0.0092832   0.01844888  0.01856639  0.03598708\n",
      "  0.01204465  0.          0.03824912  0.03301997  0.03202115  0.03128672\n",
      "  0.03078731  0.00787309  0.00881316  0.01780258  0.01759695  0.0123678   0.\n",
      "  0.0023208   0.0020564   0.00884254  0.03187427  0.0109577   0.0173913\n",
      "  0.01941833  0.02943596  0.01028202  0.03854289  0.03058167  0.04847239\n",
      "  0.04353702  0.          0.03149236  0.02364865  0.          0.01051704\n",
      "  0.02547004  0.00155699  0.01927144]\n"
     ]
    }
   ],
   "source": [
    "print(gbm.feature_importances_)"
   ]
  },
  {
   "cell_type": "code",
   "execution_count": 256,
   "metadata": {
    "scrolled": true
   },
   "outputs": [
    {
     "data": {
      "image/png": "[encoded data removed]",
      "text/plain": [
       "<matplotlib.figure.Figure at 0x7f75601976d0>"
      ]
     },
     "metadata": {},
     "output_type": "display_data"
    }
   ],
   "source": [
    "ax = xgb.plot_importance(gbm)\n",
    "fig = ax.figure\n",
    "fig.set_size_inches(15,8)"
   ]
  },
  {
   "cell_type": "markdown",
   "metadata": {},
   "source": [
    "### Use Feature Importance for feature selction"
   ]
  },
  {
   "cell_type": "code",
   "execution_count": 257,
   "metadata": {
    "collapsed": true
   },
   "outputs": [],
   "source": [
    "import numpy as np\n",
    "from sklearn.feature_selection import SelectFromModel"
   ]
  },
  {
   "cell_type": "code",
   "execution_count": 258,
   "metadata": {},
   "outputs": [],
   "source": [
    "thresholds = np.sort(gbm.feature_importances_)"
   ]
  },
  {
   "cell_type": "code",
   "execution_count": 259,
   "metadata": {},
   "outputs": [
    {
     "data": {
      "text/plain": [
       "46"
      ]
     },
     "execution_count": 259,
     "metadata": {},
     "output_type": "execute_result"
    }
   ],
   "source": [
    "len(thresholds)"
   ]
  },
  {
   "cell_type": "code",
   "execution_count": 294,
   "metadata": {},
   "outputs": [
    {
     "name": "stdout",
     "output_type": "stream",
     "text": [
      "Thresh=0.000, n=46, Accuracy: 82.66%\n",
      "Thresh=0.000, n=46, Accuracy: 82.66%\n",
      "Thresh=0.000, n=46, Accuracy: 82.66%\n",
      "Thresh=0.000, n=46, Accuracy: 82.66%\n",
      "Thresh=0.002, n=42, Accuracy: 82.66%\n",
      "Thresh=0.002, n=41, Accuracy: 82.70%\n",
      "Thresh=0.002, n=40, Accuracy: 82.66%\n",
      "Thresh=0.008, n=39, Accuracy: 82.66%\n",
      "Thresh=0.009, n=38, Accuracy: 82.67%\n",
      "Thresh=0.009, n=37, Accuracy: 82.58%\n",
      "Thresh=0.009, n=36, Accuracy: 82.45%\n",
      "Thresh=0.010, n=35, Accuracy: 82.58%\n",
      "Thresh=0.011, n=34, Accuracy: 82.54%\n",
      "Thresh=0.011, n=33, Accuracy: 82.57%\n",
      "Thresh=0.012, n=32, Accuracy: 82.43%\n",
      "Thresh=0.012, n=31, Accuracy: 80.06%\n",
      "Thresh=0.012, n=30, Accuracy: 80.01%\n",
      "Thresh=0.017, n=29, Accuracy: 79.96%\n",
      "Thresh=0.018, n=28, Accuracy: 79.10%\n",
      "Thresh=0.018, n=27, Accuracy: 79.06%\n",
      "Thresh=0.018, n=26, Accuracy: 79.06%\n",
      "Thresh=0.019, n=25, Accuracy: 79.09%\n",
      "Thresh=0.019, n=24, Accuracy: 79.01%\n",
      "Thresh=0.019, n=23, Accuracy: 78.81%\n",
      "Thresh=0.024, n=22, Accuracy: 78.61%\n",
      "Thresh=0.025, n=21, Accuracy: 78.50%\n",
      "Thresh=0.029, n=20, Accuracy: 78.16%\n",
      "Thresh=0.030, n=19, Accuracy: 77.37%\n",
      "Thresh=0.031, n=18, Accuracy: 77.11%\n",
      "Thresh=0.031, n=17, Accuracy: 77.23%\n",
      "Thresh=0.031, n=16, Accuracy: 76.92%\n",
      "Thresh=0.031, n=15, Accuracy: 76.50%\n",
      "Thresh=0.031, n=14, Accuracy: 76.13%\n",
      "Thresh=0.032, n=13, Accuracy: 76.33%\n",
      "Thresh=0.032, n=12, Accuracy: 73.56%\n",
      "Thresh=0.033, n=11, Accuracy: 73.99%\n",
      "Thresh=0.033, n=10, Accuracy: 73.71%\n",
      "Thresh=0.034, n=9, Accuracy: 73.76%\n",
      "Thresh=0.036, n=8, Accuracy: 71.45%\n",
      "Thresh=0.038, n=7, Accuracy: 71.85%\n",
      "Thresh=0.039, n=6, Accuracy: 71.42%\n",
      "Thresh=0.040, n=5, Accuracy: 70.41%\n",
      "Thresh=0.044, n=4, Accuracy: 67.55%\n",
      "Thresh=0.044, n=3, Accuracy: 66.68%\n",
      "Thresh=0.046, n=2, Accuracy: 65.44%\n",
      "Thresh=0.048, n=1, Accuracy: 63.24%\n"
     ]
    }
   ],
   "source": [
    "lst =[]\n",
    "for i, thresh in enumerate(thresholds):\n",
    "#     print('Threshold:{}, {}'.format(thresh, i))\n",
    "    # gbm is prefitted in the above \n",
    "    selection = SelectFromModel(gbm, threshold=thresh, prefit=True)\n",
    "    # Output should be a matrix to input into model, no need to call fit\n",
    "#     print(x_train.shape)\n",
    "    select_x_train = selection.transform(x_train)\n",
    "    \n",
    "    # Train model\n",
    "    selection_model = xgb.XGBClassifier(learning_rate=0.05, max_depth=6, min_child_weight=4, n_estimators=1000)\n",
    "    selection_model.fit(select_x_train, y_train)\n",
    "    \n",
    "    # Evaluate model\n",
    "    select_x_test = selection.transform(x_test)\n",
    "    y_pred = selection_model.predict(select_x_test)\n",
    "    predictions = [round(value) for value in y_pred]\n",
    "    accuracy = accuracy_score(y_test,predictions)\n",
    "    print(\"Thresh=%.3f, n=%d, Accuracy: %.2f%%\" % (thresh, select_x_train.shape[1], accuracy*100.0))\n",
    "\n",
    "    \n",
    "    lst.append(accuracy_score(y_test,predictions))    "
   ]
  },
  {
   "cell_type": "code",
   "execution_count": 295,
   "metadata": {},
   "outputs": [],
   "source": [
    "lst = np.array(lst) \n",
    "feature = np.array(range(0,47))"
   ]
  },
  {
   "cell_type": "code",
   "execution_count": 298,
   "metadata": {
    "scrolled": false
   },
   "outputs": [
    {
     "data": {
      "image/png": "[encoded data removed]",
      "text/plain": [
       "<matplotlib.figure.Figure at 0x7f7560139c50>"
      ]
     },
     "metadata": {},
     "output_type": "display_data"
    }
   ],
   "source": [
    "plt.figure(figsize=(8, 8))\n",
    "plt.plot(lst, color='darkorange', label='Accuracy curve')\n",
    "plt.xlim([0, 47])\n",
    "plt.ylim([0.6, 0.90])\n",
    "plt.grid(True)\n",
    "plt.show()"
   ]
  },
  {
   "cell_type": "markdown",
   "metadata": {},
   "source": [
    "After dropping  more than 15 features, accuracy score starts to drop at a more significant rate."
   ]
  },
  {
   "cell_type": "code",
   "execution_count": 304,
   "metadata": {},
   "outputs": [
    {
     "data": {
      "image/png": "[encoded data removed]",
      "text/plain": [
       "<matplotlib.figure.Figure at 0x7f7560504090>"
      ]
     },
     "metadata": {},
     "output_type": "display_data"
    }
   ],
   "source": [
    "# Zoomed in view\n",
    "plt.figure(figsize=(8, 8))\n",
    "plt.plot(lst, color='darkorange', label='Accuracy curve')\n",
    "plt.xlim([0, 14])\n",
    "plt.ylim([0.824, 0.828])\n",
    "plt.grid(True)\n",
    "plt.show()"
   ]
  },
  {
   "cell_type": "markdown",
   "metadata": {},
   "source": [
    "Optimal number of features to drop: 5 "
   ]
  },
  {
   "cell_type": "markdown",
   "metadata": {},
   "source": [
    "### GridSearchCV"
   ]
  },
  {
   "cell_type": "code",
   "execution_count": 68,
   "metadata": {},
   "outputs": [
    {
     "name": "stderr",
     "output_type": "stream",
     "text": [
      "/home/juan/anaconda2/lib/python2.7/site-packages/sklearn/grid_search.py:43: DeprecationWarning: This module was deprecated in version 0.18 in favor of the model_selection module into which all the refactored classes and functions are moved. This module will be removed in 0.20.\n",
      "  DeprecationWarning)\n"
     ]
    }
   ],
   "source": [
    "from sklearn.grid_search import GridSearchCV"
   ]
  },
  {
   "cell_type": "code",
   "execution_count": 66,
   "metadata": {
    "collapsed": true
   },
   "outputs": [],
   "source": [
    "params = {'learning_rate': [0, 0.01, 0.05, 0.5]\n",
    "         ,'max_depth': [0, 2, 4, 6]\n",
    "         ,'min_child_weight':[4, 7, 11]\n",
    "         ,'n_estimators': [50, 100, 1000, 3000]}"
   ]
  },
  {
   "cell_type": "code",
   "execution_count": 122,
   "metadata": {},
   "outputs": [],
   "source": [
    "xgboost_gridsearch = GridSearchCV(gbm, params, n_jobs=5, scoring='roc_auc')"
   ]
  },
  {
   "cell_type": "code",
   "execution_count": 213,
   "metadata": {},
   "outputs": [
    {
     "data": {
      "text/plain": [
       "GridSearchCV(cv=None, error_score='raise',\n",
       "       estimator=XGBClassifier(base_score=0.5, colsample_bylevel=1, colsample_bytree=1,\n",
       "       gamma=0, learning_rate=0.1, max_delta_step=0, max_depth=3,\n",
       "       min_child_weight=1, missing=None, n_estimators=100, nthread=-1,\n",
       "       objective='binary:logistic', reg_alpha=0, reg_lambda=1,\n",
       "       scale_pos_weight=1, seed=0, silent=True, subsample=1),\n",
       "       fit_params={}, iid=True, n_jobs=5,\n",
       "       param_grid={u'n_estimators': [50, 100, 1000, 3000], u'learning_rate': [0, 0.01, 0.05, 0.5], u'max_depth': [0, 2, 4, 6], u'min_child_weight': [4, 7, 11]},\n",
       "       pre_dispatch='2*n_jobs', refit=True, scoring=u'roc_auc', verbose=0)"
      ]
     },
     "execution_count": 213,
     "metadata": {},
     "output_type": "execute_result"
    }
   ],
   "source": [
    "xgboost_gridsearch.fit(x_train, y_train)"
   ]
  },
  {
   "cell_type": "code",
   "execution_count": 214,
   "metadata": {},
   "outputs": [
    {
     "data": {
      "text/plain": [
       "0.9028567816429716"
      ]
     },
     "execution_count": 214,
     "metadata": {},
     "output_type": "execute_result"
    }
   ],
   "source": [
    "xgboost_gridsearch.best_score_"
   ]
  },
  {
   "cell_type": "code",
   "execution_count": 225,
   "metadata": {},
   "outputs": [
    {
     "data": {
      "text/plain": [
       "{u'learning_rate': 0.05,\n",
       " u'max_depth': 6,\n",
       " u'min_child_weight': 4,\n",
       " u'n_estimators': 1000}"
      ]
     },
     "execution_count": 225,
     "metadata": {},
     "output_type": "execute_result"
    }
   ],
   "source": [
    "xgboost_gridsearch.best_params_"
   ]
  },
  {
   "cell_type": "markdown",
   "metadata": {},
   "source": [
    "{u'learning_rate': 0.05,\n",
    " u'max_depth': 6,\n",
    " u'min_child_weight': 4,\n",
    " u'n_estimators': 1000}"
   ]
  }
 ],
 "metadata": {
  "kernelspec": {
   "display_name": "Python 2",
   "language": "python",
   "name": "python2"
  },
  "language_info": {
   "codemirror_mode": {
    "name": "ipython",
    "version": 2
   },
   "file_extension": ".py",
   "mimetype": "text/x-python",
   "name": "python",
   "nbconvert_exporter": "python",
   "pygments_lexer": "ipython2",
   "version": "2.7.13"
  }
 },
 "nbformat": 4,
 "nbformat_minor": 2
}
